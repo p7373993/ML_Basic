{
 "cells": [
  {
   "cell_type": "code",
   "execution_count": 9,
   "id": "e8d24875",
   "metadata": {},
   "outputs": [],
   "source": [
    "import numpy as np"
   ]
  },
  {
   "cell_type": "code",
   "execution_count": 10,
   "id": "891d7d19",
   "metadata": {},
   "outputs": [],
   "source": [
    "a1 =np.array([1,2,3])"
   ]
  },
  {
   "cell_type": "code",
   "execution_count": 11,
   "id": "b33c899a",
   "metadata": {},
   "outputs": [
    {
     "data": {
      "text/plain": [
       "np.int64(6)"
      ]
     },
     "execution_count": 11,
     "metadata": {},
     "output_type": "execute_result"
    }
   ],
   "source": [
    "a1.sum()"
   ]
  },
  {
   "cell_type": "markdown",
   "id": "2d88ce69",
   "metadata": {},
   "source": [
    "# Perceptron"
   ]
  },
  {
   "cell_type": "code",
   "execution_count": 12,
   "id": "666effc0",
   "metadata": {},
   "outputs": [],
   "source": [
    "class Perceptron:\n",
    "    #생성자\n",
    "    # thresholds : 임계값, 계산된  에측값을 비교하는\n",
    "    #eta : 학습율\n",
    "    # n_iner : 학습 횟수\n",
    "    def __init__(self, thresholds =0.0, eta=0.01, n_iter=10):\n",
    "        self.thresholds = thresholds\n",
    "        self.eta = eta\n",
    "        self.n_iter = n_iter\n",
    "        \n",
    "    # y = wx +b\n",
    "    # 가중치 * 입력값의 총합 + b 구한다\n",
    "    def net_input(self, X):\n",
    "        a1 = np.dot(X,self.w_[1:]) + self.w_[0]\n",
    "        return a1\n",
    "        \n",
    "    #학습 함수\n",
    "    def fit(self,X,y):\n",
    "        #가중치를 담는 변수 X 의 컬럼수 +1 해서 한자리는 b\n",
    "        self.w_ = np.zeros(X.shape[1]+1)\n",
    "        #예측 값 실제값 비교햇허 다른 값이 나온 수\n",
    "        self.errors_=[]\n",
    "        \n",
    "        for _ in range(self.n_iter):\n",
    "            # 실제 값과 예측값과 차이 난 개수\n",
    "            errors = 0\n",
    "            #입력 받은 X,y 를 하나로 묶는다\n",
    "            temp1 =zip(X,y)\n",
    "            # 입력 값과 결과 값의 묶음을 가지고 반복.\n",
    "            for xi ,target in temp1:\n",
    "                a1 = self.predict(xi)\n",
    "                # 입력 값 ,예측값이 다르면 가중치를 조정한다\n",
    "                if target != a1:\n",
    "                    update = self.eta *(target -a1)\n",
    "                    self.w_[1:] += update * xi\n",
    "                    self.w_[0] +=update\n",
    "                    errors += int(update != 0.0)\n",
    "            # 실제 값과 예측 값이 다른 횟수 기록        \n",
    "            self.errors_.append(errors)\n",
    "    # 예측 값 구하기\n",
    "    def predict(self,X):\n",
    "        a2 = np.where(self.net_input(X)>self.thresholds,1,0)\n",
    "        return a2"
   ]
  },
  {
   "cell_type": "code",
   "execution_count": null,
   "id": "2fd1667c",
   "metadata": {},
   "outputs": [],
   "source": [
    "import time\n",
    "import pickle\n",
    "# AND X' 00 01 10 11\n",
    "# AND y  -1 -1 -1 1\n",
    "def step1_learning(thresholds = 0.0,eta=0.1, n_iter=10):\n",
    "    X = np.array([[0,0],[1,0],[0,1],[1,1]])\n",
    "    y = np.array([0,0,0,1])\n",
    "    ppn = Perceptron(thresholds= thresholds,eta=eta, n_iter=n_iter)\n",
    "    s_time = time.time()\n",
    "    ppn.fit(X,y)\n",
    "    e_time = time.time()\n",
    "    print('학습에 걸린 시간: ',e_time - s_time)\n",
    "    print(\"학습 중에 오차난 수 : \", ppn.errors_)\n",
    "    with open(\"./and_model.pickle\n",
    "              \",\"wb\") as f:\n",
    "        pickle.dump(ppn,f)\n",
    "    print(\"학습이 완료되었습니다.\")"
   ]
  },
  {
   "cell_type": "code",
   "execution_count": 14,
   "id": "4ef1b53f",
   "metadata": {},
   "outputs": [
    {
     "name": "stdout",
     "output_type": "stream",
     "text": [
      "학습에 걸린 시간:  0.001214742660522461\n",
      "학습 중에 오차난 수 :  [1, 1, 1, 1, 1, 1, 1, 0, 0, 0]\n",
      "학습이 완료되었습니다.\n"
     ]
    }
   ],
   "source": [
    "step1_learning(10,.5,10)"
   ]
  },
  {
   "cell_type": "code",
   "execution_count": 15,
   "id": "9f257ff1",
   "metadata": {},
   "outputs": [],
   "source": [
    "def step2_using():\n",
    "    with open(\"./and_model.pickle\",\"rb\") as f:\n",
    "        model = pickle.load(f)\n",
    "        while True:\n",
    "            a1 = input(\"첫 번째 숫자를 입력하세요(0,1)\")\n",
    "            a2 = input(\"두 번째 숫자를 입력하세요(0,1)\")\n",
    "\n",
    "            X=np.array([int(a1),int(a2)])\n",
    "            result = model.predict(X)\n",
    "            if result == 1:\n",
    "                print(\"True\")\n",
    "            else:\n",
    "                print(\"False\")"
   ]
  },
  {
   "cell_type": "code",
   "execution_count": 16,
   "id": "77791723",
   "metadata": {},
   "outputs": [
    {
     "name": "stdout",
     "output_type": "stream",
     "text": [
      "False\n",
      "False\n",
      "False\n",
      "True\n"
     ]
    },
    {
     "ename": "ValueError",
     "evalue": "invalid literal for int() with base 10: ''",
     "output_type": "error",
     "traceback": [
      "\u001b[31m---------------------------------------------------------------------------\u001b[39m",
      "\u001b[31mValueError\u001b[39m                                Traceback (most recent call last)",
      "\u001b[36mCell\u001b[39m\u001b[36m \u001b[39m\u001b[32mIn[16]\u001b[39m\u001b[32m, line 1\u001b[39m\n\u001b[32m----> \u001b[39m\u001b[32m1\u001b[39m \u001b[43mstep2_using\u001b[49m\u001b[43m(\u001b[49m\u001b[43m)\u001b[49m\n",
      "\u001b[36mCell\u001b[39m\u001b[36m \u001b[39m\u001b[32mIn[15]\u001b[39m\u001b[32m, line 8\u001b[39m, in \u001b[36mstep2_using\u001b[39m\u001b[34m()\u001b[39m\n\u001b[32m      5\u001b[39m a1 = \u001b[38;5;28minput\u001b[39m(\u001b[33m\"\u001b[39m\u001b[33m첫 번째 숫자를 입력하세요(0,1)\u001b[39m\u001b[33m\"\u001b[39m)\n\u001b[32m      6\u001b[39m a2 = \u001b[38;5;28minput\u001b[39m(\u001b[33m\"\u001b[39m\u001b[33m두 번째 숫자를 입력하세요(0,1)\u001b[39m\u001b[33m\"\u001b[39m)\n\u001b[32m----> \u001b[39m\u001b[32m8\u001b[39m X=np.array([\u001b[38;5;28;43mint\u001b[39;49m\u001b[43m(\u001b[49m\u001b[43ma1\u001b[49m\u001b[43m)\u001b[49m,\u001b[38;5;28mint\u001b[39m(a2)])\n\u001b[32m      9\u001b[39m result = model.predict(X)\n\u001b[32m     10\u001b[39m \u001b[38;5;28;01mif\u001b[39;00m result == \u001b[32m1\u001b[39m:\n",
      "\u001b[31mValueError\u001b[39m: invalid literal for int() with base 10: ''"
     ]
    }
   ],
   "source": [
    "step2_using()"
   ]
  }
 ],
 "metadata": {
  "kernelspec": {
   "display_name": ".venv",
   "language": "python",
   "name": "python3"
  },
  "language_info": {
   "codemirror_mode": {
    "name": "ipython",
    "version": 3
   },
   "file_extension": ".py",
   "mimetype": "text/x-python",
   "name": "python",
   "nbconvert_exporter": "python",
   "pygments_lexer": "ipython3",
   "version": "3.13.2"
  }
 },
 "nbformat": 4,
 "nbformat_minor": 5
}
