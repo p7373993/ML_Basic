{
 "cells": [
  {
   "cell_type": "code",
   "execution_count": 42,
   "id": "87576676",
   "metadata": {},
   "outputs": [],
   "source": [
    "# 경고(warning) 메시지 비표시 설정\n",
    "import warnings\n",
    "warnings.filterwarnings(\"ignore\")\n",
    "\n",
    "# pandas 라이브러리 불러오기\n",
    "import pandas as pd"
   ]
  },
  {
   "cell_type": "code",
   "execution_count": 43,
   "id": "0a71d7fc",
   "metadata": {},
   "outputs": [
    {
     "data": {
      "text/plain": [
       "log_id         0\n",
       "customer_id    0\n",
       "usedate        0\n",
       "dtype: int64"
      ]
     },
     "execution_count": 43,
     "metadata": {},
     "output_type": "execute_result"
    }
   ],
   "source": [
    "use_log = pd.read_csv(\"./data/use_log.csv\")\n",
    "use_log.isnull().sum()"
   ]
  },
  {
   "cell_type": "code",
   "execution_count": 44,
   "id": "acca64eb",
   "metadata": {},
   "outputs": [
    {
     "data": {
      "text/plain": [
       "customer_id             0\n",
       "name                    0\n",
       "class                   0\n",
       "gender                  0\n",
       "start_date              0\n",
       "end_date             2842\n",
       "campaign_id             0\n",
       "is_deleted              0\n",
       "class_name              0\n",
       "price                   0\n",
       "campaign_name           0\n",
       "mean                    0\n",
       "median                  0\n",
       "max                     0\n",
       "min                     0\n",
       "routine_flg             0\n",
       "calc_date               0\n",
       "membership_period       0\n",
       "dtype: int64"
      ]
     },
     "execution_count": 44,
     "metadata": {},
     "output_type": "execute_result"
    }
   ],
   "source": [
    "customer = pd.read_csv(\"./data/customer_join.csv\")\n",
    "customer.isnull().sum()"
   ]
  },
  {
   "cell_type": "markdown",
   "id": "f2bfe734",
   "metadata": {},
   "source": [
    "# 클러스터링으로 회원을 그룹화하기"
   ]
  },
  {
   "cell_type": "code",
   "execution_count": 45,
   "id": "be308b48",
   "metadata": {},
   "outputs": [
    {
     "data": {
      "text/html": [
       "<div>\n",
       "<style scoped>\n",
       "    .dataframe tbody tr th:only-of-type {\n",
       "        vertical-align: middle;\n",
       "    }\n",
       "\n",
       "    .dataframe tbody tr th {\n",
       "        vertical-align: top;\n",
       "    }\n",
       "\n",
       "    .dataframe thead th {\n",
       "        text-align: right;\n",
       "    }\n",
       "</style>\n",
       "<table border=\"1\" class=\"dataframe\">\n",
       "  <thead>\n",
       "    <tr style=\"text-align: right;\">\n",
       "      <th></th>\n",
       "      <th>mean</th>\n",
       "      <th>median</th>\n",
       "      <th>max</th>\n",
       "      <th>min</th>\n",
       "      <th>membership_period</th>\n",
       "    </tr>\n",
       "  </thead>\n",
       "  <tbody>\n",
       "    <tr>\n",
       "      <th>0</th>\n",
       "      <td>4.833333</td>\n",
       "      <td>5.0</td>\n",
       "      <td>8</td>\n",
       "      <td>2</td>\n",
       "      <td>47</td>\n",
       "    </tr>\n",
       "    <tr>\n",
       "      <th>1</th>\n",
       "      <td>5.083333</td>\n",
       "      <td>5.0</td>\n",
       "      <td>7</td>\n",
       "      <td>3</td>\n",
       "      <td>47</td>\n",
       "    </tr>\n",
       "    <tr>\n",
       "      <th>2</th>\n",
       "      <td>4.583333</td>\n",
       "      <td>5.0</td>\n",
       "      <td>6</td>\n",
       "      <td>3</td>\n",
       "      <td>47</td>\n",
       "    </tr>\n",
       "    <tr>\n",
       "      <th>3</th>\n",
       "      <td>4.833333</td>\n",
       "      <td>4.5</td>\n",
       "      <td>7</td>\n",
       "      <td>2</td>\n",
       "      <td>47</td>\n",
       "    </tr>\n",
       "    <tr>\n",
       "      <th>4</th>\n",
       "      <td>3.916667</td>\n",
       "      <td>4.0</td>\n",
       "      <td>6</td>\n",
       "      <td>1</td>\n",
       "      <td>47</td>\n",
       "    </tr>\n",
       "  </tbody>\n",
       "</table>\n",
       "</div>"
      ],
      "text/plain": [
       "       mean  median  max  min  membership_period\n",
       "0  4.833333     5.0    8    2                 47\n",
       "1  5.083333     5.0    7    3                 47\n",
       "2  4.583333     5.0    6    3                 47\n",
       "3  4.833333     4.5    7    2                 47\n",
       "4  3.916667     4.0    6    1                 47"
      ]
     },
     "execution_count": 45,
     "metadata": {},
     "output_type": "execute_result"
    }
   ],
   "source": [
    "# 한달 이용 이력 데이터\n",
    "customer_clustering = customer[[\"mean\", \"median\", \"max\", \"min\", \"membership_period\"]]\n",
    "customer_clustering.head()"
   ]
  },
  {
   "cell_type": "code",
   "execution_count": 46,
   "id": "a79a2fde",
   "metadata": {},
   "outputs": [],
   "source": [
    "from sklearn.cluster import KMeans\n",
    "from sklearn.preprocessing import StandardScaler\n",
    "sc = StandardScaler()\n",
    "customer_clustering_sc = sc.fit_transform(customer_clustering)"
   ]
  },
  {
   "cell_type": "code",
   "execution_count": 47,
   "id": "642acfbb",
   "metadata": {},
   "outputs": [],
   "source": [
    "kmeans = KMeans(n_clusters=4, random_state=0)\n",
    "clusters = kmeans.fit(customer_clustering_sc)"
   ]
  },
  {
   "cell_type": "code",
   "execution_count": 48,
   "id": "352a428b",
   "metadata": {},
   "outputs": [
    {
     "data": {
      "text/plain": [
       "array([2, 2, 2, ..., 3, 3, 3], shape=(4192,), dtype=int32)"
      ]
     },
     "execution_count": 48,
     "metadata": {},
     "output_type": "execute_result"
    }
   ],
   "source": [
    "clusters.labels_"
   ]
  },
  {
   "cell_type": "code",
   "execution_count": 49,
   "id": "d7347612",
   "metadata": {},
   "outputs": [
    {
     "data": {
      "text/plain": [
       "array([2, 1, 0, 3], dtype=int32)"
      ]
     },
     "execution_count": 49,
     "metadata": {},
     "output_type": "execute_result"
    }
   ],
   "source": [
    "customer_clustering[\"cluster\"] = clusters.labels_\n",
    "customer_clustering[\"cluster\"].unique()"
   ]
  },
  {
   "cell_type": "code",
   "execution_count": 50,
   "id": "7e085a08",
   "metadata": {},
   "outputs": [
    {
     "data": {
      "text/html": [
       "<div>\n",
       "<style scoped>\n",
       "    .dataframe tbody tr th:only-of-type {\n",
       "        vertical-align: middle;\n",
       "    }\n",
       "\n",
       "    .dataframe tbody tr th {\n",
       "        vertical-align: top;\n",
       "    }\n",
       "\n",
       "    .dataframe thead th {\n",
       "        text-align: right;\n",
       "    }\n",
       "</style>\n",
       "<table border=\"1\" class=\"dataframe\">\n",
       "  <thead>\n",
       "    <tr style=\"text-align: right;\">\n",
       "      <th></th>\n",
       "      <th>mean</th>\n",
       "      <th>median</th>\n",
       "      <th>max</th>\n",
       "      <th>min</th>\n",
       "      <th>membership_period</th>\n",
       "      <th>cluster</th>\n",
       "    </tr>\n",
       "  </thead>\n",
       "  <tbody>\n",
       "    <tr>\n",
       "      <th>0</th>\n",
       "      <td>4.833333</td>\n",
       "      <td>5.0</td>\n",
       "      <td>8</td>\n",
       "      <td>2</td>\n",
       "      <td>47</td>\n",
       "      <td>2</td>\n",
       "    </tr>\n",
       "    <tr>\n",
       "      <th>1</th>\n",
       "      <td>5.083333</td>\n",
       "      <td>5.0</td>\n",
       "      <td>7</td>\n",
       "      <td>3</td>\n",
       "      <td>47</td>\n",
       "      <td>2</td>\n",
       "    </tr>\n",
       "    <tr>\n",
       "      <th>2</th>\n",
       "      <td>4.583333</td>\n",
       "      <td>5.0</td>\n",
       "      <td>6</td>\n",
       "      <td>3</td>\n",
       "      <td>47</td>\n",
       "      <td>2</td>\n",
       "    </tr>\n",
       "    <tr>\n",
       "      <th>3</th>\n",
       "      <td>4.833333</td>\n",
       "      <td>4.5</td>\n",
       "      <td>7</td>\n",
       "      <td>2</td>\n",
       "      <td>47</td>\n",
       "      <td>2</td>\n",
       "    </tr>\n",
       "    <tr>\n",
       "      <th>4</th>\n",
       "      <td>3.916667</td>\n",
       "      <td>4.0</td>\n",
       "      <td>6</td>\n",
       "      <td>1</td>\n",
       "      <td>47</td>\n",
       "      <td>2</td>\n",
       "    </tr>\n",
       "  </tbody>\n",
       "</table>\n",
       "</div>"
      ],
      "text/plain": [
       "       mean  median  max  min  membership_period  cluster\n",
       "0  4.833333     5.0    8    2                 47        2\n",
       "1  5.083333     5.0    7    3                 47        2\n",
       "2  4.583333     5.0    6    3                 47        2\n",
       "3  4.833333     4.5    7    2                 47        2\n",
       "4  3.916667     4.0    6    1                 47        2"
      ]
     },
     "execution_count": 50,
     "metadata": {},
     "output_type": "execute_result"
    }
   ],
   "source": [
    "customer_clustering.head()"
   ]
  },
  {
   "cell_type": "markdown",
   "id": "c1b41df5",
   "metadata": {},
   "source": [
    "# 클러스터링 결과 분석"
   ]
  },
  {
   "cell_type": "code",
   "execution_count": 51,
   "id": "2ad81196",
   "metadata": {},
   "outputs": [
    {
     "data": {
      "text/html": [
       "<div>\n",
       "<style scoped>\n",
       "    .dataframe tbody tr th:only-of-type {\n",
       "        vertical-align: middle;\n",
       "    }\n",
       "\n",
       "    .dataframe tbody tr th {\n",
       "        vertical-align: top;\n",
       "    }\n",
       "\n",
       "    .dataframe thead th {\n",
       "        text-align: right;\n",
       "    }\n",
       "</style>\n",
       "<table border=\"1\" class=\"dataframe\">\n",
       "  <thead>\n",
       "    <tr style=\"text-align: right;\">\n",
       "      <th></th>\n",
       "      <th>월평균값</th>\n",
       "      <th>월중앙값</th>\n",
       "      <th>월최댓값</th>\n",
       "      <th>월최솟값</th>\n",
       "      <th>회원기간</th>\n",
       "      <th>cluster</th>\n",
       "    </tr>\n",
       "  </thead>\n",
       "  <tbody>\n",
       "    <tr>\n",
       "      <th>0</th>\n",
       "      <td>4.833333</td>\n",
       "      <td>5.0</td>\n",
       "      <td>8</td>\n",
       "      <td>2</td>\n",
       "      <td>47</td>\n",
       "      <td>2</td>\n",
       "    </tr>\n",
       "    <tr>\n",
       "      <th>1</th>\n",
       "      <td>5.083333</td>\n",
       "      <td>5.0</td>\n",
       "      <td>7</td>\n",
       "      <td>3</td>\n",
       "      <td>47</td>\n",
       "      <td>2</td>\n",
       "    </tr>\n",
       "  </tbody>\n",
       "</table>\n",
       "</div>"
      ],
      "text/plain": [
       "       월평균값  월중앙값  월최댓값  월최솟값  회원기간  cluster\n",
       "0  4.833333   5.0     8     2    47        2\n",
       "1  5.083333   5.0     7     3    47        2"
      ]
     },
     "execution_count": 51,
     "metadata": {},
     "output_type": "execute_result"
    }
   ],
   "source": [
    "customer_clustering.columns = [\"월평균값\", \"월중앙값\", \"월최댓값\", \"월최솟값\", \"회원기간\", \"cluster\"]\n",
    "customer_clustering.head(2)"
   ]
  },
  {
   "cell_type": "code",
   "execution_count": 52,
   "id": "8a0d4820",
   "metadata": {},
   "outputs": [
    {
     "data": {
      "text/html": [
       "<div>\n",
       "<style scoped>\n",
       "    .dataframe tbody tr th:only-of-type {\n",
       "        vertical-align: middle;\n",
       "    }\n",
       "\n",
       "    .dataframe tbody tr th {\n",
       "        vertical-align: top;\n",
       "    }\n",
       "\n",
       "    .dataframe thead th {\n",
       "        text-align: right;\n",
       "    }\n",
       "</style>\n",
       "<table border=\"1\" class=\"dataframe\">\n",
       "  <thead>\n",
       "    <tr style=\"text-align: right;\">\n",
       "      <th></th>\n",
       "      <th>월평균값</th>\n",
       "      <th>월중앙값</th>\n",
       "      <th>월최댓값</th>\n",
       "      <th>월최솟값</th>\n",
       "      <th>회원기간</th>\n",
       "    </tr>\n",
       "    <tr>\n",
       "      <th>cluster</th>\n",
       "      <th></th>\n",
       "      <th></th>\n",
       "      <th></th>\n",
       "      <th></th>\n",
       "      <th></th>\n",
       "    </tr>\n",
       "  </thead>\n",
       "  <tbody>\n",
       "    <tr>\n",
       "      <th>0</th>\n",
       "      <td>1334</td>\n",
       "      <td>1334</td>\n",
       "      <td>1334</td>\n",
       "      <td>1334</td>\n",
       "      <td>1334</td>\n",
       "    </tr>\n",
       "    <tr>\n",
       "      <th>1</th>\n",
       "      <td>771</td>\n",
       "      <td>771</td>\n",
       "      <td>771</td>\n",
       "      <td>771</td>\n",
       "      <td>771</td>\n",
       "    </tr>\n",
       "    <tr>\n",
       "      <th>2</th>\n",
       "      <td>1249</td>\n",
       "      <td>1249</td>\n",
       "      <td>1249</td>\n",
       "      <td>1249</td>\n",
       "      <td>1249</td>\n",
       "    </tr>\n",
       "    <tr>\n",
       "      <th>3</th>\n",
       "      <td>838</td>\n",
       "      <td>838</td>\n",
       "      <td>838</td>\n",
       "      <td>838</td>\n",
       "      <td>838</td>\n",
       "    </tr>\n",
       "  </tbody>\n",
       "</table>\n",
       "</div>"
      ],
      "text/plain": [
       "         월평균값  월중앙값  월최댓값  월최솟값  회원기간\n",
       "cluster                              \n",
       "0        1334  1334  1334  1334  1334\n",
       "1         771   771   771   771   771\n",
       "2        1249  1249  1249  1249  1249\n",
       "3         838   838   838   838   838"
      ]
     },
     "execution_count": 52,
     "metadata": {},
     "output_type": "execute_result"
    }
   ],
   "source": [
    "customer_clustering.groupby(\"cluster\").count()"
   ]
  },
  {
   "cell_type": "code",
   "execution_count": 53,
   "id": "88d8e283",
   "metadata": {},
   "outputs": [
    {
     "data": {
      "text/html": [
       "<div>\n",
       "<style scoped>\n",
       "    .dataframe tbody tr th:only-of-type {\n",
       "        vertical-align: middle;\n",
       "    }\n",
       "\n",
       "    .dataframe tbody tr th {\n",
       "        vertical-align: top;\n",
       "    }\n",
       "\n",
       "    .dataframe thead th {\n",
       "        text-align: right;\n",
       "    }\n",
       "</style>\n",
       "<table border=\"1\" class=\"dataframe\">\n",
       "  <thead>\n",
       "    <tr style=\"text-align: right;\">\n",
       "      <th></th>\n",
       "      <th>월평균값</th>\n",
       "      <th>월중앙값</th>\n",
       "      <th>월최댓값</th>\n",
       "      <th>월최솟값</th>\n",
       "      <th>회원기간</th>\n",
       "    </tr>\n",
       "    <tr>\n",
       "      <th>cluster</th>\n",
       "      <th></th>\n",
       "      <th></th>\n",
       "      <th></th>\n",
       "      <th></th>\n",
       "      <th></th>\n",
       "    </tr>\n",
       "  </thead>\n",
       "  <tbody>\n",
       "    <tr>\n",
       "      <th>0</th>\n",
       "      <td>5.541974</td>\n",
       "      <td>5.392804</td>\n",
       "      <td>8.757871</td>\n",
       "      <td>2.704648</td>\n",
       "      <td>14.857571</td>\n",
       "    </tr>\n",
       "    <tr>\n",
       "      <th>1</th>\n",
       "      <td>3.065504</td>\n",
       "      <td>2.900130</td>\n",
       "      <td>4.783398</td>\n",
       "      <td>1.649805</td>\n",
       "      <td>9.276265</td>\n",
       "    </tr>\n",
       "    <tr>\n",
       "      <th>2</th>\n",
       "      <td>4.677561</td>\n",
       "      <td>4.670937</td>\n",
       "      <td>7.233787</td>\n",
       "      <td>2.153723</td>\n",
       "      <td>36.915933</td>\n",
       "    </tr>\n",
       "    <tr>\n",
       "      <th>3</th>\n",
       "      <td>8.064079</td>\n",
       "      <td>8.050716</td>\n",
       "      <td>10.014320</td>\n",
       "      <td>6.180191</td>\n",
       "      <td>7.016706</td>\n",
       "    </tr>\n",
       "  </tbody>\n",
       "</table>\n",
       "</div>"
      ],
      "text/plain": [
       "             월평균값      월중앙값       월최댓값      월최솟값       회원기간\n",
       "cluster                                                    \n",
       "0        5.541974  5.392804   8.757871  2.704648  14.857571\n",
       "1        3.065504  2.900130   4.783398  1.649805   9.276265\n",
       "2        4.677561  4.670937   7.233787  2.153723  36.915933\n",
       "3        8.064079  8.050716  10.014320  6.180191   7.016706"
      ]
     },
     "execution_count": 53,
     "metadata": {},
     "output_type": "execute_result"
    }
   ],
   "source": [
    "customer_clustering.groupby(\"cluster\").mean()"
   ]
  },
  {
   "cell_type": "markdown",
   "id": "7abf104a",
   "metadata": {},
   "source": [
    "# 군집화 결과 정리  \n",
    "0번 군집 : 월 평균 이용횟수가 5.5번 이고 평균 가입기간이 14.8개월 이다.  \n",
    "1번 군집 : 월 평균 이용횟수가 3.0번 이고 평균 가입기간이 9.2개월 이다. (주요 관리 대상으로 보여진다.)  \n",
    "2번 군집 : 월 평균 이용횟수가 4.6번 이고 평균 가입기간이 36.9개월 이다. (고인물로 보인다.)  \n",
    "3번 군집 : 월 평균 이용회수가 8.0번 이고 평균 가입기간이 7.0개월이다. (신규 회원으로 보인다. 가입뽐프 관리 필요.)  \n",
    "\n",
    "군집의 결과를 분석하면 그룹별로 다른 캠페인을 사용 할 수 있을 것이다.  "
   ]
  },
  {
   "cell_type": "code",
   "execution_count": 54,
   "id": "fbf61263",
   "metadata": {},
   "outputs": [],
   "source": [
    "# 차원 축소를 이용해 시각화 하기.\n",
    "# 5차원 데이터를 2차원으로 축소해서 시각화 진행\n",
    "from sklearn.decomposition import  PCA\n",
    "X = customer_clustering_sc\n",
    "pca = PCA(n_components=2)\n",
    "pca.fit(X)\n",
    "x_pca = pca.transform(X)\n",
    "pca_df = pd.DataFrame(x_pca)"
   ]
  },
  {
   "cell_type": "code",
   "execution_count": 55,
   "id": "944a836f",
   "metadata": {},
   "outputs": [
    {
     "data": {
      "text/html": [
       "<div>\n",
       "<style scoped>\n",
       "    .dataframe tbody tr th:only-of-type {\n",
       "        vertical-align: middle;\n",
       "    }\n",
       "\n",
       "    .dataframe tbody tr th {\n",
       "        vertical-align: top;\n",
       "    }\n",
       "\n",
       "    .dataframe thead th {\n",
       "        text-align: right;\n",
       "    }\n",
       "</style>\n",
       "<table border=\"1\" class=\"dataframe\">\n",
       "  <thead>\n",
       "    <tr style=\"text-align: right;\">\n",
       "      <th></th>\n",
       "      <th>0</th>\n",
       "      <th>1</th>\n",
       "      <th>cluster</th>\n",
       "    </tr>\n",
       "  </thead>\n",
       "  <tbody>\n",
       "    <tr>\n",
       "      <th>0</th>\n",
       "      <td>-0.819982</td>\n",
       "      <td>1.959097</td>\n",
       "      <td>2</td>\n",
       "    </tr>\n",
       "    <tr>\n",
       "      <th>1</th>\n",
       "      <td>-0.707922</td>\n",
       "      <td>1.799857</td>\n",
       "      <td>2</td>\n",
       "    </tr>\n",
       "    <tr>\n",
       "      <th>2</th>\n",
       "      <td>-1.061499</td>\n",
       "      <td>1.659826</td>\n",
       "      <td>2</td>\n",
       "    </tr>\n",
       "    <tr>\n",
       "      <th>3</th>\n",
       "      <td>-1.160764</td>\n",
       "      <td>1.810139</td>\n",
       "      <td>2</td>\n",
       "    </tr>\n",
       "    <tr>\n",
       "      <th>4</th>\n",
       "      <td>-2.017132</td>\n",
       "      <td>1.670101</td>\n",
       "      <td>2</td>\n",
       "    </tr>\n",
       "  </tbody>\n",
       "</table>\n",
       "</div>"
      ],
      "text/plain": [
       "          0         1  cluster\n",
       "0 -0.819982  1.959097        2\n",
       "1 -0.707922  1.799857        2\n",
       "2 -1.061499  1.659826        2\n",
       "3 -1.160764  1.810139        2\n",
       "4 -2.017132  1.670101        2"
      ]
     },
     "execution_count": 55,
     "metadata": {},
     "output_type": "execute_result"
    }
   ],
   "source": [
    "pca_df[\"cluster\"] = customer_clustering[\"cluster\"]\n",
    "pca_df.head()"
   ]
  },
  {
   "cell_type": "code",
   "execution_count": 56,
   "id": "287c997a",
   "metadata": {},
   "outputs": [
    {
     "data": {
      "image/png": "[encoded data removed]",
      "text/plain": [
       "<Figure size 640x480 with 1 Axes>"
      ]
     },
     "metadata": {},
     "output_type": "display_data"
    }
   ],
   "source": [
    "import matplotlib.pyplot as plt\n",
    "for i in customer_clustering[\"cluster\"].unique():\n",
    "  tmp = pca_df.loc[pca_df[\"cluster\"] == i]\n",
    "  plt.scatter(tmp[0], tmp[1])"
   ]
  },
  {
   "cell_type": "markdown",
   "id": "ad3404bc",
   "metadata": {},
   "source": [
    "# 클러스터링 결과를 바탕으로 탈퇴회원 경향을 파악"
   ]
  },
  {
   "cell_type": "code",
   "execution_count": 57,
   "id": "6d017ef2",
   "metadata": {},
   "outputs": [
    {
     "data": {
      "text/html": [
       "<div>\n",
       "<style scoped>\n",
       "    .dataframe tbody tr th:only-of-type {\n",
       "        vertical-align: middle;\n",
       "    }\n",
       "\n",
       "    .dataframe tbody tr th {\n",
       "        vertical-align: top;\n",
       "    }\n",
       "\n",
       "    .dataframe thead th {\n",
       "        text-align: right;\n",
       "    }\n",
       "</style>\n",
       "<table border=\"1\" class=\"dataframe\">\n",
       "  <thead>\n",
       "    <tr style=\"text-align: right;\">\n",
       "      <th></th>\n",
       "      <th>월평균값</th>\n",
       "      <th>월중앙값</th>\n",
       "      <th>월최댓값</th>\n",
       "      <th>월최솟값</th>\n",
       "      <th>회원기간</th>\n",
       "      <th>cluster</th>\n",
       "      <th>customer_id</th>\n",
       "      <th>name</th>\n",
       "      <th>class</th>\n",
       "      <th>gender</th>\n",
       "      <th>...</th>\n",
       "      <th>class_name</th>\n",
       "      <th>price</th>\n",
       "      <th>campaign_name</th>\n",
       "      <th>mean</th>\n",
       "      <th>median</th>\n",
       "      <th>max</th>\n",
       "      <th>min</th>\n",
       "      <th>routine_flg</th>\n",
       "      <th>calc_date</th>\n",
       "      <th>membership_period</th>\n",
       "    </tr>\n",
       "  </thead>\n",
       "  <tbody>\n",
       "    <tr>\n",
       "      <th>0</th>\n",
       "      <td>4.833333</td>\n",
       "      <td>5.0</td>\n",
       "      <td>8</td>\n",
       "      <td>2</td>\n",
       "      <td>47</td>\n",
       "      <td>2</td>\n",
       "      <td>OA832399</td>\n",
       "      <td>XXXX</td>\n",
       "      <td>C01</td>\n",
       "      <td>F</td>\n",
       "      <td>...</td>\n",
       "      <td>0_종일</td>\n",
       "      <td>10500</td>\n",
       "      <td>2_일반</td>\n",
       "      <td>4.833333</td>\n",
       "      <td>5.0</td>\n",
       "      <td>8</td>\n",
       "      <td>2</td>\n",
       "      <td>1</td>\n",
       "      <td>2019-04-30</td>\n",
       "      <td>47</td>\n",
       "    </tr>\n",
       "    <tr>\n",
       "      <th>1</th>\n",
       "      <td>5.083333</td>\n",
       "      <td>5.0</td>\n",
       "      <td>7</td>\n",
       "      <td>3</td>\n",
       "      <td>47</td>\n",
       "      <td>2</td>\n",
       "      <td>PL270116</td>\n",
       "      <td>XXXXX</td>\n",
       "      <td>C01</td>\n",
       "      <td>M</td>\n",
       "      <td>...</td>\n",
       "      <td>0_종일</td>\n",
       "      <td>10500</td>\n",
       "      <td>2_일반</td>\n",
       "      <td>5.083333</td>\n",
       "      <td>5.0</td>\n",
       "      <td>7</td>\n",
       "      <td>3</td>\n",
       "      <td>1</td>\n",
       "      <td>2019-04-30</td>\n",
       "      <td>47</td>\n",
       "    </tr>\n",
       "    <tr>\n",
       "      <th>2</th>\n",
       "      <td>4.583333</td>\n",
       "      <td>5.0</td>\n",
       "      <td>6</td>\n",
       "      <td>3</td>\n",
       "      <td>47</td>\n",
       "      <td>2</td>\n",
       "      <td>OA974876</td>\n",
       "      <td>XXXXX</td>\n",
       "      <td>C01</td>\n",
       "      <td>M</td>\n",
       "      <td>...</td>\n",
       "      <td>0_종일</td>\n",
       "      <td>10500</td>\n",
       "      <td>2_일반</td>\n",
       "      <td>4.583333</td>\n",
       "      <td>5.0</td>\n",
       "      <td>6</td>\n",
       "      <td>3</td>\n",
       "      <td>1</td>\n",
       "      <td>2019-04-30</td>\n",
       "      <td>47</td>\n",
       "    </tr>\n",
       "    <tr>\n",
       "      <th>3</th>\n",
       "      <td>4.833333</td>\n",
       "      <td>4.5</td>\n",
       "      <td>7</td>\n",
       "      <td>2</td>\n",
       "      <td>47</td>\n",
       "      <td>2</td>\n",
       "      <td>HD024127</td>\n",
       "      <td>XXXXX</td>\n",
       "      <td>C01</td>\n",
       "      <td>F</td>\n",
       "      <td>...</td>\n",
       "      <td>0_종일</td>\n",
       "      <td>10500</td>\n",
       "      <td>2_일반</td>\n",
       "      <td>4.833333</td>\n",
       "      <td>4.5</td>\n",
       "      <td>7</td>\n",
       "      <td>2</td>\n",
       "      <td>1</td>\n",
       "      <td>2019-04-30</td>\n",
       "      <td>47</td>\n",
       "    </tr>\n",
       "    <tr>\n",
       "      <th>4</th>\n",
       "      <td>3.916667</td>\n",
       "      <td>4.0</td>\n",
       "      <td>6</td>\n",
       "      <td>1</td>\n",
       "      <td>47</td>\n",
       "      <td>2</td>\n",
       "      <td>HD661448</td>\n",
       "      <td>XXXXX</td>\n",
       "      <td>C03</td>\n",
       "      <td>F</td>\n",
       "      <td>...</td>\n",
       "      <td>2_야간</td>\n",
       "      <td>6000</td>\n",
       "      <td>2_일반</td>\n",
       "      <td>3.916667</td>\n",
       "      <td>4.0</td>\n",
       "      <td>6</td>\n",
       "      <td>1</td>\n",
       "      <td>1</td>\n",
       "      <td>2019-04-30</td>\n",
       "      <td>47</td>\n",
       "    </tr>\n",
       "  </tbody>\n",
       "</table>\n",
       "<p>5 rows × 24 columns</p>\n",
       "</div>"
      ],
      "text/plain": [
       "       월평균값  월중앙값  월최댓값  월최솟값  회원기간  cluster customer_id   name class gender  \\\n",
       "0  4.833333   5.0     8     2    47        2    OA832399   XXXX   C01      F   \n",
       "1  5.083333   5.0     7     3    47        2    PL270116  XXXXX   C01      M   \n",
       "2  4.583333   5.0     6     3    47        2    OA974876  XXXXX   C01      M   \n",
       "3  4.833333   4.5     7     2    47        2    HD024127  XXXXX   C01      F   \n",
       "4  3.916667   4.0     6     1    47        2    HD661448  XXXXX   C03      F   \n",
       "\n",
       "   ... class_name  price campaign_name      mean median  max min  routine_flg  \\\n",
       "0  ...       0_종일  10500          2_일반  4.833333    5.0    8   2            1   \n",
       "1  ...       0_종일  10500          2_일반  5.083333    5.0    7   3            1   \n",
       "2  ...       0_종일  10500          2_일반  4.583333    5.0    6   3            1   \n",
       "3  ...       0_종일  10500          2_일반  4.833333    4.5    7   2            1   \n",
       "4  ...       2_야간   6000          2_일반  3.916667    4.0    6   1            1   \n",
       "\n",
       "    calc_date  membership_period  \n",
       "0  2019-04-30                 47  \n",
       "1  2019-04-30                 47  \n",
       "2  2019-04-30                 47  \n",
       "3  2019-04-30                 47  \n",
       "4  2019-04-30                 47  \n",
       "\n",
       "[5 rows x 24 columns]"
      ]
     },
     "execution_count": 57,
     "metadata": {},
     "output_type": "execute_result"
    }
   ],
   "source": [
    "customer_clustering = pd.concat([customer_clustering, customer], axis=1)\n",
    "customer_clustering.head()"
   ]
  },
  {
   "cell_type": "code",
   "execution_count": 58,
   "id": "561cc820",
   "metadata": {},
   "outputs": [
    {
     "data": {
      "text/html": [
       "<div>\n",
       "<style scoped>\n",
       "    .dataframe tbody tr th:only-of-type {\n",
       "        vertical-align: middle;\n",
       "    }\n",
       "\n",
       "    .dataframe tbody tr th {\n",
       "        vertical-align: top;\n",
       "    }\n",
       "\n",
       "    .dataframe thead th {\n",
       "        text-align: right;\n",
       "    }\n",
       "</style>\n",
       "<table border=\"1\" class=\"dataframe\">\n",
       "  <thead>\n",
       "    <tr style=\"text-align: right;\">\n",
       "      <th></th>\n",
       "      <th>cluster</th>\n",
       "      <th>is_deleted</th>\n",
       "      <th>customer_id</th>\n",
       "    </tr>\n",
       "  </thead>\n",
       "  <tbody>\n",
       "    <tr>\n",
       "      <th>0</th>\n",
       "      <td>0</td>\n",
       "      <td>0</td>\n",
       "      <td>791</td>\n",
       "    </tr>\n",
       "    <tr>\n",
       "      <th>1</th>\n",
       "      <td>0</td>\n",
       "      <td>1</td>\n",
       "      <td>543</td>\n",
       "    </tr>\n",
       "    <tr>\n",
       "      <th>2</th>\n",
       "      <td>1</td>\n",
       "      <td>1</td>\n",
       "      <td>771</td>\n",
       "    </tr>\n",
       "    <tr>\n",
       "      <th>3</th>\n",
       "      <td>2</td>\n",
       "      <td>0</td>\n",
       "      <td>1231</td>\n",
       "    </tr>\n",
       "    <tr>\n",
       "      <th>4</th>\n",
       "      <td>2</td>\n",
       "      <td>1</td>\n",
       "      <td>18</td>\n",
       "    </tr>\n",
       "    <tr>\n",
       "      <th>5</th>\n",
       "      <td>3</td>\n",
       "      <td>0</td>\n",
       "      <td>820</td>\n",
       "    </tr>\n",
       "    <tr>\n",
       "      <th>6</th>\n",
       "      <td>3</td>\n",
       "      <td>1</td>\n",
       "      <td>18</td>\n",
       "    </tr>\n",
       "  </tbody>\n",
       "</table>\n",
       "</div>"
      ],
      "text/plain": [
       "   cluster  is_deleted  customer_id\n",
       "0        0           0          791\n",
       "1        0           1          543\n",
       "2        1           1          771\n",
       "3        2           0         1231\n",
       "4        2           1           18\n",
       "5        3           0          820\n",
       "6        3           1           18"
      ]
     },
     "execution_count": 58,
     "metadata": {},
     "output_type": "execute_result"
    }
   ],
   "source": [
    "customer_clustering.groupby([\"cluster\", \"is_deleted\"], as_index=False)[\"customer_id\"].count()"
   ]
  },
  {
   "cell_type": "markdown",
   "id": "fdae04a9",
   "metadata": {},
   "source": [
    "# 탈퇴회원 경향  \n",
    "2 번 군집의 경향 : 지속 회원이 많다. 회원 기간이 매우 길고 그룹 0번에 비해서 이용 횟수는 낮지만 안정적으로 보인다.  \n",
    "1 번 군집의 경향 : 탈퇴 회원만 있다.  \n",
    "0 번 군집의 경향 : 지속, 탈퇴의 비유이 비슷하다.  \n",
    "3 번 군집의 경향 : 회원 기간이 짧지만 이용 횟구가 많이 의욕이 높아 보인다.  "
   ]
  },
  {
   "cell_type": "code",
   "execution_count": 59,
   "id": "7fec76f9",
   "metadata": {},
   "outputs": [
    {
     "data": {
      "text/html": [
       "<div>\n",
       "<style scoped>\n",
       "    .dataframe tbody tr th:only-of-type {\n",
       "        vertical-align: middle;\n",
       "    }\n",
       "\n",
       "    .dataframe tbody tr th {\n",
       "        vertical-align: top;\n",
       "    }\n",
       "\n",
       "    .dataframe thead th {\n",
       "        text-align: right;\n",
       "    }\n",
       "</style>\n",
       "<table border=\"1\" class=\"dataframe\">\n",
       "  <thead>\n",
       "    <tr style=\"text-align: right;\">\n",
       "      <th></th>\n",
       "      <th>cluster</th>\n",
       "      <th>routine_flg</th>\n",
       "      <th>customer_id</th>\n",
       "    </tr>\n",
       "  </thead>\n",
       "  <tbody>\n",
       "    <tr>\n",
       "      <th>0</th>\n",
       "      <td>0</td>\n",
       "      <td>0</td>\n",
       "      <td>227</td>\n",
       "    </tr>\n",
       "    <tr>\n",
       "      <th>1</th>\n",
       "      <td>0</td>\n",
       "      <td>1</td>\n",
       "      <td>1107</td>\n",
       "    </tr>\n",
       "    <tr>\n",
       "      <th>2</th>\n",
       "      <td>1</td>\n",
       "      <td>0</td>\n",
       "      <td>499</td>\n",
       "    </tr>\n",
       "    <tr>\n",
       "      <th>3</th>\n",
       "      <td>1</td>\n",
       "      <td>1</td>\n",
       "      <td>272</td>\n",
       "    </tr>\n",
       "    <tr>\n",
       "      <th>4</th>\n",
       "      <td>2</td>\n",
       "      <td>0</td>\n",
       "      <td>2</td>\n",
       "    </tr>\n",
       "    <tr>\n",
       "      <th>5</th>\n",
       "      <td>2</td>\n",
       "      <td>1</td>\n",
       "      <td>1247</td>\n",
       "    </tr>\n",
       "    <tr>\n",
       "      <th>6</th>\n",
       "      <td>3</td>\n",
       "      <td>0</td>\n",
       "      <td>51</td>\n",
       "    </tr>\n",
       "    <tr>\n",
       "      <th>7</th>\n",
       "      <td>3</td>\n",
       "      <td>1</td>\n",
       "      <td>787</td>\n",
       "    </tr>\n",
       "  </tbody>\n",
       "</table>\n",
       "</div>"
      ],
      "text/plain": [
       "   cluster  routine_flg  customer_id\n",
       "0        0            0          227\n",
       "1        0            1         1107\n",
       "2        1            0          499\n",
       "3        1            1          272\n",
       "4        2            0            2\n",
       "5        2            1         1247\n",
       "6        3            0           51\n",
       "7        3            1          787"
      ]
     },
     "execution_count": 59,
     "metadata": {},
     "output_type": "execute_result"
    }
   ],
   "source": [
    "# 정기적 비율 파악\n",
    "# 0, 2 번 군집 : 정기 이용자의 비율이 많이 높다.\n",
    "# 1 변 군집 : 비정기 이용자의 비율이 많이 높다.\n",
    "customer_clustering.groupby([\"cluster\", \"routine_flg\"], as_index=False)[\"customer_id\"].count()"
   ]
  },
  {
   "cell_type": "markdown",
   "id": "5baca3ca",
   "metadata": {},
   "source": [
    "# 다음달 이용횟수 예측을 위해 데이터 준비"
   ]
  },
  {
   "cell_type": "code",
   "execution_count": 60,
   "id": "c6153dc0",
   "metadata": {},
   "outputs": [
    {
     "data": {
      "text/html": [
       "<div>\n",
       "<style scoped>\n",
       "    .dataframe tbody tr th:only-of-type {\n",
       "        vertical-align: middle;\n",
       "    }\n",
       "\n",
       "    .dataframe tbody tr th {\n",
       "        vertical-align: top;\n",
       "    }\n",
       "\n",
       "    .dataframe thead th {\n",
       "        text-align: right;\n",
       "    }\n",
       "</style>\n",
       "<table border=\"1\" class=\"dataframe\">\n",
       "  <thead>\n",
       "    <tr style=\"text-align: right;\">\n",
       "      <th></th>\n",
       "      <th>log_id</th>\n",
       "      <th>customer_id</th>\n",
       "      <th>usedate</th>\n",
       "      <th>연월</th>\n",
       "    </tr>\n",
       "  </thead>\n",
       "  <tbody>\n",
       "    <tr>\n",
       "      <th>0</th>\n",
       "      <td>L00000049012330</td>\n",
       "      <td>AS009373</td>\n",
       "      <td>2018-04-01</td>\n",
       "      <td>201804</td>\n",
       "    </tr>\n",
       "    <tr>\n",
       "      <th>1</th>\n",
       "      <td>L00000049012331</td>\n",
       "      <td>AS015315</td>\n",
       "      <td>2018-04-01</td>\n",
       "      <td>201804</td>\n",
       "    </tr>\n",
       "    <tr>\n",
       "      <th>2</th>\n",
       "      <td>L00000049012332</td>\n",
       "      <td>AS040841</td>\n",
       "      <td>2018-04-01</td>\n",
       "      <td>201804</td>\n",
       "    </tr>\n",
       "    <tr>\n",
       "      <th>3</th>\n",
       "      <td>L00000049012333</td>\n",
       "      <td>AS046594</td>\n",
       "      <td>2018-04-01</td>\n",
       "      <td>201804</td>\n",
       "    </tr>\n",
       "    <tr>\n",
       "      <th>4</th>\n",
       "      <td>L00000049012334</td>\n",
       "      <td>AS073285</td>\n",
       "      <td>2018-04-01</td>\n",
       "      <td>201804</td>\n",
       "    </tr>\n",
       "  </tbody>\n",
       "</table>\n",
       "</div>"
      ],
      "text/plain": [
       "            log_id customer_id    usedate      연월\n",
       "0  L00000049012330    AS009373 2018-04-01  201804\n",
       "1  L00000049012331    AS015315 2018-04-01  201804\n",
       "2  L00000049012332    AS040841 2018-04-01  201804\n",
       "3  L00000049012333    AS046594 2018-04-01  201804\n",
       "4  L00000049012334    AS073285 2018-04-01  201804"
      ]
     },
     "execution_count": 60,
     "metadata": {},
     "output_type": "execute_result"
    }
   ],
   "source": [
    "use_log[\"usedate\"] = pd.to_datetime(use_log[\"usedate\"])\n",
    "use_log[\"연월\"] = use_log[\"usedate\"].dt.strftime(\"%Y%m\")\n",
    "use_log.head()"
   ]
  },
  {
   "cell_type": "code",
   "execution_count": 61,
   "id": "13ba07bc",
   "metadata": {},
   "outputs": [
    {
     "data": {
      "text/html": [
       "<div>\n",
       "<style scoped>\n",
       "    .dataframe tbody tr th:only-of-type {\n",
       "        vertical-align: middle;\n",
       "    }\n",
       "\n",
       "    .dataframe tbody tr th {\n",
       "        vertical-align: top;\n",
       "    }\n",
       "\n",
       "    .dataframe thead th {\n",
       "        text-align: right;\n",
       "    }\n",
       "</style>\n",
       "<table border=\"1\" class=\"dataframe\">\n",
       "  <thead>\n",
       "    <tr style=\"text-align: right;\">\n",
       "      <th></th>\n",
       "      <th>연월</th>\n",
       "      <th>customer_id</th>\n",
       "      <th>count</th>\n",
       "    </tr>\n",
       "  </thead>\n",
       "  <tbody>\n",
       "    <tr>\n",
       "      <th>0</th>\n",
       "      <td>201804</td>\n",
       "      <td>AS002855</td>\n",
       "      <td>4</td>\n",
       "    </tr>\n",
       "    <tr>\n",
       "      <th>1</th>\n",
       "      <td>201804</td>\n",
       "      <td>AS009013</td>\n",
       "      <td>2</td>\n",
       "    </tr>\n",
       "    <tr>\n",
       "      <th>2</th>\n",
       "      <td>201804</td>\n",
       "      <td>AS009373</td>\n",
       "      <td>3</td>\n",
       "    </tr>\n",
       "    <tr>\n",
       "      <th>3</th>\n",
       "      <td>201804</td>\n",
       "      <td>AS015315</td>\n",
       "      <td>6</td>\n",
       "    </tr>\n",
       "    <tr>\n",
       "      <th>4</th>\n",
       "      <td>201804</td>\n",
       "      <td>AS015739</td>\n",
       "      <td>7</td>\n",
       "    </tr>\n",
       "  </tbody>\n",
       "</table>\n",
       "</div>"
      ],
      "text/plain": [
       "       연월 customer_id  count\n",
       "0  201804    AS002855      4\n",
       "1  201804    AS009013      2\n",
       "2  201804    AS009373      3\n",
       "3  201804    AS015315      6\n",
       "4  201804    AS015739      7"
      ]
     },
     "execution_count": 61,
     "metadata": {},
     "output_type": "execute_result"
    }
   ],
   "source": [
    "use_log_months = use_log.groupby([\"연월\", \"customer_id\"], as_index=False).count()\n",
    "use_log_months.rename(columns={\"log_id\" : \"count\"}, inplace=True)\n",
    "use_log_months.drop(\"usedate\", axis=1, inplace=True)\n",
    "use_log_months.head()"
   ]
  },
  {
   "cell_type": "code",
   "execution_count": 62,
   "id": "f5d4cc1c",
   "metadata": {},
   "outputs": [],
   "source": [
    "# 레이블링 작업 : 최근 6개월 데이터를 가지고 다음달 이용 횟수를 종속변수로 지정\n",
    "year_months = list(use_log_months[\"연월\"].unique())\n",
    "# print(len(year_months), year_months)\n",
    "predict_data = pd.DataFrame()\n",
    "for i in range(6, len(year_months)):\n",
    "    # print(year_months[i])\n",
    "    tmp = use_log_months.loc[use_log_months[\"연월\"] == year_months[i]]\n",
    "    tmp.rename(columns={\"count\" : \"count_pred\"}, inplace=True)\n",
    "    for j in range(1, 7):\n",
    "        tmp_before = use_log_months.loc[use_log_months[\"연월\"] == year_months[i - j]]\n",
    "        # print(year_months[i - j])\n",
    "        tmp_before.drop(\"연월\", axis=1, inplace=True)\n",
    "        tmp_before.rename(columns={\"count\" : \"count_{}\".format(j-1)}, inplace=True)\n",
    "        tmp = pd.merge(tmp, tmp_before, on=\"customer_id\", how=\"left\")\n",
    "    predict_data = pd.concat([predict_data, tmp], ignore_index=True)"
   ]
  },
  {
   "cell_type": "code",
   "execution_count": 63,
   "id": "bbc618ba",
   "metadata": {},
   "outputs": [
    {
     "data": {
      "text/html": [
       "<div>\n",
       "<style scoped>\n",
       "    .dataframe tbody tr th:only-of-type {\n",
       "        vertical-align: middle;\n",
       "    }\n",
       "\n",
       "    .dataframe tbody tr th {\n",
       "        vertical-align: top;\n",
       "    }\n",
       "\n",
       "    .dataframe thead th {\n",
       "        text-align: right;\n",
       "    }\n",
       "</style>\n",
       "<table border=\"1\" class=\"dataframe\">\n",
       "  <thead>\n",
       "    <tr style=\"text-align: right;\">\n",
       "      <th></th>\n",
       "      <th>연월</th>\n",
       "      <th>customer_id</th>\n",
       "      <th>count_pred</th>\n",
       "      <th>count_0</th>\n",
       "      <th>count_1</th>\n",
       "      <th>count_2</th>\n",
       "      <th>count_3</th>\n",
       "      <th>count_4</th>\n",
       "      <th>count_5</th>\n",
       "    </tr>\n",
       "  </thead>\n",
       "  <tbody>\n",
       "    <tr>\n",
       "      <th>0</th>\n",
       "      <td>201810</td>\n",
       "      <td>AS002855</td>\n",
       "      <td>3</td>\n",
       "      <td>7.0</td>\n",
       "      <td>3.0</td>\n",
       "      <td>5.0</td>\n",
       "      <td>5.0</td>\n",
       "      <td>5.0</td>\n",
       "      <td>4.0</td>\n",
       "    </tr>\n",
       "    <tr>\n",
       "      <th>1</th>\n",
       "      <td>201810</td>\n",
       "      <td>AS008805</td>\n",
       "      <td>2</td>\n",
       "      <td>2.0</td>\n",
       "      <td>5.0</td>\n",
       "      <td>7.0</td>\n",
       "      <td>8.0</td>\n",
       "      <td>NaN</td>\n",
       "      <td>NaN</td>\n",
       "    </tr>\n",
       "    <tr>\n",
       "      <th>2</th>\n",
       "      <td>201810</td>\n",
       "      <td>AS009373</td>\n",
       "      <td>5</td>\n",
       "      <td>6.0</td>\n",
       "      <td>6.0</td>\n",
       "      <td>7.0</td>\n",
       "      <td>4.0</td>\n",
       "      <td>4.0</td>\n",
       "      <td>3.0</td>\n",
       "    </tr>\n",
       "    <tr>\n",
       "      <th>3</th>\n",
       "      <td>201810</td>\n",
       "      <td>AS015233</td>\n",
       "      <td>7</td>\n",
       "      <td>9.0</td>\n",
       "      <td>11.0</td>\n",
       "      <td>5.0</td>\n",
       "      <td>7.0</td>\n",
       "      <td>7.0</td>\n",
       "      <td>NaN</td>\n",
       "    </tr>\n",
       "    <tr>\n",
       "      <th>4</th>\n",
       "      <td>201810</td>\n",
       "      <td>AS015315</td>\n",
       "      <td>4</td>\n",
       "      <td>7.0</td>\n",
       "      <td>3.0</td>\n",
       "      <td>6.0</td>\n",
       "      <td>3.0</td>\n",
       "      <td>3.0</td>\n",
       "      <td>6.0</td>\n",
       "    </tr>\n",
       "  </tbody>\n",
       "</table>\n",
       "</div>"
      ],
      "text/plain": [
       "       연월 customer_id  count_pred  count_0  count_1  count_2  count_3  \\\n",
       "0  201810    AS002855           3      7.0      3.0      5.0      5.0   \n",
       "1  201810    AS008805           2      2.0      5.0      7.0      8.0   \n",
       "2  201810    AS009373           5      6.0      6.0      7.0      4.0   \n",
       "3  201810    AS015233           7      9.0     11.0      5.0      7.0   \n",
       "4  201810    AS015315           4      7.0      3.0      6.0      3.0   \n",
       "\n",
       "   count_4  count_5  \n",
       "0      5.0      4.0  \n",
       "1      NaN      NaN  \n",
       "2      4.0      3.0  \n",
       "3      7.0      NaN  \n",
       "4      3.0      6.0  "
      ]
     },
     "execution_count": 63,
     "metadata": {},
     "output_type": "execute_result"
    }
   ],
   "source": [
    "predict_data.head()"
   ]
  },
  {
   "cell_type": "code",
   "execution_count": 64,
   "id": "ec0c2d3f",
   "metadata": {},
   "outputs": [
    {
     "data": {
      "text/plain": [
       "(18310, 9)"
      ]
     },
     "execution_count": 64,
     "metadata": {},
     "output_type": "execute_result"
    }
   ],
   "source": [
    "predict_data.shape"
   ]
  },
  {
   "cell_type": "code",
   "execution_count": 65,
   "id": "5aa890e0",
   "metadata": {},
   "outputs": [
    {
     "data": {
      "text/plain": [
       "연월              0.000000\n",
       "customer_id     0.000000\n",
       "count_pred      0.000000\n",
       "count_0         2.823594\n",
       "count_1         5.772802\n",
       "count_2         8.732933\n",
       "count_3        11.665756\n",
       "count_4        14.434735\n",
       "count_5        17.460404\n",
       "dtype: float64"
      ]
     },
     "execution_count": 65,
     "metadata": {},
     "output_type": "execute_result"
    }
   ],
   "source": [
    "predict_data.isna().mean() * 100"
   ]
  },
  {
   "cell_type": "code",
   "execution_count": 66,
   "id": "ec739ddd",
   "metadata": {},
   "outputs": [
    {
     "data": {
      "text/plain": [
       "연월             0.0\n",
       "customer_id    0.0\n",
       "count_pred     0.0\n",
       "count_0        0.0\n",
       "count_1        0.0\n",
       "count_2        0.0\n",
       "count_3        0.0\n",
       "count_4        0.0\n",
       "count_5        0.0\n",
       "dtype: float64"
      ]
     },
     "execution_count": 66,
     "metadata": {},
     "output_type": "execute_result"
    }
   ],
   "source": [
    "predict_data = predict_data.dropna()\n",
    "predict_data = predict_data.reset_index(drop=True)\n",
    "predict_data.isna().mean() * 100"
   ]
  },
  {
   "cell_type": "code",
   "execution_count": 67,
   "id": "5d2a588a",
   "metadata": {},
   "outputs": [
    {
     "data": {
      "text/plain": [
       "(15113, 9)"
      ]
     },
     "execution_count": 67,
     "metadata": {},
     "output_type": "execute_result"
    }
   ],
   "source": [
    "predict_data.shape"
   ]
  },
  {
   "cell_type": "markdown",
   "id": "d67d0fea",
   "metadata": {},
   "source": [
    "# 특징이 되는 변수를 추가"
   ]
  },
  {
   "cell_type": "code",
   "execution_count": 68,
   "id": "2fa343bf",
   "metadata": {},
   "outputs": [
    {
     "data": {
      "text/html": [
       "<div>\n",
       "<style scoped>\n",
       "    .dataframe tbody tr th:only-of-type {\n",
       "        vertical-align: middle;\n",
       "    }\n",
       "\n",
       "    .dataframe tbody tr th {\n",
       "        vertical-align: top;\n",
       "    }\n",
       "\n",
       "    .dataframe thead th {\n",
       "        text-align: right;\n",
       "    }\n",
       "</style>\n",
       "<table border=\"1\" class=\"dataframe\">\n",
       "  <thead>\n",
       "    <tr style=\"text-align: right;\">\n",
       "      <th></th>\n",
       "      <th>연월</th>\n",
       "      <th>customer_id</th>\n",
       "      <th>count_pred</th>\n",
       "      <th>count_0</th>\n",
       "      <th>count_1</th>\n",
       "      <th>count_2</th>\n",
       "      <th>count_3</th>\n",
       "      <th>count_4</th>\n",
       "      <th>count_5</th>\n",
       "      <th>start_date</th>\n",
       "    </tr>\n",
       "  </thead>\n",
       "  <tbody>\n",
       "    <tr>\n",
       "      <th>0</th>\n",
       "      <td>201810</td>\n",
       "      <td>AS002855</td>\n",
       "      <td>3</td>\n",
       "      <td>7.0</td>\n",
       "      <td>3.0</td>\n",
       "      <td>5.0</td>\n",
       "      <td>5.0</td>\n",
       "      <td>5.0</td>\n",
       "      <td>4.0</td>\n",
       "      <td>2016-11-01</td>\n",
       "    </tr>\n",
       "    <tr>\n",
       "      <th>1</th>\n",
       "      <td>201810</td>\n",
       "      <td>AS009373</td>\n",
       "      <td>5</td>\n",
       "      <td>6.0</td>\n",
       "      <td>6.0</td>\n",
       "      <td>7.0</td>\n",
       "      <td>4.0</td>\n",
       "      <td>4.0</td>\n",
       "      <td>3.0</td>\n",
       "      <td>2015-11-01</td>\n",
       "    </tr>\n",
       "    <tr>\n",
       "      <th>2</th>\n",
       "      <td>201810</td>\n",
       "      <td>AS015315</td>\n",
       "      <td>4</td>\n",
       "      <td>7.0</td>\n",
       "      <td>3.0</td>\n",
       "      <td>6.0</td>\n",
       "      <td>3.0</td>\n",
       "      <td>3.0</td>\n",
       "      <td>6.0</td>\n",
       "      <td>2015-07-01</td>\n",
       "    </tr>\n",
       "    <tr>\n",
       "      <th>3</th>\n",
       "      <td>201810</td>\n",
       "      <td>AS015739</td>\n",
       "      <td>5</td>\n",
       "      <td>6.0</td>\n",
       "      <td>5.0</td>\n",
       "      <td>8.0</td>\n",
       "      <td>6.0</td>\n",
       "      <td>5.0</td>\n",
       "      <td>7.0</td>\n",
       "      <td>2017-06-01</td>\n",
       "    </tr>\n",
       "    <tr>\n",
       "      <th>4</th>\n",
       "      <td>201810</td>\n",
       "      <td>AS019860</td>\n",
       "      <td>7</td>\n",
       "      <td>5.0</td>\n",
       "      <td>7.0</td>\n",
       "      <td>4.0</td>\n",
       "      <td>6.0</td>\n",
       "      <td>8.0</td>\n",
       "      <td>6.0</td>\n",
       "      <td>2017-10-01</td>\n",
       "    </tr>\n",
       "  </tbody>\n",
       "</table>\n",
       "</div>"
      ],
      "text/plain": [
       "       연월 customer_id  count_pred  count_0  count_1  count_2  count_3  \\\n",
       "0  201810    AS002855           3      7.0      3.0      5.0      5.0   \n",
       "1  201810    AS009373           5      6.0      6.0      7.0      4.0   \n",
       "2  201810    AS015315           4      7.0      3.0      6.0      3.0   \n",
       "3  201810    AS015739           5      6.0      5.0      8.0      6.0   \n",
       "4  201810    AS019860           7      5.0      7.0      4.0      6.0   \n",
       "\n",
       "   count_4  count_5  start_date  \n",
       "0      5.0      4.0  2016-11-01  \n",
       "1      4.0      3.0  2015-11-01  \n",
       "2      3.0      6.0  2015-07-01  \n",
       "3      5.0      7.0  2017-06-01  \n",
       "4      8.0      6.0  2017-10-01  "
      ]
     },
     "execution_count": 68,
     "metadata": {},
     "output_type": "execute_result"
    }
   ],
   "source": [
    "predict_data = pd.merge(\n",
    "    predict_data, customer[[\"customer_id\", \"start_date\"]], on=\"customer_id\", how=\"left\"\n",
    ")\n",
    "predict_data.head()"
   ]
  },
  {
   "cell_type": "code",
   "execution_count": 69,
   "id": "109b2ec2",
   "metadata": {},
   "outputs": [
    {
     "data": {
      "text/html": [
       "<div>\n",
       "<style scoped>\n",
       "    .dataframe tbody tr th:only-of-type {\n",
       "        vertical-align: middle;\n",
       "    }\n",
       "\n",
       "    .dataframe tbody tr th {\n",
       "        vertical-align: top;\n",
       "    }\n",
       "\n",
       "    .dataframe thead th {\n",
       "        text-align: right;\n",
       "    }\n",
       "</style>\n",
       "<table border=\"1\" class=\"dataframe\">\n",
       "  <thead>\n",
       "    <tr style=\"text-align: right;\">\n",
       "      <th></th>\n",
       "      <th>연월</th>\n",
       "      <th>customer_id</th>\n",
       "      <th>count_pred</th>\n",
       "      <th>count_0</th>\n",
       "      <th>count_1</th>\n",
       "      <th>count_2</th>\n",
       "      <th>count_3</th>\n",
       "      <th>count_4</th>\n",
       "      <th>count_5</th>\n",
       "      <th>start_date</th>\n",
       "      <th>now_date</th>\n",
       "    </tr>\n",
       "  </thead>\n",
       "  <tbody>\n",
       "    <tr>\n",
       "      <th>0</th>\n",
       "      <td>201810</td>\n",
       "      <td>AS002855</td>\n",
       "      <td>3</td>\n",
       "      <td>7.0</td>\n",
       "      <td>3.0</td>\n",
       "      <td>5.0</td>\n",
       "      <td>5.0</td>\n",
       "      <td>5.0</td>\n",
       "      <td>4.0</td>\n",
       "      <td>2016-11-01</td>\n",
       "      <td>2018-10-01</td>\n",
       "    </tr>\n",
       "    <tr>\n",
       "      <th>1</th>\n",
       "      <td>201810</td>\n",
       "      <td>AS009373</td>\n",
       "      <td>5</td>\n",
       "      <td>6.0</td>\n",
       "      <td>6.0</td>\n",
       "      <td>7.0</td>\n",
       "      <td>4.0</td>\n",
       "      <td>4.0</td>\n",
       "      <td>3.0</td>\n",
       "      <td>2015-11-01</td>\n",
       "      <td>2018-10-01</td>\n",
       "    </tr>\n",
       "  </tbody>\n",
       "</table>\n",
       "</div>"
      ],
      "text/plain": [
       "       연월 customer_id  count_pred  count_0  count_1  count_2  count_3  \\\n",
       "0  201810    AS002855           3      7.0      3.0      5.0      5.0   \n",
       "1  201810    AS009373           5      6.0      6.0      7.0      4.0   \n",
       "\n",
       "   count_4  count_5 start_date   now_date  \n",
       "0      5.0      4.0 2016-11-01 2018-10-01  \n",
       "1      4.0      3.0 2015-11-01 2018-10-01  "
      ]
     },
     "execution_count": 69,
     "metadata": {},
     "output_type": "execute_result"
    }
   ],
   "source": [
    "predict_data[\"now_date\"] = pd.to_datetime(predict_data[\"연월\"], format=\"%Y%m\")\n",
    "predict_data[\"start_date\"] = pd.to_datetime(predict_data[\"start_date\"])\n",
    "predict_data.head(2)"
   ]
  },
  {
   "cell_type": "code",
   "execution_count": 70,
   "id": "a097996b",
   "metadata": {},
   "outputs": [],
   "source": [
    "from dateutil.relativedelta import relativedelta\n",
    "predict_data[\"preiod\"] = None\n",
    "for i in range(len(predict_data)):\n",
    "  delta = relativedelta(predict_data[\"now_date\"][i], predict_data[\"start_date\"][i])\n",
    "  predict_data[\"preiod\"][i] = delta.years * 12 + delta.months"
   ]
  },
  {
   "cell_type": "code",
   "execution_count": 71,
   "id": "8b4a1f3d",
   "metadata": {},
   "outputs": [],
   "source": [
    "import numpy as np\n",
    "predict_data[\"preiod\"] = predict_data[\"preiod\"].astype(np.float16)"
   ]
  },
  {
   "cell_type": "code",
   "execution_count": 72,
   "id": "da535c7b",
   "metadata": {},
   "outputs": [
    {
     "data": {
      "text/html": [
       "<div>\n",
       "<style scoped>\n",
       "    .dataframe tbody tr th:only-of-type {\n",
       "        vertical-align: middle;\n",
       "    }\n",
       "\n",
       "    .dataframe tbody tr th {\n",
       "        vertical-align: top;\n",
       "    }\n",
       "\n",
       "    .dataframe thead th {\n",
       "        text-align: right;\n",
       "    }\n",
       "</style>\n",
       "<table border=\"1\" class=\"dataframe\">\n",
       "  <thead>\n",
       "    <tr style=\"text-align: right;\">\n",
       "      <th></th>\n",
       "      <th>연월</th>\n",
       "      <th>customer_id</th>\n",
       "      <th>count_pred</th>\n",
       "      <th>count_0</th>\n",
       "      <th>count_1</th>\n",
       "      <th>count_2</th>\n",
       "      <th>count_3</th>\n",
       "      <th>count_4</th>\n",
       "      <th>count_5</th>\n",
       "      <th>start_date</th>\n",
       "      <th>now_date</th>\n",
       "      <th>preiod</th>\n",
       "    </tr>\n",
       "  </thead>\n",
       "  <tbody>\n",
       "    <tr>\n",
       "      <th>0</th>\n",
       "      <td>201810</td>\n",
       "      <td>AS002855</td>\n",
       "      <td>3</td>\n",
       "      <td>7.0</td>\n",
       "      <td>3.0</td>\n",
       "      <td>5.0</td>\n",
       "      <td>5.0</td>\n",
       "      <td>5.0</td>\n",
       "      <td>4.0</td>\n",
       "      <td>2016-11-01</td>\n",
       "      <td>2018-10-01</td>\n",
       "      <td>23.0</td>\n",
       "    </tr>\n",
       "    <tr>\n",
       "      <th>1</th>\n",
       "      <td>201810</td>\n",
       "      <td>AS009373</td>\n",
       "      <td>5</td>\n",
       "      <td>6.0</td>\n",
       "      <td>6.0</td>\n",
       "      <td>7.0</td>\n",
       "      <td>4.0</td>\n",
       "      <td>4.0</td>\n",
       "      <td>3.0</td>\n",
       "      <td>2015-11-01</td>\n",
       "      <td>2018-10-01</td>\n",
       "      <td>35.0</td>\n",
       "    </tr>\n",
       "  </tbody>\n",
       "</table>\n",
       "</div>"
      ],
      "text/plain": [
       "       연월 customer_id  count_pred  count_0  count_1  count_2  count_3  \\\n",
       "0  201810    AS002855           3      7.0      3.0      5.0      5.0   \n",
       "1  201810    AS009373           5      6.0      6.0      7.0      4.0   \n",
       "\n",
       "   count_4  count_5 start_date   now_date  preiod  \n",
       "0      5.0      4.0 2016-11-01 2018-10-01    23.0  \n",
       "1      4.0      3.0 2015-11-01 2018-10-01    35.0  "
      ]
     },
     "execution_count": 72,
     "metadata": {},
     "output_type": "execute_result"
    }
   ],
   "source": [
    "predict_data.head(2)"
   ]
  },
  {
   "cell_type": "markdown",
   "id": "c4bb7bdf",
   "metadata": {},
   "source": [
    "# 다음달 횟수 예측 모델 학습"
   ]
  },
  {
   "cell_type": "code",
   "execution_count": 73,
   "id": "17ffaaff",
   "metadata": {},
   "outputs": [
    {
     "data": {
      "text/plain": [
       "Index(['연월', 'customer_id', 'count_pred', 'count_0', 'count_1', 'count_2',\n",
       "       'count_3', 'count_4', 'count_5', 'start_date', 'now_date', 'preiod'],\n",
       "      dtype='object')"
      ]
     },
     "execution_count": 73,
     "metadata": {},
     "output_type": "execute_result"
    }
   ],
   "source": [
    "predict_data.columns"
   ]
  },
  {
   "cell_type": "code",
   "execution_count": 74,
   "id": "0925c100",
   "metadata": {},
   "outputs": [],
   "source": [
    "X = predict_data[[\"count_0\", \"count_1\", \"count_2\", \"count_3\", \"count_4\", \"count_5\", \"preiod\"]]\n",
    "y = predict_data[\"count_pred\"]"
   ]
  },
  {
   "cell_type": "code",
   "execution_count": 75,
   "id": "7a235081",
   "metadata": {},
   "outputs": [],
   "source": [
    "from sklearn.linear_model import LinearRegression\n",
    "from sklearn.svm import SVR\n",
    "from sklearn.metrics import root_mean_squared_error, mean_squared_error, median_absolute_error\n",
    "import xgboost as xgb\n",
    "import lightgbm as lgb\n",
    "from sklearn.model_selection import train_test_split"
   ]
  },
  {
   "cell_type": "code",
   "execution_count": 76,
   "id": "d577afaa",
   "metadata": {},
   "outputs": [],
   "source": [
    "X_train, X_test, y_train, y_test = train_test_split(X, y, test_size=0.3, random_state=1)"
   ]
  },
  {
   "cell_type": "code",
   "execution_count": 77,
   "id": "db9f0a4b",
   "metadata": {},
   "outputs": [
    {
     "name": "stdout",
     "output_type": "stream",
     "text": [
      "0.20501906315417295\n",
      "0.18961778851519395\n",
      "1.6887155688423183\n"
     ]
    }
   ],
   "source": [
    "lr_model = LinearRegression()\n",
    "lr_model.fit(X_train, y_train)\n",
    "lr_pred = lr_model.predict(X_test)\n",
    "print(lr_model.score(X_train, y_train))\n",
    "print(lr_model.score(X_test, y_test))\n",
    "# help(lr_model.score)\n",
    "print(root_mean_squared_error(y_test, lr_pred))"
   ]
  },
  {
   "cell_type": "code",
   "execution_count": 78,
   "id": "7396a425",
   "metadata": {},
   "outputs": [
    {
     "data": {
      "text/plain": [
       "1.6698065996170044"
      ]
     },
     "execution_count": 78,
     "metadata": {},
     "output_type": "execute_result"
    }
   ],
   "source": [
    "xgb_model = xgb.XGBRegressor()\n",
    "xgb_model.fit(X_train, y_train)\n",
    "xgb_pred = xgb_model.predict(X_test)\n",
    "root_mean_squared_error(y_test, xgb_pred)"
   ]
  },
  {
   "cell_type": "markdown",
   "id": "3b8dd3f1",
   "metadata": {},
   "source": [
    "# 종속 변수에 기여하는 독리변수가 뭔 확인"
   ]
  },
  {
   "cell_type": "code",
   "execution_count": 79,
   "id": "3529389c",
   "metadata": {},
   "outputs": [
    {
     "data": {
      "text/html": [
       "<div>\n",
       "<style scoped>\n",
       "    .dataframe tbody tr th:only-of-type {\n",
       "        vertical-align: middle;\n",
       "    }\n",
       "\n",
       "    .dataframe tbody tr th {\n",
       "        vertical-align: top;\n",
       "    }\n",
       "\n",
       "    .dataframe thead th {\n",
       "        text-align: right;\n",
       "    }\n",
       "</style>\n",
       "<table border=\"1\" class=\"dataframe\">\n",
       "  <thead>\n",
       "    <tr style=\"text-align: right;\">\n",
       "      <th></th>\n",
       "      <th>feature_names</th>\n",
       "      <th>coefficient</th>\n",
       "    </tr>\n",
       "  </thead>\n",
       "  <tbody>\n",
       "    <tr>\n",
       "      <th>0</th>\n",
       "      <td>count_0</td>\n",
       "      <td>0.157875</td>\n",
       "    </tr>\n",
       "    <tr>\n",
       "      <th>1</th>\n",
       "      <td>count_1</td>\n",
       "      <td>0.152421</td>\n",
       "    </tr>\n",
       "    <tr>\n",
       "      <th>2</th>\n",
       "      <td>count_2</td>\n",
       "      <td>0.147920</td>\n",
       "    </tr>\n",
       "    <tr>\n",
       "      <th>3</th>\n",
       "      <td>count_3</td>\n",
       "      <td>0.120599</td>\n",
       "    </tr>\n",
       "    <tr>\n",
       "      <th>4</th>\n",
       "      <td>count_4</td>\n",
       "      <td>0.084131</td>\n",
       "    </tr>\n",
       "    <tr>\n",
       "      <th>5</th>\n",
       "      <td>count_5</td>\n",
       "      <td>0.022934</td>\n",
       "    </tr>\n",
       "    <tr>\n",
       "      <th>6</th>\n",
       "      <td>preiod</td>\n",
       "      <td>0.005686</td>\n",
       "    </tr>\n",
       "  </tbody>\n",
       "</table>\n",
       "</div>"
      ],
      "text/plain": [
       "  feature_names  coefficient\n",
       "0       count_0     0.157875\n",
       "1       count_1     0.152421\n",
       "2       count_2     0.147920\n",
       "3       count_3     0.120599\n",
       "4       count_4     0.084131\n",
       "5       count_5     0.022934\n",
       "6        preiod     0.005686"
      ]
     },
     "execution_count": 79,
     "metadata": {},
     "output_type": "execute_result"
    }
   ],
   "source": [
    "coef = pd.DataFrame({\"feature_names\" : X.columns, \"coefficient\": lr_model.coef_})\n",
    "coef"
   ]
  },
  {
   "cell_type": "markdown",
   "id": "fd6f5cd2",
   "metadata": {},
   "source": [
    "# 다음달 이용횟수 예측"
   ]
  },
  {
   "cell_type": "code",
   "execution_count": 87,
   "id": "41abfea1",
   "metadata": {},
   "outputs": [],
   "source": [
    "# x_user = [[3,4,6,3,6 ,9,11]]\n",
    "x_user1 = [3,7,3,7,9,10,11]\n",
    "x_user2 = [3, 4, 6, 3, 6, 9, 11]\n",
    "x_user = [x_user1,x_user2]"
   ]
  },
  {
   "cell_type": "code",
   "execution_count": 88,
   "id": "d141be85",
   "metadata": {},
   "outputs": [
    {
     "data": {
      "text/plain": [
       "array([5.07651489, 4.3052874 ])"
      ]
     },
     "execution_count": 88,
     "metadata": {},
     "output_type": "execute_result"
    }
   ],
   "source": [
    "lr_model.predict(x_user)"
   ]
  },
  {
   "cell_type": "code",
   "execution_count": 89,
   "id": "b6ff3767",
   "metadata": {},
   "outputs": [],
   "source": [
    "use_log_months.to_csv(\"./data/use_log_months.csv\",index=False)"
   ]
  },
  {
   "cell_type": "code",
   "execution_count": null,
   "id": "8d45a5bd",
   "metadata": {},
   "outputs": [],
   "source": []
  }
 ],
 "metadata": {
  "kernelspec": {
   "display_name": ".venv",
   "language": "python",
   "name": "python3"
  },
  "language_info": {
   "codemirror_mode": {
    "name": "ipython",
    "version": 3
   },
   "file_extension": ".py",
   "mimetype": "text/x-python",
   "name": "python",
   "nbconvert_exporter": "python",
   "pygments_lexer": "ipython3",
   "version": "3.13.2"
  }
 },
 "nbformat": 4,
 "nbformat_minor": 5
}
