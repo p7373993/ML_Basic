{
 "cells": [
  {
   "cell_type": "code",
   "execution_count": 59,
   "id": "96d055eb",
   "metadata": {},
   "outputs": [],
   "source": [
    "# 경고(warning) 메시지 비표시 설정\n",
    "import warnings\n",
    "\n",
    "warnings.filterwarnings(\"ignore\")\n",
    "\n",
    "# pandas 라이브러리 불러오기\n",
    "import pandas as pd"
   ]
  },
  {
   "cell_type": "code",
   "execution_count": 60,
   "id": "d978d054",
   "metadata": {},
   "outputs": [
    {
     "name": "stdout",
     "output_type": "stream",
     "text": [
      "(4192, 18) (36842, 3)\n"
     ]
    }
   ],
   "source": [
    "customer = pd.read_csv(\"./data/customer_join.csv\")\n",
    "use_log_months = pd.read_csv(\"./data/use_log_months.csv\")\n",
    "print(customer.shape,use_log_months.shape)"
   ]
  },
  {
   "cell_type": "code",
   "execution_count": 61,
   "id": "da5ac553",
   "metadata": {},
   "outputs": [
    {
     "data": {
      "text/html": [
       "<div>\n",
       "<style scoped>\n",
       "    .dataframe tbody tr th:only-of-type {\n",
       "        vertical-align: middle;\n",
       "    }\n",
       "\n",
       "    .dataframe tbody tr th {\n",
       "        vertical-align: top;\n",
       "    }\n",
       "\n",
       "    .dataframe thead th {\n",
       "        text-align: right;\n",
       "    }\n",
       "</style>\n",
       "<table border=\"1\" class=\"dataframe\">\n",
       "  <thead>\n",
       "    <tr style=\"text-align: right;\">\n",
       "      <th></th>\n",
       "      <th>customer_id</th>\n",
       "      <th>name</th>\n",
       "      <th>class</th>\n",
       "      <th>gender</th>\n",
       "      <th>start_date</th>\n",
       "      <th>end_date</th>\n",
       "      <th>campaign_id</th>\n",
       "      <th>is_deleted</th>\n",
       "      <th>class_name</th>\n",
       "      <th>price</th>\n",
       "      <th>campaign_name</th>\n",
       "      <th>mean</th>\n",
       "      <th>median</th>\n",
       "      <th>max</th>\n",
       "      <th>min</th>\n",
       "      <th>routine_flg</th>\n",
       "      <th>calc_date</th>\n",
       "      <th>membership_period</th>\n",
       "    </tr>\n",
       "  </thead>\n",
       "  <tbody>\n",
       "    <tr>\n",
       "      <th>708</th>\n",
       "      <td>TS511179</td>\n",
       "      <td>XXXXXX</td>\n",
       "      <td>C01</td>\n",
       "      <td>F</td>\n",
       "      <td>2016-05-01</td>\n",
       "      <td>2018-04-30</td>\n",
       "      <td>CA1</td>\n",
       "      <td>1</td>\n",
       "      <td>0_종일</td>\n",
       "      <td>10500</td>\n",
       "      <td>2_일반</td>\n",
       "      <td>3.0</td>\n",
       "      <td>3.0</td>\n",
       "      <td>3</td>\n",
       "      <td>3</td>\n",
       "      <td>0</td>\n",
       "      <td>2018-04-30</td>\n",
       "      <td>23</td>\n",
       "    </tr>\n",
       "    <tr>\n",
       "      <th>729</th>\n",
       "      <td>TS443736</td>\n",
       "      <td>XXXX</td>\n",
       "      <td>C02</td>\n",
       "      <td>M</td>\n",
       "      <td>2016-05-01</td>\n",
       "      <td>2018-04-30</td>\n",
       "      <td>CA1</td>\n",
       "      <td>1</td>\n",
       "      <td>1_주간</td>\n",
       "      <td>7500</td>\n",
       "      <td>2_일반</td>\n",
       "      <td>3.0</td>\n",
       "      <td>3.0</td>\n",
       "      <td>3</td>\n",
       "      <td>3</td>\n",
       "      <td>0</td>\n",
       "      <td>2018-04-30</td>\n",
       "      <td>23</td>\n",
       "    </tr>\n",
       "    <tr>\n",
       "      <th>730</th>\n",
       "      <td>HD542886</td>\n",
       "      <td>XX</td>\n",
       "      <td>C01</td>\n",
       "      <td>M</td>\n",
       "      <td>2016-05-01</td>\n",
       "      <td>2018-04-30</td>\n",
       "      <td>CA1</td>\n",
       "      <td>1</td>\n",
       "      <td>0_종일</td>\n",
       "      <td>10500</td>\n",
       "      <td>2_일반</td>\n",
       "      <td>1.0</td>\n",
       "      <td>1.0</td>\n",
       "      <td>1</td>\n",
       "      <td>1</td>\n",
       "      <td>0</td>\n",
       "      <td>2018-04-30</td>\n",
       "      <td>23</td>\n",
       "    </tr>\n",
       "    <tr>\n",
       "      <th>770</th>\n",
       "      <td>HD597545</td>\n",
       "      <td>XXXXX</td>\n",
       "      <td>C03</td>\n",
       "      <td>F</td>\n",
       "      <td>2016-06-01</td>\n",
       "      <td>2018-05-31</td>\n",
       "      <td>CA1</td>\n",
       "      <td>1</td>\n",
       "      <td>2_야간</td>\n",
       "      <td>6000</td>\n",
       "      <td>2_일반</td>\n",
       "      <td>3.5</td>\n",
       "      <td>3.5</td>\n",
       "      <td>4</td>\n",
       "      <td>3</td>\n",
       "      <td>1</td>\n",
       "      <td>2018-05-31</td>\n",
       "      <td>23</td>\n",
       "    </tr>\n",
       "    <tr>\n",
       "      <th>785</th>\n",
       "      <td>HI749296</td>\n",
       "      <td>XXXXX</td>\n",
       "      <td>C01</td>\n",
       "      <td>M</td>\n",
       "      <td>2016-06-01</td>\n",
       "      <td>2018-05-31</td>\n",
       "      <td>CA1</td>\n",
       "      <td>1</td>\n",
       "      <td>0_종일</td>\n",
       "      <td>10500</td>\n",
       "      <td>2_일반</td>\n",
       "      <td>3.0</td>\n",
       "      <td>3.0</td>\n",
       "      <td>3</td>\n",
       "      <td>3</td>\n",
       "      <td>0</td>\n",
       "      <td>2018-05-31</td>\n",
       "      <td>23</td>\n",
       "    </tr>\n",
       "  </tbody>\n",
       "</table>\n",
       "</div>"
      ],
      "text/plain": [
       "    customer_id    name class gender  start_date    end_date campaign_id  \\\n",
       "708    TS511179  XXXXXX   C01      F  2016-05-01  2018-04-30         CA1   \n",
       "729    TS443736    XXXX   C02      M  2016-05-01  2018-04-30         CA1   \n",
       "730    HD542886      XX   C01      M  2016-05-01  2018-04-30         CA1   \n",
       "770    HD597545   XXXXX   C03      F  2016-06-01  2018-05-31         CA1   \n",
       "785    HI749296   XXXXX   C01      M  2016-06-01  2018-05-31         CA1   \n",
       "\n",
       "     is_deleted class_name  price campaign_name  mean  median  max  min  \\\n",
       "708           1       0_종일  10500          2_일반   3.0     3.0    3    3   \n",
       "729           1       1_주간   7500          2_일반   3.0     3.0    3    3   \n",
       "730           1       0_종일  10500          2_일반   1.0     1.0    1    1   \n",
       "770           1       2_야간   6000          2_일반   3.5     3.5    4    3   \n",
       "785           1       0_종일  10500          2_일반   3.0     3.0    3    3   \n",
       "\n",
       "     routine_flg   calc_date  membership_period  \n",
       "708            0  2018-04-30                 23  \n",
       "729            0  2018-04-30                 23  \n",
       "730            0  2018-04-30                 23  \n",
       "770            1  2018-05-31                 23  \n",
       "785            0  2018-05-31                 23  "
      ]
     },
     "execution_count": 61,
     "metadata": {},
     "output_type": "execute_result"
    }
   ],
   "source": [
    "customer[customer[\"is_deleted\"]==1].head()"
   ]
  },
  {
   "cell_type": "code",
   "execution_count": 62,
   "id": "e381e017",
   "metadata": {},
   "outputs": [
    {
     "data": {
      "text/html": [
       "<div>\n",
       "<style scoped>\n",
       "    .dataframe tbody tr th:only-of-type {\n",
       "        vertical-align: middle;\n",
       "    }\n",
       "\n",
       "    .dataframe tbody tr th {\n",
       "        vertical-align: top;\n",
       "    }\n",
       "\n",
       "    .dataframe thead th {\n",
       "        text-align: right;\n",
       "    }\n",
       "</style>\n",
       "<table border=\"1\" class=\"dataframe\">\n",
       "  <thead>\n",
       "    <tr style=\"text-align: right;\">\n",
       "      <th></th>\n",
       "      <th>연월</th>\n",
       "      <th>customer_id</th>\n",
       "      <th>count</th>\n",
       "    </tr>\n",
       "  </thead>\n",
       "  <tbody>\n",
       "    <tr>\n",
       "      <th>0</th>\n",
       "      <td>201804</td>\n",
       "      <td>AS002855</td>\n",
       "      <td>4</td>\n",
       "    </tr>\n",
       "    <tr>\n",
       "      <th>1</th>\n",
       "      <td>201804</td>\n",
       "      <td>AS009013</td>\n",
       "      <td>2</td>\n",
       "    </tr>\n",
       "    <tr>\n",
       "      <th>2</th>\n",
       "      <td>201804</td>\n",
       "      <td>AS009373</td>\n",
       "      <td>3</td>\n",
       "    </tr>\n",
       "  </tbody>\n",
       "</table>\n",
       "</div>"
      ],
      "text/plain": [
       "       연월 customer_id  count\n",
       "0  201804    AS002855      4\n",
       "1  201804    AS009013      2\n",
       "2  201804    AS009373      3"
      ]
     },
     "execution_count": 62,
     "metadata": {},
     "output_type": "execute_result"
    }
   ],
   "source": [
    "use_log_months.head(3)"
   ]
  },
  {
   "cell_type": "code",
   "execution_count": 63,
   "id": "6e900ced",
   "metadata": {},
   "outputs": [
    {
     "data": {
      "text/html": [
       "<div>\n",
       "<style scoped>\n",
       "    .dataframe tbody tr th:only-of-type {\n",
       "        vertical-align: middle;\n",
       "    }\n",
       "\n",
       "    .dataframe tbody tr th {\n",
       "        vertical-align: top;\n",
       "    }\n",
       "\n",
       "    .dataframe thead th {\n",
       "        text-align: right;\n",
       "    }\n",
       "</style>\n",
       "<table border=\"1\" class=\"dataframe\">\n",
       "  <thead>\n",
       "    <tr style=\"text-align: right;\">\n",
       "      <th></th>\n",
       "      <th>연월</th>\n",
       "      <th>customer_id</th>\n",
       "      <th>count</th>\n",
       "    </tr>\n",
       "  </thead>\n",
       "  <tbody>\n",
       "    <tr>\n",
       "      <th>0</th>\n",
       "      <td>201804</td>\n",
       "      <td>AS002855</td>\n",
       "      <td>4</td>\n",
       "    </tr>\n",
       "    <tr>\n",
       "      <th>1</th>\n",
       "      <td>201804</td>\n",
       "      <td>AS009013</td>\n",
       "      <td>2</td>\n",
       "    </tr>\n",
       "    <tr>\n",
       "      <th>2</th>\n",
       "      <td>201804</td>\n",
       "      <td>AS009373</td>\n",
       "      <td>3</td>\n",
       "    </tr>\n",
       "    <tr>\n",
       "      <th>3</th>\n",
       "      <td>201804</td>\n",
       "      <td>AS015315</td>\n",
       "      <td>6</td>\n",
       "    </tr>\n",
       "    <tr>\n",
       "      <th>4</th>\n",
       "      <td>201804</td>\n",
       "      <td>AS015739</td>\n",
       "      <td>7</td>\n",
       "    </tr>\n",
       "  </tbody>\n",
       "</table>\n",
       "</div>"
      ],
      "text/plain": [
       "       연월 customer_id  count\n",
       "0  201804    AS002855      4\n",
       "1  201804    AS009013      2\n",
       "2  201804    AS009373      3\n",
       "3  201804    AS015315      6\n",
       "4  201804    AS015739      7"
      ]
     },
     "execution_count": 63,
     "metadata": {},
     "output_type": "execute_result"
    }
   ],
   "source": [
    "use_log_months.head()"
   ]
  },
  {
   "cell_type": "code",
   "execution_count": 64,
   "id": "58849861",
   "metadata": {},
   "outputs": [],
   "source": [
    "year_months = list(use_log_months[\"연월\"].unique())\n",
    "use_log = pd.DataFrame()\n",
    "for i in range(1,len(year_months)):\n",
    "    # print(year_months[i])\n",
    "    tmp = use_log_months.loc[use_log_months[\"연월\"] == year_months[i]]\n",
    "    tmp.rename(columns ={\"count\": \"count_0\"},inplace =True)\n",
    "    tmp_before = use_log_months.loc[use_log_months[\"연월\"]==year_months[i-1]]\n",
    "    tmp_before.rename(columns = {\"count\":\"count_1\"},inplace=True)\n",
    "    tmp_before.drop(\"연월\",axis=1,inplace=True)\n",
    "    tmp = pd.merge(tmp,tmp_before,on=\"customer_id\",how=\"left\")\n",
    "    use_log = pd.concat([use_log,tmp],axis=0,ignore_index=True)"
   ]
  },
  {
   "cell_type": "code",
   "execution_count": 65,
   "id": "de677cd6",
   "metadata": {},
   "outputs": [
    {
     "data": {
      "text/html": [
       "<div>\n",
       "<style scoped>\n",
       "    .dataframe tbody tr th:only-of-type {\n",
       "        vertical-align: middle;\n",
       "    }\n",
       "\n",
       "    .dataframe tbody tr th {\n",
       "        vertical-align: top;\n",
       "    }\n",
       "\n",
       "    .dataframe thead th {\n",
       "        text-align: right;\n",
       "    }\n",
       "</style>\n",
       "<table border=\"1\" class=\"dataframe\">\n",
       "  <thead>\n",
       "    <tr style=\"text-align: right;\">\n",
       "      <th></th>\n",
       "      <th>연월</th>\n",
       "      <th>customer_id</th>\n",
       "      <th>count_0</th>\n",
       "      <th>count_1</th>\n",
       "    </tr>\n",
       "  </thead>\n",
       "  <tbody>\n",
       "    <tr>\n",
       "      <th>0</th>\n",
       "      <td>201805</td>\n",
       "      <td>AS002855</td>\n",
       "      <td>5</td>\n",
       "      <td>4.0</td>\n",
       "    </tr>\n",
       "    <tr>\n",
       "      <th>1</th>\n",
       "      <td>201805</td>\n",
       "      <td>AS009373</td>\n",
       "      <td>4</td>\n",
       "      <td>3.0</td>\n",
       "    </tr>\n",
       "    <tr>\n",
       "      <th>2</th>\n",
       "      <td>201805</td>\n",
       "      <td>AS015233</td>\n",
       "      <td>7</td>\n",
       "      <td>NaN</td>\n",
       "    </tr>\n",
       "    <tr>\n",
       "      <th>3</th>\n",
       "      <td>201805</td>\n",
       "      <td>AS015315</td>\n",
       "      <td>3</td>\n",
       "      <td>6.0</td>\n",
       "    </tr>\n",
       "    <tr>\n",
       "      <th>4</th>\n",
       "      <td>201805</td>\n",
       "      <td>AS015739</td>\n",
       "      <td>5</td>\n",
       "      <td>7.0</td>\n",
       "    </tr>\n",
       "  </tbody>\n",
       "</table>\n",
       "</div>"
      ],
      "text/plain": [
       "       연월 customer_id  count_0  count_1\n",
       "0  201805    AS002855        5      4.0\n",
       "1  201805    AS009373        4      3.0\n",
       "2  201805    AS015233        7      NaN\n",
       "3  201805    AS015315        3      6.0\n",
       "4  201805    AS015739        5      7.0"
      ]
     },
     "execution_count": 65,
     "metadata": {},
     "output_type": "execute_result"
    }
   ],
   "source": [
    "use_log.head()"
   ]
  },
  {
   "cell_type": "code",
   "execution_count": 66,
   "id": "6a982eb4",
   "metadata": {},
   "outputs": [
    {
     "data": {
      "text/plain": [
       "customer_id  연월    \n",
       "AS002855     201805    1\n",
       "             201806    1\n",
       "             201807    1\n",
       "             201808    1\n",
       "             201809    1\n",
       "                      ..\n",
       "TS999855     201811    1\n",
       "             201812    1\n",
       "             201901    1\n",
       "             201902    1\n",
       "             201903    1\n",
       "Name: count, Length: 33851, dtype: int64"
      ]
     },
     "execution_count": 66,
     "metadata": {},
     "output_type": "execute_result"
    }
   ],
   "source": [
    "use_log.groupby(\"customer_id\")[\"연월\"].value_counts()"
   ]
  },
  {
   "cell_type": "markdown",
   "id": "7703d213",
   "metadata": {},
   "source": [
    "# 탈퇴 전월의 고객 데이터 작성"
   ]
  },
  {
   "cell_type": "code",
   "execution_count": 67,
   "id": "7aed0b9e",
   "metadata": {},
   "outputs": [],
   "source": [
    "from dateutil.relativedelta import relativedelta\n"
   ]
  },
  {
   "cell_type": "code",
   "execution_count": 68,
   "id": "b845e0dd",
   "metadata": {},
   "outputs": [],
   "source": [
    "exit_customer = customer.loc[customer[\"is_deleted\"]==1]\n",
    "exit_customer[\"exit_data\"]=None\n",
    "exit_customer[\"end_date\"]=pd.to_datetime(exit_customer[\"end_date\"])"
   ]
  },
  {
   "cell_type": "code",
   "execution_count": 69,
   "id": "5a4aa847",
   "metadata": {},
   "outputs": [],
   "source": [
    "# exit_customer.info()\n",
    "for i in range(len(exit_customer)):\n",
    "    exit_customer[\"exit_data\"].iloc[i] = exit_customer[\"end_date\"].iloc[i] - relativedelta(months=1)"
   ]
  },
  {
   "cell_type": "code",
   "execution_count": 70,
   "id": "c4b35916",
   "metadata": {},
   "outputs": [
    {
     "data": {
      "text/html": [
       "<div>\n",
       "<style scoped>\n",
       "    .dataframe tbody tr th:only-of-type {\n",
       "        vertical-align: middle;\n",
       "    }\n",
       "\n",
       "    .dataframe tbody tr th {\n",
       "        vertical-align: top;\n",
       "    }\n",
       "\n",
       "    .dataframe thead th {\n",
       "        text-align: right;\n",
       "    }\n",
       "</style>\n",
       "<table border=\"1\" class=\"dataframe\">\n",
       "  <thead>\n",
       "    <tr style=\"text-align: right;\">\n",
       "      <th></th>\n",
       "      <th>customer_id</th>\n",
       "      <th>name</th>\n",
       "      <th>class</th>\n",
       "      <th>gender</th>\n",
       "      <th>start_date</th>\n",
       "      <th>end_date</th>\n",
       "      <th>campaign_id</th>\n",
       "      <th>is_deleted</th>\n",
       "      <th>class_name</th>\n",
       "      <th>price</th>\n",
       "      <th>campaign_name</th>\n",
       "      <th>mean</th>\n",
       "      <th>median</th>\n",
       "      <th>max</th>\n",
       "      <th>min</th>\n",
       "      <th>routine_flg</th>\n",
       "      <th>calc_date</th>\n",
       "      <th>membership_period</th>\n",
       "      <th>exit_data</th>\n",
       "    </tr>\n",
       "  </thead>\n",
       "  <tbody>\n",
       "    <tr>\n",
       "      <th>708</th>\n",
       "      <td>TS511179</td>\n",
       "      <td>XXXXXX</td>\n",
       "      <td>C01</td>\n",
       "      <td>F</td>\n",
       "      <td>2016-05-01</td>\n",
       "      <td>2018-04-30</td>\n",
       "      <td>CA1</td>\n",
       "      <td>1</td>\n",
       "      <td>0_종일</td>\n",
       "      <td>10500</td>\n",
       "      <td>2_일반</td>\n",
       "      <td>3.0</td>\n",
       "      <td>3.0</td>\n",
       "      <td>3</td>\n",
       "      <td>3</td>\n",
       "      <td>0</td>\n",
       "      <td>2018-04-30</td>\n",
       "      <td>23</td>\n",
       "      <td>2018-03-30 00:00:00</td>\n",
       "    </tr>\n",
       "    <tr>\n",
       "      <th>729</th>\n",
       "      <td>TS443736</td>\n",
       "      <td>XXXX</td>\n",
       "      <td>C02</td>\n",
       "      <td>M</td>\n",
       "      <td>2016-05-01</td>\n",
       "      <td>2018-04-30</td>\n",
       "      <td>CA1</td>\n",
       "      <td>1</td>\n",
       "      <td>1_주간</td>\n",
       "      <td>7500</td>\n",
       "      <td>2_일반</td>\n",
       "      <td>3.0</td>\n",
       "      <td>3.0</td>\n",
       "      <td>3</td>\n",
       "      <td>3</td>\n",
       "      <td>0</td>\n",
       "      <td>2018-04-30</td>\n",
       "      <td>23</td>\n",
       "      <td>2018-03-30 00:00:00</td>\n",
       "    </tr>\n",
       "    <tr>\n",
       "      <th>730</th>\n",
       "      <td>HD542886</td>\n",
       "      <td>XX</td>\n",
       "      <td>C01</td>\n",
       "      <td>M</td>\n",
       "      <td>2016-05-01</td>\n",
       "      <td>2018-04-30</td>\n",
       "      <td>CA1</td>\n",
       "      <td>1</td>\n",
       "      <td>0_종일</td>\n",
       "      <td>10500</td>\n",
       "      <td>2_일반</td>\n",
       "      <td>1.0</td>\n",
       "      <td>1.0</td>\n",
       "      <td>1</td>\n",
       "      <td>1</td>\n",
       "      <td>0</td>\n",
       "      <td>2018-04-30</td>\n",
       "      <td>23</td>\n",
       "      <td>2018-03-30 00:00:00</td>\n",
       "    </tr>\n",
       "    <tr>\n",
       "      <th>770</th>\n",
       "      <td>HD597545</td>\n",
       "      <td>XXXXX</td>\n",
       "      <td>C03</td>\n",
       "      <td>F</td>\n",
       "      <td>2016-06-01</td>\n",
       "      <td>2018-05-31</td>\n",
       "      <td>CA1</td>\n",
       "      <td>1</td>\n",
       "      <td>2_야간</td>\n",
       "      <td>6000</td>\n",
       "      <td>2_일반</td>\n",
       "      <td>3.5</td>\n",
       "      <td>3.5</td>\n",
       "      <td>4</td>\n",
       "      <td>3</td>\n",
       "      <td>1</td>\n",
       "      <td>2018-05-31</td>\n",
       "      <td>23</td>\n",
       "      <td>2018-04-30 00:00:00</td>\n",
       "    </tr>\n",
       "    <tr>\n",
       "      <th>785</th>\n",
       "      <td>HI749296</td>\n",
       "      <td>XXXXX</td>\n",
       "      <td>C01</td>\n",
       "      <td>M</td>\n",
       "      <td>2016-06-01</td>\n",
       "      <td>2018-05-31</td>\n",
       "      <td>CA1</td>\n",
       "      <td>1</td>\n",
       "      <td>0_종일</td>\n",
       "      <td>10500</td>\n",
       "      <td>2_일반</td>\n",
       "      <td>3.0</td>\n",
       "      <td>3.0</td>\n",
       "      <td>3</td>\n",
       "      <td>3</td>\n",
       "      <td>0</td>\n",
       "      <td>2018-05-31</td>\n",
       "      <td>23</td>\n",
       "      <td>2018-04-30 00:00:00</td>\n",
       "    </tr>\n",
       "  </tbody>\n",
       "</table>\n",
       "</div>"
      ],
      "text/plain": [
       "    customer_id    name class gender  start_date   end_date campaign_id  \\\n",
       "708    TS511179  XXXXXX   C01      F  2016-05-01 2018-04-30         CA1   \n",
       "729    TS443736    XXXX   C02      M  2016-05-01 2018-04-30         CA1   \n",
       "730    HD542886      XX   C01      M  2016-05-01 2018-04-30         CA1   \n",
       "770    HD597545   XXXXX   C03      F  2016-06-01 2018-05-31         CA1   \n",
       "785    HI749296   XXXXX   C01      M  2016-06-01 2018-05-31         CA1   \n",
       "\n",
       "     is_deleted class_name  price campaign_name  mean  median  max  min  \\\n",
       "708           1       0_종일  10500          2_일반   3.0     3.0    3    3   \n",
       "729           1       1_주간   7500          2_일반   3.0     3.0    3    3   \n",
       "730           1       0_종일  10500          2_일반   1.0     1.0    1    1   \n",
       "770           1       2_야간   6000          2_일반   3.5     3.5    4    3   \n",
       "785           1       0_종일  10500          2_일반   3.0     3.0    3    3   \n",
       "\n",
       "     routine_flg   calc_date  membership_period            exit_data  \n",
       "708            0  2018-04-30                 23  2018-03-30 00:00:00  \n",
       "729            0  2018-04-30                 23  2018-03-30 00:00:00  \n",
       "730            0  2018-04-30                 23  2018-03-30 00:00:00  \n",
       "770            1  2018-05-31                 23  2018-04-30 00:00:00  \n",
       "785            0  2018-05-31                 23  2018-04-30 00:00:00  "
      ]
     },
     "execution_count": 70,
     "metadata": {},
     "output_type": "execute_result"
    }
   ],
   "source": [
    "exit_customer.head()"
   ]
  },
  {
   "cell_type": "code",
   "execution_count": 71,
   "id": "17949743",
   "metadata": {},
   "outputs": [],
   "source": [
    "exit_customer[\"연월\"] = pd.to_datetime(exit_customer[\"exit_data\"]).dt.strftime(\"%Y%m\")"
   ]
  },
  {
   "cell_type": "code",
   "execution_count": 72,
   "id": "fa72f561",
   "metadata": {},
   "outputs": [
    {
     "data": {
      "text/html": [
       "<div>\n",
       "<style scoped>\n",
       "    .dataframe tbody tr th:only-of-type {\n",
       "        vertical-align: middle;\n",
       "    }\n",
       "\n",
       "    .dataframe tbody tr th {\n",
       "        vertical-align: top;\n",
       "    }\n",
       "\n",
       "    .dataframe thead th {\n",
       "        text-align: right;\n",
       "    }\n",
       "</style>\n",
       "<table border=\"1\" class=\"dataframe\">\n",
       "  <thead>\n",
       "    <tr style=\"text-align: right;\">\n",
       "      <th></th>\n",
       "      <th>customer_id</th>\n",
       "      <th>name</th>\n",
       "      <th>class</th>\n",
       "      <th>gender</th>\n",
       "      <th>start_date</th>\n",
       "      <th>end_date</th>\n",
       "      <th>campaign_id</th>\n",
       "      <th>is_deleted</th>\n",
       "      <th>class_name</th>\n",
       "      <th>price</th>\n",
       "      <th>campaign_name</th>\n",
       "      <th>mean</th>\n",
       "      <th>median</th>\n",
       "      <th>max</th>\n",
       "      <th>min</th>\n",
       "      <th>routine_flg</th>\n",
       "      <th>calc_date</th>\n",
       "      <th>membership_period</th>\n",
       "      <th>exit_data</th>\n",
       "      <th>연월</th>\n",
       "    </tr>\n",
       "  </thead>\n",
       "  <tbody>\n",
       "    <tr>\n",
       "      <th>708</th>\n",
       "      <td>TS511179</td>\n",
       "      <td>XXXXXX</td>\n",
       "      <td>C01</td>\n",
       "      <td>F</td>\n",
       "      <td>2016-05-01</td>\n",
       "      <td>2018-04-30</td>\n",
       "      <td>CA1</td>\n",
       "      <td>1</td>\n",
       "      <td>0_종일</td>\n",
       "      <td>10500</td>\n",
       "      <td>2_일반</td>\n",
       "      <td>3.0</td>\n",
       "      <td>3.0</td>\n",
       "      <td>3</td>\n",
       "      <td>3</td>\n",
       "      <td>0</td>\n",
       "      <td>2018-04-30</td>\n",
       "      <td>23</td>\n",
       "      <td>2018-03-30 00:00:00</td>\n",
       "      <td>201803</td>\n",
       "    </tr>\n",
       "    <tr>\n",
       "      <th>729</th>\n",
       "      <td>TS443736</td>\n",
       "      <td>XXXX</td>\n",
       "      <td>C02</td>\n",
       "      <td>M</td>\n",
       "      <td>2016-05-01</td>\n",
       "      <td>2018-04-30</td>\n",
       "      <td>CA1</td>\n",
       "      <td>1</td>\n",
       "      <td>1_주간</td>\n",
       "      <td>7500</td>\n",
       "      <td>2_일반</td>\n",
       "      <td>3.0</td>\n",
       "      <td>3.0</td>\n",
       "      <td>3</td>\n",
       "      <td>3</td>\n",
       "      <td>0</td>\n",
       "      <td>2018-04-30</td>\n",
       "      <td>23</td>\n",
       "      <td>2018-03-30 00:00:00</td>\n",
       "      <td>201803</td>\n",
       "    </tr>\n",
       "    <tr>\n",
       "      <th>730</th>\n",
       "      <td>HD542886</td>\n",
       "      <td>XX</td>\n",
       "      <td>C01</td>\n",
       "      <td>M</td>\n",
       "      <td>2016-05-01</td>\n",
       "      <td>2018-04-30</td>\n",
       "      <td>CA1</td>\n",
       "      <td>1</td>\n",
       "      <td>0_종일</td>\n",
       "      <td>10500</td>\n",
       "      <td>2_일반</td>\n",
       "      <td>1.0</td>\n",
       "      <td>1.0</td>\n",
       "      <td>1</td>\n",
       "      <td>1</td>\n",
       "      <td>0</td>\n",
       "      <td>2018-04-30</td>\n",
       "      <td>23</td>\n",
       "      <td>2018-03-30 00:00:00</td>\n",
       "      <td>201803</td>\n",
       "    </tr>\n",
       "    <tr>\n",
       "      <th>770</th>\n",
       "      <td>HD597545</td>\n",
       "      <td>XXXXX</td>\n",
       "      <td>C03</td>\n",
       "      <td>F</td>\n",
       "      <td>2016-06-01</td>\n",
       "      <td>2018-05-31</td>\n",
       "      <td>CA1</td>\n",
       "      <td>1</td>\n",
       "      <td>2_야간</td>\n",
       "      <td>6000</td>\n",
       "      <td>2_일반</td>\n",
       "      <td>3.5</td>\n",
       "      <td>3.5</td>\n",
       "      <td>4</td>\n",
       "      <td>3</td>\n",
       "      <td>1</td>\n",
       "      <td>2018-05-31</td>\n",
       "      <td>23</td>\n",
       "      <td>2018-04-30 00:00:00</td>\n",
       "      <td>201804</td>\n",
       "    </tr>\n",
       "    <tr>\n",
       "      <th>785</th>\n",
       "      <td>HI749296</td>\n",
       "      <td>XXXXX</td>\n",
       "      <td>C01</td>\n",
       "      <td>M</td>\n",
       "      <td>2016-06-01</td>\n",
       "      <td>2018-05-31</td>\n",
       "      <td>CA1</td>\n",
       "      <td>1</td>\n",
       "      <td>0_종일</td>\n",
       "      <td>10500</td>\n",
       "      <td>2_일반</td>\n",
       "      <td>3.0</td>\n",
       "      <td>3.0</td>\n",
       "      <td>3</td>\n",
       "      <td>3</td>\n",
       "      <td>0</td>\n",
       "      <td>2018-05-31</td>\n",
       "      <td>23</td>\n",
       "      <td>2018-04-30 00:00:00</td>\n",
       "      <td>201804</td>\n",
       "    </tr>\n",
       "  </tbody>\n",
       "</table>\n",
       "</div>"
      ],
      "text/plain": [
       "    customer_id    name class gender  start_date   end_date campaign_id  \\\n",
       "708    TS511179  XXXXXX   C01      F  2016-05-01 2018-04-30         CA1   \n",
       "729    TS443736    XXXX   C02      M  2016-05-01 2018-04-30         CA1   \n",
       "730    HD542886      XX   C01      M  2016-05-01 2018-04-30         CA1   \n",
       "770    HD597545   XXXXX   C03      F  2016-06-01 2018-05-31         CA1   \n",
       "785    HI749296   XXXXX   C01      M  2016-06-01 2018-05-31         CA1   \n",
       "\n",
       "     is_deleted class_name  price campaign_name  mean  median  max  min  \\\n",
       "708           1       0_종일  10500          2_일반   3.0     3.0    3    3   \n",
       "729           1       1_주간   7500          2_일반   3.0     3.0    3    3   \n",
       "730           1       0_종일  10500          2_일반   1.0     1.0    1    1   \n",
       "770           1       2_야간   6000          2_일반   3.5     3.5    4    3   \n",
       "785           1       0_종일  10500          2_일반   3.0     3.0    3    3   \n",
       "\n",
       "     routine_flg   calc_date  membership_period            exit_data      연월  \n",
       "708            0  2018-04-30                 23  2018-03-30 00:00:00  201803  \n",
       "729            0  2018-04-30                 23  2018-03-30 00:00:00  201803  \n",
       "730            0  2018-04-30                 23  2018-03-30 00:00:00  201803  \n",
       "770            1  2018-05-31                 23  2018-04-30 00:00:00  201804  \n",
       "785            0  2018-05-31                 23  2018-04-30 00:00:00  201804  "
      ]
     },
     "execution_count": 72,
     "metadata": {},
     "output_type": "execute_result"
    }
   ],
   "source": [
    "exit_customer.head()"
   ]
  },
  {
   "cell_type": "code",
   "execution_count": 73,
   "id": "141fa39b",
   "metadata": {},
   "outputs": [],
   "source": [
    "exit_customer[\"연월\"] = pd.to_numeric(exit_customer[\"연월\"])"
   ]
  },
  {
   "cell_type": "code",
   "execution_count": 74,
   "id": "4affa1ae",
   "metadata": {},
   "outputs": [
    {
     "name": "stdout",
     "output_type": "stream",
     "text": [
      "<class 'pandas.core.frame.DataFrame'>\n",
      "Index: 1350 entries, 708 to 4099\n",
      "Data columns (total 20 columns):\n",
      " #   Column             Non-Null Count  Dtype         \n",
      "---  ------             --------------  -----         \n",
      " 0   customer_id        1350 non-null   object        \n",
      " 1   name               1350 non-null   object        \n",
      " 2   class              1350 non-null   object        \n",
      " 3   gender             1350 non-null   object        \n",
      " 4   start_date         1350 non-null   object        \n",
      " 5   end_date           1350 non-null   datetime64[ns]\n",
      " 6   campaign_id        1350 non-null   object        \n",
      " 7   is_deleted         1350 non-null   int64         \n",
      " 8   class_name         1350 non-null   object        \n",
      " 9   price              1350 non-null   int64         \n",
      " 10  campaign_name      1350 non-null   object        \n",
      " 11  mean               1350 non-null   float64       \n",
      " 12  median             1350 non-null   float64       \n",
      " 13  max                1350 non-null   int64         \n",
      " 14  min                1350 non-null   int64         \n",
      " 15  routine_flg        1350 non-null   int64         \n",
      " 16  calc_date          1350 non-null   object        \n",
      " 17  membership_period  1350 non-null   int64         \n",
      " 18  exit_data          1350 non-null   object        \n",
      " 19  연월                 1350 non-null   int64         \n",
      "dtypes: datetime64[ns](1), float64(2), int64(7), object(10)\n",
      "memory usage: 221.5+ KB\n"
     ]
    }
   ],
   "source": [
    "exit_customer.info()"
   ]
  },
  {
   "cell_type": "code",
   "execution_count": 75,
   "id": "8a7cead5",
   "metadata": {},
   "outputs": [],
   "source": [
    "exit_use_log = pd.merge(use_log,exit_customer,on=[\"customer_id\",\"연월\"],how=\"left\")"
   ]
  },
  {
   "cell_type": "code",
   "execution_count": 76,
   "id": "da06c4f2",
   "metadata": {},
   "outputs": [
    {
     "data": {
      "text/html": [
       "<div>\n",
       "<style scoped>\n",
       "    .dataframe tbody tr th:only-of-type {\n",
       "        vertical-align: middle;\n",
       "    }\n",
       "\n",
       "    .dataframe tbody tr th {\n",
       "        vertical-align: top;\n",
       "    }\n",
       "\n",
       "    .dataframe thead th {\n",
       "        text-align: right;\n",
       "    }\n",
       "</style>\n",
       "<table border=\"1\" class=\"dataframe\">\n",
       "  <thead>\n",
       "    <tr style=\"text-align: right;\">\n",
       "      <th></th>\n",
       "      <th>연월</th>\n",
       "      <th>customer_id</th>\n",
       "      <th>count_0</th>\n",
       "      <th>count_1</th>\n",
       "      <th>name</th>\n",
       "      <th>class</th>\n",
       "      <th>gender</th>\n",
       "      <th>start_date</th>\n",
       "      <th>end_date</th>\n",
       "      <th>campaign_id</th>\n",
       "      <th>...</th>\n",
       "      <th>price</th>\n",
       "      <th>campaign_name</th>\n",
       "      <th>mean</th>\n",
       "      <th>median</th>\n",
       "      <th>max</th>\n",
       "      <th>min</th>\n",
       "      <th>routine_flg</th>\n",
       "      <th>calc_date</th>\n",
       "      <th>membership_period</th>\n",
       "      <th>exit_data</th>\n",
       "    </tr>\n",
       "  </thead>\n",
       "  <tbody>\n",
       "    <tr>\n",
       "      <th>19</th>\n",
       "      <td>201805</td>\n",
       "      <td>AS055680</td>\n",
       "      <td>3</td>\n",
       "      <td>3.0</td>\n",
       "      <td>XXXXX</td>\n",
       "      <td>C01</td>\n",
       "      <td>M</td>\n",
       "      <td>2018-03-01</td>\n",
       "      <td>2018-06-30</td>\n",
       "      <td>CA1</td>\n",
       "      <td>...</td>\n",
       "      <td>10500.0</td>\n",
       "      <td>2_일반</td>\n",
       "      <td>3.000000</td>\n",
       "      <td>3.0</td>\n",
       "      <td>3.0</td>\n",
       "      <td>3.0</td>\n",
       "      <td>0.0</td>\n",
       "      <td>2018-06-30</td>\n",
       "      <td>3.0</td>\n",
       "      <td>2018-05-30 00:00:00</td>\n",
       "    </tr>\n",
       "    <tr>\n",
       "      <th>57</th>\n",
       "      <td>201805</td>\n",
       "      <td>AS169823</td>\n",
       "      <td>2</td>\n",
       "      <td>3.0</td>\n",
       "      <td>XX</td>\n",
       "      <td>C01</td>\n",
       "      <td>M</td>\n",
       "      <td>2017-11-01</td>\n",
       "      <td>2018-06-30</td>\n",
       "      <td>CA1</td>\n",
       "      <td>...</td>\n",
       "      <td>10500.0</td>\n",
       "      <td>2_일반</td>\n",
       "      <td>3.000000</td>\n",
       "      <td>3.0</td>\n",
       "      <td>4.0</td>\n",
       "      <td>2.0</td>\n",
       "      <td>1.0</td>\n",
       "      <td>2018-06-30</td>\n",
       "      <td>7.0</td>\n",
       "      <td>2018-05-30 00:00:00</td>\n",
       "    </tr>\n",
       "    <tr>\n",
       "      <th>110</th>\n",
       "      <td>201805</td>\n",
       "      <td>AS305860</td>\n",
       "      <td>5</td>\n",
       "      <td>3.0</td>\n",
       "      <td>XXXX</td>\n",
       "      <td>C01</td>\n",
       "      <td>M</td>\n",
       "      <td>2017-06-01</td>\n",
       "      <td>2018-06-30</td>\n",
       "      <td>CA1</td>\n",
       "      <td>...</td>\n",
       "      <td>10500.0</td>\n",
       "      <td>2_일반</td>\n",
       "      <td>3.333333</td>\n",
       "      <td>3.0</td>\n",
       "      <td>5.0</td>\n",
       "      <td>2.0</td>\n",
       "      <td>0.0</td>\n",
       "      <td>2018-06-30</td>\n",
       "      <td>12.0</td>\n",
       "      <td>2018-05-30 00:00:00</td>\n",
       "    </tr>\n",
       "    <tr>\n",
       "      <th>128</th>\n",
       "      <td>201805</td>\n",
       "      <td>AS363699</td>\n",
       "      <td>5</td>\n",
       "      <td>3.0</td>\n",
       "      <td>XXXXX</td>\n",
       "      <td>C01</td>\n",
       "      <td>M</td>\n",
       "      <td>2018-02-01</td>\n",
       "      <td>2018-06-30</td>\n",
       "      <td>CA1</td>\n",
       "      <td>...</td>\n",
       "      <td>10500.0</td>\n",
       "      <td>2_일반</td>\n",
       "      <td>3.333333</td>\n",
       "      <td>3.0</td>\n",
       "      <td>5.0</td>\n",
       "      <td>2.0</td>\n",
       "      <td>0.0</td>\n",
       "      <td>2018-06-30</td>\n",
       "      <td>4.0</td>\n",
       "      <td>2018-05-30 00:00:00</td>\n",
       "    </tr>\n",
       "    <tr>\n",
       "      <th>147</th>\n",
       "      <td>201805</td>\n",
       "      <td>AS417696</td>\n",
       "      <td>1</td>\n",
       "      <td>4.0</td>\n",
       "      <td>XX</td>\n",
       "      <td>C03</td>\n",
       "      <td>F</td>\n",
       "      <td>2017-09-01</td>\n",
       "      <td>2018-06-30</td>\n",
       "      <td>CA1</td>\n",
       "      <td>...</td>\n",
       "      <td>6000.0</td>\n",
       "      <td>2_일반</td>\n",
       "      <td>2.000000</td>\n",
       "      <td>1.0</td>\n",
       "      <td>4.0</td>\n",
       "      <td>1.0</td>\n",
       "      <td>0.0</td>\n",
       "      <td>2018-06-30</td>\n",
       "      <td>9.0</td>\n",
       "      <td>2018-05-30 00:00:00</td>\n",
       "    </tr>\n",
       "  </tbody>\n",
       "</table>\n",
       "<p>5 rows × 22 columns</p>\n",
       "</div>"
      ],
      "text/plain": [
       "         연월 customer_id  count_0  count_1   name class gender  start_date  \\\n",
       "19   201805    AS055680        3      3.0  XXXXX   C01      M  2018-03-01   \n",
       "57   201805    AS169823        2      3.0     XX   C01      M  2017-11-01   \n",
       "110  201805    AS305860        5      3.0   XXXX   C01      M  2017-06-01   \n",
       "128  201805    AS363699        5      3.0  XXXXX   C01      M  2018-02-01   \n",
       "147  201805    AS417696        1      4.0     XX   C03      F  2017-09-01   \n",
       "\n",
       "      end_date campaign_id  ...    price campaign_name      mean median  max  \\\n",
       "19  2018-06-30         CA1  ...  10500.0          2_일반  3.000000    3.0  3.0   \n",
       "57  2018-06-30         CA1  ...  10500.0          2_일반  3.000000    3.0  4.0   \n",
       "110 2018-06-30         CA1  ...  10500.0          2_일반  3.333333    3.0  5.0   \n",
       "128 2018-06-30         CA1  ...  10500.0          2_일반  3.333333    3.0  5.0   \n",
       "147 2018-06-30         CA1  ...   6000.0          2_일반  2.000000    1.0  4.0   \n",
       "\n",
       "     min  routine_flg   calc_date  membership_period            exit_data  \n",
       "19   3.0          0.0  2018-06-30                3.0  2018-05-30 00:00:00  \n",
       "57   2.0          1.0  2018-06-30                7.0  2018-05-30 00:00:00  \n",
       "110  2.0          0.0  2018-06-30               12.0  2018-05-30 00:00:00  \n",
       "128  2.0          0.0  2018-06-30                4.0  2018-05-30 00:00:00  \n",
       "147  1.0          0.0  2018-06-30                9.0  2018-05-30 00:00:00  \n",
       "\n",
       "[5 rows x 22 columns]"
      ]
     },
     "execution_count": 76,
     "metadata": {},
     "output_type": "execute_result"
    }
   ],
   "source": [
    "exit_use_log[exit_use_log[\"is_deleted\"]==1].head()"
   ]
  },
  {
   "cell_type": "code",
   "execution_count": 77,
   "id": "b5e232ff",
   "metadata": {},
   "outputs": [
    {
     "data": {
      "text/html": [
       "<div>\n",
       "<style scoped>\n",
       "    .dataframe tbody tr th:only-of-type {\n",
       "        vertical-align: middle;\n",
       "    }\n",
       "\n",
       "    .dataframe tbody tr th {\n",
       "        vertical-align: top;\n",
       "    }\n",
       "\n",
       "    .dataframe thead th {\n",
       "        text-align: right;\n",
       "    }\n",
       "</style>\n",
       "<table border=\"1\" class=\"dataframe\">\n",
       "  <thead>\n",
       "    <tr style=\"text-align: right;\">\n",
       "      <th></th>\n",
       "      <th>연월</th>\n",
       "      <th>customer_id</th>\n",
       "      <th>count_0</th>\n",
       "      <th>count_1</th>\n",
       "    </tr>\n",
       "  </thead>\n",
       "  <tbody>\n",
       "    <tr>\n",
       "      <th>0</th>\n",
       "      <td>201805</td>\n",
       "      <td>AS002855</td>\n",
       "      <td>5</td>\n",
       "      <td>4.0</td>\n",
       "    </tr>\n",
       "    <tr>\n",
       "      <th>1</th>\n",
       "      <td>201805</td>\n",
       "      <td>AS009373</td>\n",
       "      <td>4</td>\n",
       "      <td>3.0</td>\n",
       "    </tr>\n",
       "    <tr>\n",
       "      <th>2</th>\n",
       "      <td>201805</td>\n",
       "      <td>AS015233</td>\n",
       "      <td>7</td>\n",
       "      <td>NaN</td>\n",
       "    </tr>\n",
       "    <tr>\n",
       "      <th>3</th>\n",
       "      <td>201805</td>\n",
       "      <td>AS015315</td>\n",
       "      <td>3</td>\n",
       "      <td>6.0</td>\n",
       "    </tr>\n",
       "    <tr>\n",
       "      <th>4</th>\n",
       "      <td>201805</td>\n",
       "      <td>AS015739</td>\n",
       "      <td>5</td>\n",
       "      <td>7.0</td>\n",
       "    </tr>\n",
       "  </tbody>\n",
       "</table>\n",
       "</div>"
      ],
      "text/plain": [
       "       연월 customer_id  count_0  count_1\n",
       "0  201805    AS002855        5      4.0\n",
       "1  201805    AS009373        4      3.0\n",
       "2  201805    AS015233        7      NaN\n",
       "3  201805    AS015315        3      6.0\n",
       "4  201805    AS015739        5      7.0"
      ]
     },
     "execution_count": 77,
     "metadata": {},
     "output_type": "execute_result"
    }
   ],
   "source": [
    "use_log.head()"
   ]
  },
  {
   "cell_type": "code",
   "execution_count": 78,
   "id": "db2a58f6",
   "metadata": {},
   "outputs": [
    {
     "data": {
      "text/plain": [
       "(33851, 22)"
      ]
     },
     "execution_count": 78,
     "metadata": {},
     "output_type": "execute_result"
    }
   ],
   "source": [
    "exit_use_log.shape"
   ]
  },
  {
   "cell_type": "code",
   "execution_count": 79,
   "id": "49f61664",
   "metadata": {},
   "outputs": [],
   "source": [
    "exit_use_log = exit_use_log.dropna(subset=[\"name\"])"
   ]
  },
  {
   "cell_type": "code",
   "execution_count": 80,
   "id": "d6dfcd03",
   "metadata": {},
   "outputs": [
    {
     "data": {
      "text/plain": [
       "(1104, 22)"
      ]
     },
     "execution_count": 80,
     "metadata": {},
     "output_type": "execute_result"
    }
   ],
   "source": [
    "exit_use_log.shape"
   ]
  },
  {
   "cell_type": "code",
   "execution_count": 81,
   "id": "00b2e8c7",
   "metadata": {},
   "outputs": [],
   "source": [
    "continue_customer = customer.loc[customer[\"is_deleted\"]==0]"
   ]
  },
  {
   "cell_type": "code",
   "execution_count": 82,
   "id": "e3b61e08",
   "metadata": {},
   "outputs": [
    {
     "name": "stdout",
     "output_type": "stream",
     "text": [
      "(33851, 21)\n",
      "(27422, 21)\n"
     ]
    }
   ],
   "source": [
    "continue_use_log = pd.merge(use_log,continue_customer,on=[\"customer_id\"],how = \"left\")\n",
    "print(continue_use_log.shape)\n",
    "continue_use_log = continue_use_log.dropna(subset=[\"name\"])\n",
    "print(continue_use_log.shape)"
   ]
  },
  {
   "cell_type": "code",
   "execution_count": 83,
   "id": "f4e114fe",
   "metadata": {},
   "outputs": [
    {
     "data": {
      "text/html": [
       "<div>\n",
       "<style scoped>\n",
       "    .dataframe tbody tr th:only-of-type {\n",
       "        vertical-align: middle;\n",
       "    }\n",
       "\n",
       "    .dataframe tbody tr th {\n",
       "        vertical-align: top;\n",
       "    }\n",
       "\n",
       "    .dataframe thead th {\n",
       "        text-align: right;\n",
       "    }\n",
       "</style>\n",
       "<table border=\"1\" class=\"dataframe\">\n",
       "  <thead>\n",
       "    <tr style=\"text-align: right;\">\n",
       "      <th></th>\n",
       "      <th>customer_id</th>\n",
       "      <th>name</th>\n",
       "      <th>class</th>\n",
       "      <th>gender</th>\n",
       "      <th>start_date</th>\n",
       "      <th>end_date</th>\n",
       "      <th>campaign_id</th>\n",
       "      <th>is_deleted</th>\n",
       "      <th>class_name</th>\n",
       "      <th>price</th>\n",
       "      <th>campaign_name</th>\n",
       "      <th>mean</th>\n",
       "      <th>median</th>\n",
       "      <th>max</th>\n",
       "      <th>min</th>\n",
       "      <th>routine_flg</th>\n",
       "      <th>calc_date</th>\n",
       "      <th>membership_period</th>\n",
       "    </tr>\n",
       "  </thead>\n",
       "  <tbody>\n",
       "    <tr>\n",
       "      <th>0</th>\n",
       "      <td>OA832399</td>\n",
       "      <td>XXXX</td>\n",
       "      <td>C01</td>\n",
       "      <td>F</td>\n",
       "      <td>2015-05-01</td>\n",
       "      <td>NaN</td>\n",
       "      <td>CA1</td>\n",
       "      <td>0</td>\n",
       "      <td>0_종일</td>\n",
       "      <td>10500</td>\n",
       "      <td>2_일반</td>\n",
       "      <td>4.833333</td>\n",
       "      <td>5.0</td>\n",
       "      <td>8</td>\n",
       "      <td>2</td>\n",
       "      <td>1</td>\n",
       "      <td>2019-04-30</td>\n",
       "      <td>47</td>\n",
       "    </tr>\n",
       "    <tr>\n",
       "      <th>1</th>\n",
       "      <td>PL270116</td>\n",
       "      <td>XXXXX</td>\n",
       "      <td>C01</td>\n",
       "      <td>M</td>\n",
       "      <td>2015-05-01</td>\n",
       "      <td>NaN</td>\n",
       "      <td>CA1</td>\n",
       "      <td>0</td>\n",
       "      <td>0_종일</td>\n",
       "      <td>10500</td>\n",
       "      <td>2_일반</td>\n",
       "      <td>5.083333</td>\n",
       "      <td>5.0</td>\n",
       "      <td>7</td>\n",
       "      <td>3</td>\n",
       "      <td>1</td>\n",
       "      <td>2019-04-30</td>\n",
       "      <td>47</td>\n",
       "    </tr>\n",
       "    <tr>\n",
       "      <th>2</th>\n",
       "      <td>OA974876</td>\n",
       "      <td>XXXXX</td>\n",
       "      <td>C01</td>\n",
       "      <td>M</td>\n",
       "      <td>2015-05-01</td>\n",
       "      <td>NaN</td>\n",
       "      <td>CA1</td>\n",
       "      <td>0</td>\n",
       "      <td>0_종일</td>\n",
       "      <td>10500</td>\n",
       "      <td>2_일반</td>\n",
       "      <td>4.583333</td>\n",
       "      <td>5.0</td>\n",
       "      <td>6</td>\n",
       "      <td>3</td>\n",
       "      <td>1</td>\n",
       "      <td>2019-04-30</td>\n",
       "      <td>47</td>\n",
       "    </tr>\n",
       "    <tr>\n",
       "      <th>3</th>\n",
       "      <td>HD024127</td>\n",
       "      <td>XXXXX</td>\n",
       "      <td>C01</td>\n",
       "      <td>F</td>\n",
       "      <td>2015-05-01</td>\n",
       "      <td>NaN</td>\n",
       "      <td>CA1</td>\n",
       "      <td>0</td>\n",
       "      <td>0_종일</td>\n",
       "      <td>10500</td>\n",
       "      <td>2_일반</td>\n",
       "      <td>4.833333</td>\n",
       "      <td>4.5</td>\n",
       "      <td>7</td>\n",
       "      <td>2</td>\n",
       "      <td>1</td>\n",
       "      <td>2019-04-30</td>\n",
       "      <td>47</td>\n",
       "    </tr>\n",
       "    <tr>\n",
       "      <th>4</th>\n",
       "      <td>HD661448</td>\n",
       "      <td>XXXXX</td>\n",
       "      <td>C03</td>\n",
       "      <td>F</td>\n",
       "      <td>2015-05-01</td>\n",
       "      <td>NaN</td>\n",
       "      <td>CA1</td>\n",
       "      <td>0</td>\n",
       "      <td>2_야간</td>\n",
       "      <td>6000</td>\n",
       "      <td>2_일반</td>\n",
       "      <td>3.916667</td>\n",
       "      <td>4.0</td>\n",
       "      <td>6</td>\n",
       "      <td>1</td>\n",
       "      <td>1</td>\n",
       "      <td>2019-04-30</td>\n",
       "      <td>47</td>\n",
       "    </tr>\n",
       "  </tbody>\n",
       "</table>\n",
       "</div>"
      ],
      "text/plain": [
       "  customer_id   name class gender  start_date end_date campaign_id  \\\n",
       "0    OA832399   XXXX   C01      F  2015-05-01      NaN         CA1   \n",
       "1    PL270116  XXXXX   C01      M  2015-05-01      NaN         CA1   \n",
       "2    OA974876  XXXXX   C01      M  2015-05-01      NaN         CA1   \n",
       "3    HD024127  XXXXX   C01      F  2015-05-01      NaN         CA1   \n",
       "4    HD661448  XXXXX   C03      F  2015-05-01      NaN         CA1   \n",
       "\n",
       "   is_deleted class_name  price campaign_name      mean  median  max  min  \\\n",
       "0           0       0_종일  10500          2_일반  4.833333     5.0    8    2   \n",
       "1           0       0_종일  10500          2_일반  5.083333     5.0    7    3   \n",
       "2           0       0_종일  10500          2_일반  4.583333     5.0    6    3   \n",
       "3           0       0_종일  10500          2_일반  4.833333     4.5    7    2   \n",
       "4           0       2_야간   6000          2_일반  3.916667     4.0    6    1   \n",
       "\n",
       "   routine_flg   calc_date  membership_period  \n",
       "0            1  2019-04-30                 47  \n",
       "1            1  2019-04-30                 47  \n",
       "2            1  2019-04-30                 47  \n",
       "3            1  2019-04-30                 47  \n",
       "4            1  2019-04-30                 47  "
      ]
     },
     "execution_count": 83,
     "metadata": {},
     "output_type": "execute_result"
    }
   ],
   "source": [
    "customer.head()"
   ]
  },
  {
   "cell_type": "code",
   "execution_count": 84,
   "id": "8312fd51",
   "metadata": {},
   "outputs": [
    {
     "data": {
      "text/plain": [
       "(2842, 18)"
      ]
     },
     "execution_count": 84,
     "metadata": {},
     "output_type": "execute_result"
    }
   ],
   "source": [
    "customer.loc[customer[\"is_deleted\"] == 0].shape"
   ]
  },
  {
   "cell_type": "code",
   "execution_count": 85,
   "id": "450e646e",
   "metadata": {},
   "outputs": [
    {
     "data": {
      "text/plain": [
       "(1350, 18)"
      ]
     },
     "execution_count": 85,
     "metadata": {},
     "output_type": "execute_result"
    }
   ],
   "source": [
    "customer.loc[customer[\"is_deleted\"] == 1].shape"
   ]
  },
  {
   "cell_type": "code",
   "execution_count": 86,
   "id": "2614b2cf",
   "metadata": {},
   "outputs": [
    {
     "data": {
      "text/plain": [
       "(4192, 18)"
      ]
     },
     "execution_count": 86,
     "metadata": {},
     "output_type": "execute_result"
    }
   ],
   "source": [
    "customer.shape"
   ]
  },
  {
   "cell_type": "code",
   "execution_count": 87,
   "id": "628503f1",
   "metadata": {},
   "outputs": [
    {
     "data": {
      "text/plain": [
       "(27422, 21)"
      ]
     },
     "execution_count": 87,
     "metadata": {},
     "output_type": "execute_result"
    }
   ],
   "source": [
    "continue_use_log = continue_use_log.sample(frac=1).reset_index(drop=True)\n",
    "continue_use_log.shape"
   ]
  },
  {
   "cell_type": "code",
   "execution_count": 88,
   "id": "1a57f776",
   "metadata": {},
   "outputs": [
    {
     "data": {
      "text/plain": [
       "2842"
      ]
     },
     "execution_count": 88,
     "metadata": {},
     "output_type": "execute_result"
    }
   ],
   "source": [
    "continue_use_log[\"customer_id\"].nunique()"
   ]
  },
  {
   "cell_type": "code",
   "execution_count": 89,
   "id": "53834b93",
   "metadata": {},
   "outputs": [],
   "source": [
    "continue_use_log = continue_use_log.drop_duplicates(subset=\"customer_id\")"
   ]
  },
  {
   "cell_type": "code",
   "execution_count": 90,
   "id": "4555f497",
   "metadata": {},
   "outputs": [
    {
     "data": {
      "text/plain": [
       "(2842, 21)"
      ]
     },
     "execution_count": 90,
     "metadata": {},
     "output_type": "execute_result"
    }
   ],
   "source": [
    "continue_use_log.shape"
   ]
  },
  {
   "cell_type": "code",
   "execution_count": 91,
   "id": "25359c70",
   "metadata": {},
   "outputs": [
    {
     "data": {
      "text/html": [
       "<div>\n",
       "<style scoped>\n",
       "    .dataframe tbody tr th:only-of-type {\n",
       "        vertical-align: middle;\n",
       "    }\n",
       "\n",
       "    .dataframe tbody tr th {\n",
       "        vertical-align: top;\n",
       "    }\n",
       "\n",
       "    .dataframe thead th {\n",
       "        text-align: right;\n",
       "    }\n",
       "</style>\n",
       "<table border=\"1\" class=\"dataframe\">\n",
       "  <thead>\n",
       "    <tr style=\"text-align: right;\">\n",
       "      <th></th>\n",
       "      <th>연월</th>\n",
       "      <th>customer_id</th>\n",
       "      <th>count_0</th>\n",
       "      <th>count_1</th>\n",
       "      <th>name</th>\n",
       "      <th>class</th>\n",
       "      <th>gender</th>\n",
       "      <th>start_date</th>\n",
       "      <th>end_date</th>\n",
       "      <th>campaign_id</th>\n",
       "      <th>...</th>\n",
       "      <th>class_name</th>\n",
       "      <th>price</th>\n",
       "      <th>campaign_name</th>\n",
       "      <th>mean</th>\n",
       "      <th>median</th>\n",
       "      <th>max</th>\n",
       "      <th>min</th>\n",
       "      <th>routine_flg</th>\n",
       "      <th>calc_date</th>\n",
       "      <th>membership_period</th>\n",
       "    </tr>\n",
       "  </thead>\n",
       "  <tbody>\n",
       "    <tr>\n",
       "      <th>0</th>\n",
       "      <td>201812</td>\n",
       "      <td>HI492596</td>\n",
       "      <td>5</td>\n",
       "      <td>5.0</td>\n",
       "      <td>XXX</td>\n",
       "      <td>C01</td>\n",
       "      <td>M</td>\n",
       "      <td>2016-04-01</td>\n",
       "      <td>NaN</td>\n",
       "      <td>CA1</td>\n",
       "      <td>...</td>\n",
       "      <td>0_종일</td>\n",
       "      <td>10500.0</td>\n",
       "      <td>2_일반</td>\n",
       "      <td>4.666667</td>\n",
       "      <td>4.5</td>\n",
       "      <td>7.0</td>\n",
       "      <td>3.0</td>\n",
       "      <td>1.0</td>\n",
       "      <td>2019-04-30</td>\n",
       "      <td>36.0</td>\n",
       "    </tr>\n",
       "    <tr>\n",
       "      <th>1</th>\n",
       "      <td>201812</td>\n",
       "      <td>TS447283</td>\n",
       "      <td>9</td>\n",
       "      <td>10.0</td>\n",
       "      <td>XXXX</td>\n",
       "      <td>C01</td>\n",
       "      <td>M</td>\n",
       "      <td>2018-06-07</td>\n",
       "      <td>NaN</td>\n",
       "      <td>CA2</td>\n",
       "      <td>...</td>\n",
       "      <td>0_종일</td>\n",
       "      <td>10500.0</td>\n",
       "      <td>0_입회비반액할인</td>\n",
       "      <td>7.400000</td>\n",
       "      <td>7.0</td>\n",
       "      <td>10.0</td>\n",
       "      <td>6.0</td>\n",
       "      <td>1.0</td>\n",
       "      <td>2019-04-30</td>\n",
       "      <td>10.0</td>\n",
       "    </tr>\n",
       "    <tr>\n",
       "      <th>2</th>\n",
       "      <td>201805</td>\n",
       "      <td>HI183246</td>\n",
       "      <td>4</td>\n",
       "      <td>5.0</td>\n",
       "      <td>XXX</td>\n",
       "      <td>C01</td>\n",
       "      <td>F</td>\n",
       "      <td>2015-10-01</td>\n",
       "      <td>NaN</td>\n",
       "      <td>CA1</td>\n",
       "      <td>...</td>\n",
       "      <td>0_종일</td>\n",
       "      <td>10500.0</td>\n",
       "      <td>2_일반</td>\n",
       "      <td>4.750000</td>\n",
       "      <td>5.0</td>\n",
       "      <td>8.0</td>\n",
       "      <td>1.0</td>\n",
       "      <td>1.0</td>\n",
       "      <td>2019-04-30</td>\n",
       "      <td>42.0</td>\n",
       "    </tr>\n",
       "  </tbody>\n",
       "</table>\n",
       "<p>3 rows × 21 columns</p>\n",
       "</div>"
      ],
      "text/plain": [
       "       연월 customer_id  count_0  count_1  name class gender  start_date  \\\n",
       "0  201812    HI492596        5      5.0   XXX   C01      M  2016-04-01   \n",
       "1  201812    TS447283        9     10.0  XXXX   C01      M  2018-06-07   \n",
       "2  201805    HI183246        4      5.0   XXX   C01      F  2015-10-01   \n",
       "\n",
       "  end_date campaign_id  ...  class_name    price  campaign_name      mean  \\\n",
       "0      NaN         CA1  ...        0_종일  10500.0           2_일반  4.666667   \n",
       "1      NaN         CA2  ...        0_종일  10500.0      0_입회비반액할인  7.400000   \n",
       "2      NaN         CA1  ...        0_종일  10500.0           2_일반  4.750000   \n",
       "\n",
       "   median   max  min  routine_flg   calc_date membership_period  \n",
       "0     4.5   7.0  3.0          1.0  2019-04-30              36.0  \n",
       "1     7.0  10.0  6.0          1.0  2019-04-30              10.0  \n",
       "2     5.0   8.0  1.0          1.0  2019-04-30              42.0  \n",
       "\n",
       "[3 rows x 21 columns]"
      ]
     },
     "execution_count": 91,
     "metadata": {},
     "output_type": "execute_result"
    }
   ],
   "source": [
    "continue_use_log.head(3)"
   ]
  },
  {
   "cell_type": "code",
   "execution_count": 93,
   "id": "15db2070",
   "metadata": {},
   "outputs": [
    {
     "data": {
      "text/plain": [
       "(3946, 22)"
      ]
     },
     "execution_count": 93,
     "metadata": {},
     "output_type": "execute_result"
    }
   ],
   "source": [
    "predict_data =pd.concat([continue_use_log,exit_use_log],ignore_index=True)\n",
    "predict_data.shape"
   ]
  },
  {
   "cell_type": "markdown",
   "id": "7a0f56a8",
   "metadata": {},
   "source": [
    "# 예측할 달의 재적 기간"
   ]
  },
  {
   "cell_type": "code",
   "execution_count": 105,
   "id": "fc32d576",
   "metadata": {},
   "outputs": [],
   "source": [
    "predict_data[\"period\"] = 0\n",
    "predict_data[\"now_date\"] = pd.to_datetime(predict_data[\"연월\"], format=\"%Y%m\")\n",
    "predict_data[\"start_date\"] = pd.to_datetime(predict_data[\"start_date\"])"
   ]
  },
  {
   "cell_type": "code",
   "execution_count": 102,
   "id": "c15d6309",
   "metadata": {},
   "outputs": [
    {
     "data": {
      "text/plain": [
       "0      2018-12-01\n",
       "1      2018-12-01\n",
       "2      2018-05-01\n",
       "3      2019-02-01\n",
       "4      2018-07-01\n",
       "          ...    \n",
       "3941   2019-02-01\n",
       "3942   2019-02-01\n",
       "3943   2019-02-01\n",
       "3944   2019-02-01\n",
       "3945   2019-02-01\n",
       "Name: now_date, Length: 3946, dtype: datetime64[ns]"
      ]
     },
     "execution_count": 102,
     "metadata": {},
     "output_type": "execute_result"
    }
   ],
   "source": [
    "predict_data[\"now_date\"]"
   ]
  },
  {
   "cell_type": "code",
   "execution_count": 108,
   "id": "dbf8b899",
   "metadata": {},
   "outputs": [],
   "source": [
    "for i in range(len(predict_data)):\n",
    "    delta = relativedelta(predict_data[\"now_date\"][i],predict_data[\"start_date\"][i])\n",
    "    predict_data[\"period\"]=delta.years*12 + delta.months"
   ]
  },
  {
   "cell_type": "code",
   "execution_count": 109,
   "id": "1db361de",
   "metadata": {},
   "outputs": [
    {
     "data": {
      "text/html": [
       "<div>\n",
       "<style scoped>\n",
       "    .dataframe tbody tr th:only-of-type {\n",
       "        vertical-align: middle;\n",
       "    }\n",
       "\n",
       "    .dataframe tbody tr th {\n",
       "        vertical-align: top;\n",
       "    }\n",
       "\n",
       "    .dataframe thead th {\n",
       "        text-align: right;\n",
       "    }\n",
       "</style>\n",
       "<table border=\"1\" class=\"dataframe\">\n",
       "  <thead>\n",
       "    <tr style=\"text-align: right;\">\n",
       "      <th></th>\n",
       "      <th>연월</th>\n",
       "      <th>customer_id</th>\n",
       "      <th>count_0</th>\n",
       "      <th>count_1</th>\n",
       "      <th>name</th>\n",
       "      <th>class</th>\n",
       "      <th>gender</th>\n",
       "      <th>start_date</th>\n",
       "      <th>end_date</th>\n",
       "      <th>campaign_id</th>\n",
       "      <th>...</th>\n",
       "      <th>mean</th>\n",
       "      <th>median</th>\n",
       "      <th>max</th>\n",
       "      <th>min</th>\n",
       "      <th>routine_flg</th>\n",
       "      <th>calc_date</th>\n",
       "      <th>membership_period</th>\n",
       "      <th>exit_data</th>\n",
       "      <th>period</th>\n",
       "      <th>now_date</th>\n",
       "    </tr>\n",
       "  </thead>\n",
       "  <tbody>\n",
       "    <tr>\n",
       "      <th>0</th>\n",
       "      <td>201812</td>\n",
       "      <td>HI492596</td>\n",
       "      <td>5</td>\n",
       "      <td>5.0</td>\n",
       "      <td>XXX</td>\n",
       "      <td>C01</td>\n",
       "      <td>M</td>\n",
       "      <td>2016-04-01</td>\n",
       "      <td>NaT</td>\n",
       "      <td>CA1</td>\n",
       "      <td>...</td>\n",
       "      <td>4.666667</td>\n",
       "      <td>4.5</td>\n",
       "      <td>7.0</td>\n",
       "      <td>3.0</td>\n",
       "      <td>1.0</td>\n",
       "      <td>2019-04-30</td>\n",
       "      <td>36.0</td>\n",
       "      <td>NaN</td>\n",
       "      <td>7</td>\n",
       "      <td>2018-12-01</td>\n",
       "    </tr>\n",
       "    <tr>\n",
       "      <th>1</th>\n",
       "      <td>201812</td>\n",
       "      <td>TS447283</td>\n",
       "      <td>9</td>\n",
       "      <td>10.0</td>\n",
       "      <td>XXXX</td>\n",
       "      <td>C01</td>\n",
       "      <td>M</td>\n",
       "      <td>2018-06-07</td>\n",
       "      <td>NaT</td>\n",
       "      <td>CA2</td>\n",
       "      <td>...</td>\n",
       "      <td>7.400000</td>\n",
       "      <td>7.0</td>\n",
       "      <td>10.0</td>\n",
       "      <td>6.0</td>\n",
       "      <td>1.0</td>\n",
       "      <td>2019-04-30</td>\n",
       "      <td>10.0</td>\n",
       "      <td>NaN</td>\n",
       "      <td>7</td>\n",
       "      <td>2018-12-01</td>\n",
       "    </tr>\n",
       "  </tbody>\n",
       "</table>\n",
       "<p>2 rows × 24 columns</p>\n",
       "</div>"
      ],
      "text/plain": [
       "       연월 customer_id  count_0  count_1  name class gender start_date  \\\n",
       "0  201812    HI492596        5      5.0   XXX   C01      M 2016-04-01   \n",
       "1  201812    TS447283        9     10.0  XXXX   C01      M 2018-06-07   \n",
       "\n",
       "  end_date campaign_id  ...      mean median   max  min  routine_flg  \\\n",
       "0      NaT         CA1  ...  4.666667    4.5   7.0  3.0          1.0   \n",
       "1      NaT         CA2  ...  7.400000    7.0  10.0  6.0          1.0   \n",
       "\n",
       "    calc_date  membership_period  exit_data  period   now_date  \n",
       "0  2019-04-30               36.0        NaN       7 2018-12-01  \n",
       "1  2019-04-30               10.0        NaN       7 2018-12-01  \n",
       "\n",
       "[2 rows x 24 columns]"
      ]
     },
     "execution_count": 109,
     "metadata": {},
     "output_type": "execute_result"
    }
   ],
   "source": [
    "predict_data.head(2)"
   ]
  },
  {
   "cell_type": "code",
   "execution_count": 110,
   "id": "ba722cc9",
   "metadata": {},
   "outputs": [
    {
     "data": {
      "text/plain": [
       "연월                    0.000000\n",
       "customer_id           0.000000\n",
       "count_0               0.000000\n",
       "count_1               6.512924\n",
       "name                  0.000000\n",
       "class                 0.000000\n",
       "gender                0.000000\n",
       "start_date            0.000000\n",
       "end_date             72.022301\n",
       "campaign_id           0.000000\n",
       "is_deleted            0.000000\n",
       "class_name            0.000000\n",
       "price                 0.000000\n",
       "campaign_name         0.000000\n",
       "mean                  0.000000\n",
       "median                0.000000\n",
       "max                   0.000000\n",
       "min                   0.000000\n",
       "routine_flg           0.000000\n",
       "calc_date             0.000000\n",
       "membership_period     0.000000\n",
       "exit_data            72.022301\n",
       "period                0.000000\n",
       "now_date              0.000000\n",
       "dtype: float64"
      ]
     },
     "execution_count": 110,
     "metadata": {},
     "output_type": "execute_result"
    }
   ],
   "source": [
    "predict_data.isna().mean()*100"
   ]
  },
  {
   "cell_type": "code",
   "execution_count": 112,
   "id": "1065cce6",
   "metadata": {},
   "outputs": [
    {
     "data": {
      "text/plain": [
       "연월                    0.000000\n",
       "customer_id           0.000000\n",
       "count_0               0.000000\n",
       "count_1               0.000000\n",
       "name                  0.000000\n",
       "class                 0.000000\n",
       "gender                0.000000\n",
       "start_date            0.000000\n",
       "end_date             71.482787\n",
       "campaign_id           0.000000\n",
       "is_deleted            0.000000\n",
       "class_name            0.000000\n",
       "price                 0.000000\n",
       "campaign_name         0.000000\n",
       "mean                  0.000000\n",
       "median                0.000000\n",
       "max                   0.000000\n",
       "min                   0.000000\n",
       "routine_flg           0.000000\n",
       "calc_date             0.000000\n",
       "membership_period     0.000000\n",
       "exit_data            71.482787\n",
       "period                0.000000\n",
       "now_date              0.000000\n",
       "dtype: float64"
      ]
     },
     "execution_count": 112,
     "metadata": {},
     "output_type": "execute_result"
    }
   ],
   "source": [
    "predict_data = predict_data.dropna(subset=[\"count_1\"])\n",
    "predict_data.isna().mean() * 100"
   ]
  },
  {
   "cell_type": "code",
   "execution_count": 113,
   "id": "fb7f8a36",
   "metadata": {},
   "outputs": [
    {
     "data": {
      "text/plain": [
       "Index(['연월', 'customer_id', 'count_0', 'count_1', 'name', 'class', 'gender',\n",
       "       'start_date', 'end_date', 'campaign_id', 'is_deleted', 'class_name',\n",
       "       'price', 'campaign_name', 'mean', 'median', 'max', 'min', 'routine_flg',\n",
       "       'calc_date', 'membership_period', 'exit_data', 'period', 'now_date'],\n",
       "      dtype='object')"
      ]
     },
     "execution_count": 113,
     "metadata": {},
     "output_type": "execute_result"
    }
   ],
   "source": [
    "predict_data.columns"
   ]
  },
  {
   "cell_type": "code",
   "execution_count": 118,
   "id": "11694d33",
   "metadata": {},
   "outputs": [],
   "source": [
    "traget_col = [ \"is_deleted\",\"gender\",\"class_name\",\"campaign_name\",\"routine_flg\",\"period\",\"count_0\",\"count_1\"]"
   ]
  },
  {
   "cell_type": "code",
   "execution_count": null,
   "id": "ba787432",
   "metadata": {},
   "outputs": [
    {
     "data": {
      "text/html": [
       "<div>\n",
       "<style scoped>\n",
       "    .dataframe tbody tr th:only-of-type {\n",
       "        vertical-align: middle;\n",
       "    }\n",
       "\n",
       "    .dataframe tbody tr th {\n",
       "        vertical-align: top;\n",
       "    }\n",
       "\n",
       "    .dataframe thead th {\n",
       "        text-align: right;\n",
       "    }\n",
       "</style>\n",
       "<table border=\"1\" class=\"dataframe\">\n",
       "  <thead>\n",
       "    <tr style=\"text-align: right;\">\n",
       "      <th></th>\n",
       "      <th>is_deleted</th>\n",
       "      <th>gender</th>\n",
       "      <th>class_name</th>\n",
       "      <th>campaign_name</th>\n",
       "      <th>routine_flg</th>\n",
       "      <th>period</th>\n",
       "      <th>count_0</th>\n",
       "      <th>count_1</th>\n",
       "    </tr>\n",
       "  </thead>\n",
       "  <tbody>\n",
       "    <tr>\n",
       "      <th>0</th>\n",
       "      <td>0.0</td>\n",
       "      <td>M</td>\n",
       "      <td>0_종일</td>\n",
       "      <td>2_일반</td>\n",
       "      <td>1.0</td>\n",
       "      <td>7</td>\n",
       "      <td>5</td>\n",
       "      <td>5.0</td>\n",
       "    </tr>\n",
       "  </tbody>\n",
       "</table>\n",
       "</div>"
      ],
      "text/plain": [
       "   is_deleted gender class_name campaign_name  routine_flg  period  count_0  \\\n",
       "0         0.0      M       0_종일          2_일반          1.0       7        5   \n",
       "\n",
       "   count_1  \n",
       "0      5.0  "
      ]
     },
     "execution_count": 120,
     "metadata": {},
     "output_type": "execute_result"
    }
   ],
   "source": [
    "predict_data = predict_data[traget_col]\n",
    "predict_data.head(1)\n"
   ]
  },
  {
   "cell_type": "code",
   "execution_count": 121,
   "id": "ebffcd3a",
   "metadata": {},
   "outputs": [
    {
     "data": {
      "text/html": [
       "<div>\n",
       "<style scoped>\n",
       "    .dataframe tbody tr th:only-of-type {\n",
       "        vertical-align: middle;\n",
       "    }\n",
       "\n",
       "    .dataframe tbody tr th {\n",
       "        vertical-align: top;\n",
       "    }\n",
       "\n",
       "    .dataframe thead th {\n",
       "        text-align: right;\n",
       "    }\n",
       "</style>\n",
       "<table border=\"1\" class=\"dataframe\">\n",
       "  <thead>\n",
       "    <tr style=\"text-align: right;\">\n",
       "      <th></th>\n",
       "      <th>is_deleted</th>\n",
       "      <th>routine_flg</th>\n",
       "      <th>period</th>\n",
       "      <th>count_0</th>\n",
       "      <th>count_1</th>\n",
       "      <th>gender_M</th>\n",
       "      <th>class_name_1_주간</th>\n",
       "      <th>class_name_2_야간</th>\n",
       "      <th>campaign_name_1_입회비무료</th>\n",
       "      <th>campaign_name_2_일반</th>\n",
       "    </tr>\n",
       "  </thead>\n",
       "  <tbody>\n",
       "    <tr>\n",
       "      <th>0</th>\n",
       "      <td>0.0</td>\n",
       "      <td>1.0</td>\n",
       "      <td>7</td>\n",
       "      <td>5</td>\n",
       "      <td>5.0</td>\n",
       "      <td>True</td>\n",
       "      <td>False</td>\n",
       "      <td>False</td>\n",
       "      <td>False</td>\n",
       "      <td>True</td>\n",
       "    </tr>\n",
       "    <tr>\n",
       "      <th>1</th>\n",
       "      <td>0.0</td>\n",
       "      <td>1.0</td>\n",
       "      <td>7</td>\n",
       "      <td>9</td>\n",
       "      <td>10.0</td>\n",
       "      <td>True</td>\n",
       "      <td>False</td>\n",
       "      <td>False</td>\n",
       "      <td>False</td>\n",
       "      <td>False</td>\n",
       "    </tr>\n",
       "  </tbody>\n",
       "</table>\n",
       "</div>"
      ],
      "text/plain": [
       "   is_deleted  routine_flg  period  count_0  count_1  gender_M  \\\n",
       "0         0.0          1.0       7        5      5.0      True   \n",
       "1         0.0          1.0       7        9     10.0      True   \n",
       "\n",
       "   class_name_1_주간  class_name_2_야간  campaign_name_1_입회비무료  campaign_name_2_일반  \n",
       "0            False            False                  False                True  \n",
       "1            False            False                  False               False  "
      ]
     },
     "execution_count": 121,
     "metadata": {},
     "output_type": "execute_result"
    }
   ],
   "source": [
    "predict_data_dumies = pd.get_dummies(predict_data,drop_first=True)\n",
    "predict_data_dumies.head(2)"
   ]
  },
  {
   "cell_type": "markdown",
   "id": "4fff6fec",
   "metadata": {},
   "source": [
    "# 탈퇴 예측 모델"
   ]
  },
  {
   "cell_type": "code",
   "execution_count": 142,
   "id": "cbcdfef4",
   "metadata": {},
   "outputs": [
    {
     "name": "stdout",
     "output_type": "stream",
     "text": [
      "<class 'pandas.core.frame.DataFrame'>\n",
      "Index: 3689 entries, 0 to 3945\n",
      "Data columns (total 10 columns):\n",
      " #   Column                 Non-Null Count  Dtype  \n",
      "---  ------                 --------------  -----  \n",
      " 0   is_deleted             3689 non-null   float64\n",
      " 1   routine_flg            3689 non-null   float64\n",
      " 2   period                 3689 non-null   int64  \n",
      " 3   count_0                3689 non-null   int64  \n",
      " 4   count_1                3689 non-null   float64\n",
      " 5   gender_M               3689 non-null   bool   \n",
      " 6   class_name_1_주간        3689 non-null   bool   \n",
      " 7   class_name_2_야간        3689 non-null   bool   \n",
      " 8   campaign_name_1_입회비무료  3689 non-null   bool   \n",
      " 9   campaign_name_2_일반     3689 non-null   bool   \n",
      "dtypes: bool(5), float64(3), int64(2)\n",
      "memory usage: 320.0 KB\n"
     ]
    }
   ],
   "source": [
    "predict_data_dumies.info()"
   ]
  },
  {
   "cell_type": "code",
   "execution_count": 138,
   "id": "900f83ba",
   "metadata": {},
   "outputs": [
    {
     "data": {
      "text/plain": [
       "((3689, 9), (3689,))"
      ]
     },
     "execution_count": 138,
     "metadata": {},
     "output_type": "execute_result"
    }
   ],
   "source": [
    "from sklearn.tree import DecisionTreeClassifier\n",
    "from sklearn.model_selection import train_test_split\n",
    "X = predict_data_dumies.drop(\"is_deleted\", axis=1)\n",
    "y = predict_data_dumies['is_deleted']\n",
    "\n",
    "X.shape,y.shape"
   ]
  },
  {
   "cell_type": "code",
   "execution_count": 139,
   "id": "7de147f5",
   "metadata": {},
   "outputs": [],
   "source": [
    "import seaborn as sns"
   ]
  },
  {
   "cell_type": "code",
   "execution_count": 140,
   "id": "6a864cc2",
   "metadata": {},
   "outputs": [
    {
     "data": {
      "text/plain": [
       "<Axes: >"
      ]
     },
     "execution_count": 140,
     "metadata": {},
     "output_type": "execute_result"
    },
    {
     "data": {
      "image/png": "[encoded data removed]",
      "text/plain": [
       "<Figure size 640x480 with 2 Axes>"
      ]
     },
     "metadata": {},
     "output_type": "display_data"
    }
   ],
   "source": [
    "sns.heatmap(predict_data_dumies.corr())"
   ]
  },
  {
   "cell_type": "code",
   "execution_count": 146,
   "id": "53bd2c96",
   "metadata": {},
   "outputs": [
    {
     "name": "stdout",
     "output_type": "stream",
     "text": [
      "(2951, 9) (738, 9) (2951,) (738,)\n"
     ]
    }
   ],
   "source": [
    "X_train,X_test,y_train,y_test = train_test_split(X,y,test_size=0.2,random_state=5)\n",
    "print(X_train.shape,X_test.shape,y_train.shape,y_test.shape)"
   ]
  },
  {
   "cell_type": "code",
   "execution_count": 147,
   "id": "2ec0362b",
   "metadata": {},
   "outputs": [
    {
     "data": {
      "text/plain": [
       "3595    1.0\n",
       "2085    0.0\n",
       "2634    0.0\n",
       "1369    0.0\n",
       "305     0.0\n",
       "Name: is_deleted, dtype: float64"
      ]
     },
     "execution_count": 147,
     "metadata": {},
     "output_type": "execute_result"
    }
   ],
   "source": [
    "y_train.head()"
   ]
  },
  {
   "cell_type": "code",
   "execution_count": 152,
   "id": "876beee6",
   "metadata": {},
   "outputs": [],
   "source": [
    "dt_model = DecisionTreeClassifier(random_state=5)\n",
    "dt_model.fit(X_train,y_train)\n",
    "dt_pred = dt_model.predict(X_test)\n"
   ]
  },
  {
   "cell_type": "code",
   "execution_count": 153,
   "id": "addc0fba",
   "metadata": {},
   "outputs": [
    {
     "data": {
      "text/plain": [
       "0.9413758048119282"
      ]
     },
     "execution_count": 153,
     "metadata": {},
     "output_type": "execute_result"
    }
   ],
   "source": [
    "dt_model.score(X_train,y_train)"
   ]
  },
  {
   "cell_type": "code",
   "execution_count": 154,
   "id": "f6386696",
   "metadata": {},
   "outputs": [
    {
     "data": {
      "text/plain": [
       "0.8929539295392954"
      ]
     },
     "execution_count": 154,
     "metadata": {},
     "output_type": "execute_result"
    }
   ],
   "source": [
    "dt_model.score(X_test,y_test)"
   ]
  },
  {
   "cell_type": "code",
   "execution_count": null,
   "id": "fa6f62ff",
   "metadata": {},
   "outputs": [
    {
     "data": {
      "text/plain": [
       "0.8105515587529976"
      ]
     },
     "execution_count": 155,
     "metadata": {},
     "output_type": "execute_result"
    }
   ],
   "source": [
    "from sklearn.metrics import accuracy_score,roc_auc_score,f1_score\n",
    "f1_score(y_test,dt_pred)\n",
    "accuracy_score(y_test, dt_pred)\n",
    "roc_auc_score(y_test, dt_pred)"
   ]
  },
  {
   "cell_type": "code",
   "execution_count": null,
   "id": "57cbf538",
   "metadata": {},
   "outputs": [],
   "source": [
    "# 모델에 기여한 변수\n"
   ]
  },
  {
   "cell_type": "code",
   "execution_count": 160,
   "id": "b818b97e",
   "metadata": {},
   "outputs": [
    {
     "data": {
      "text/html": [
       "<div>\n",
       "<style scoped>\n",
       "    .dataframe tbody tr th:only-of-type {\n",
       "        vertical-align: middle;\n",
       "    }\n",
       "\n",
       "    .dataframe tbody tr th {\n",
       "        vertical-align: top;\n",
       "    }\n",
       "\n",
       "    .dataframe thead th {\n",
       "        text-align: right;\n",
       "    }\n",
       "</style>\n",
       "<table border=\"1\" class=\"dataframe\">\n",
       "  <thead>\n",
       "    <tr style=\"text-align: right;\">\n",
       "      <th></th>\n",
       "      <th>feature_names</th>\n",
       "      <th>coeff</th>\n",
       "    </tr>\n",
       "  </thead>\n",
       "  <tbody>\n",
       "    <tr>\n",
       "      <th>0</th>\n",
       "      <td>routine_flg</td>\n",
       "      <td>0.462553</td>\n",
       "    </tr>\n",
       "    <tr>\n",
       "      <th>1</th>\n",
       "      <td>period</td>\n",
       "      <td>0.000000</td>\n",
       "    </tr>\n",
       "    <tr>\n",
       "      <th>2</th>\n",
       "      <td>count_0</td>\n",
       "      <td>0.219561</td>\n",
       "    </tr>\n",
       "    <tr>\n",
       "      <th>3</th>\n",
       "      <td>count_1</td>\n",
       "      <td>0.138730</td>\n",
       "    </tr>\n",
       "    <tr>\n",
       "      <th>4</th>\n",
       "      <td>gender_M</td>\n",
       "      <td>0.018238</td>\n",
       "    </tr>\n",
       "    <tr>\n",
       "      <th>5</th>\n",
       "      <td>class_name_1_주간</td>\n",
       "      <td>0.016930</td>\n",
       "    </tr>\n",
       "    <tr>\n",
       "      <th>6</th>\n",
       "      <td>class_name_2_야간</td>\n",
       "      <td>0.019936</td>\n",
       "    </tr>\n",
       "    <tr>\n",
       "      <th>7</th>\n",
       "      <td>campaign_name_1_입회비무료</td>\n",
       "      <td>0.010821</td>\n",
       "    </tr>\n",
       "    <tr>\n",
       "      <th>8</th>\n",
       "      <td>campaign_name_2_일반</td>\n",
       "      <td>0.113231</td>\n",
       "    </tr>\n",
       "  </tbody>\n",
       "</table>\n",
       "</div>"
      ],
      "text/plain": [
       "           feature_names     coeff\n",
       "0            routine_flg  0.462553\n",
       "1                 period  0.000000\n",
       "2                count_0  0.219561\n",
       "3                count_1  0.138730\n",
       "4               gender_M  0.018238\n",
       "5        class_name_1_주간  0.016930\n",
       "6        class_name_2_야간  0.019936\n",
       "7  campaign_name_1_입회비무료  0.010821\n",
       "8     campaign_name_2_일반  0.113231"
      ]
     },
     "execution_count": 160,
     "metadata": {},
     "output_type": "execute_result"
    }
   ],
   "source": [
    "importance = pd.DataFrame({\"feature_names\": X.columns,\"coeff\": dt_model.feature_importances_})\n",
    "importance"
   ]
  },
  {
   "cell_type": "code",
   "execution_count": 168,
   "id": "46f782ac",
   "metadata": {},
   "outputs": [
    {
     "data": {
      "text/plain": [
       "['routine_flg',\n",
       " 'period',\n",
       " 'count_0',\n",
       " 'count_1',\n",
       " 'gender_M',\n",
       " 'class_name_1_주간',\n",
       " 'class_name_2_야간',\n",
       " 'campaign_name_1_입회비무료',\n",
       " 'campaign_name_2_일반']"
      ]
     },
     "execution_count": 168,
     "metadata": {},
     "output_type": "execute_result"
    }
   ],
   "source": [
    "importance.feature_names.tolist()"
   ]
  },
  {
   "cell_type": "code",
   "execution_count": 169,
   "id": "df117cc3",
   "metadata": {},
   "outputs": [
    {
     "data": {
      "text/html": [
       "<div>\n",
       "<style scoped>\n",
       "    .dataframe tbody tr th:only-of-type {\n",
       "        vertical-align: middle;\n",
       "    }\n",
       "\n",
       "    .dataframe tbody tr th {\n",
       "        vertical-align: top;\n",
       "    }\n",
       "\n",
       "    .dataframe thead th {\n",
       "        text-align: right;\n",
       "    }\n",
       "</style>\n",
       "<table border=\"1\" class=\"dataframe\">\n",
       "  <thead>\n",
       "    <tr style=\"text-align: right;\">\n",
       "      <th></th>\n",
       "      <th>routine_flg</th>\n",
       "      <th>count_0</th>\n",
       "      <th>campaign_name_2_일반</th>\n",
       "    </tr>\n",
       "  </thead>\n",
       "  <tbody>\n",
       "    <tr>\n",
       "      <th>0</th>\n",
       "      <td>1.0</td>\n",
       "      <td>5</td>\n",
       "      <td>True</td>\n",
       "    </tr>\n",
       "    <tr>\n",
       "      <th>1</th>\n",
       "      <td>1.0</td>\n",
       "      <td>9</td>\n",
       "      <td>False</td>\n",
       "    </tr>\n",
       "    <tr>\n",
       "      <th>2</th>\n",
       "      <td>1.0</td>\n",
       "      <td>4</td>\n",
       "      <td>True</td>\n",
       "    </tr>\n",
       "    <tr>\n",
       "      <th>3</th>\n",
       "      <td>1.0</td>\n",
       "      <td>5</td>\n",
       "      <td>True</td>\n",
       "    </tr>\n",
       "    <tr>\n",
       "      <th>4</th>\n",
       "      <td>1.0</td>\n",
       "      <td>9</td>\n",
       "      <td>True</td>\n",
       "    </tr>\n",
       "  </tbody>\n",
       "</table>\n",
       "</div>"
      ],
      "text/plain": [
       "   routine_flg  count_0  campaign_name_2_일반\n",
       "0          1.0        5                True\n",
       "1          1.0        9               False\n",
       "2          1.0        4                True\n",
       "3          1.0        5                True\n",
       "4          1.0        9                True"
      ]
     },
     "execution_count": 169,
     "metadata": {},
     "output_type": "execute_result"
    }
   ],
   "source": [
    "X2 = X[[\"routine_flg\", \"count_0\", \"campaign_name_2_일반\"]]\n",
    "X2.head()"
   ]
  },
  {
   "cell_type": "code",
   "execution_count": 170,
   "id": "c2b21f58",
   "metadata": {},
   "outputs": [
    {
     "name": "stdout",
     "output_type": "stream",
     "text": [
      "(2951, 3) (738, 3) (2951,) (738,)\n"
     ]
    }
   ],
   "source": [
    "X_train, X_test, y_train, y_test = train_test_split(X2, y, test_size=0.2, random_state=5)\n",
    "print(X_train.shape, X_test.shape, y_train.shape, y_test.shape)"
   ]
  },
  {
   "cell_type": "code",
   "execution_count": 171,
   "id": "56eb7f41",
   "metadata": {},
   "outputs": [],
   "source": [
    "dt_model2 = DecisionTreeClassifier(random_state=5)\n",
    "dt_model2.fit(X_train, y_train)\n",
    "dt_pred = dt_model2.predict(X_test)"
   ]
  },
  {
   "cell_type": "code",
   "execution_count": 174,
   "id": "a6b58bde",
   "metadata": {},
   "outputs": [
    {
     "name": "stdout",
     "output_type": "stream",
     "text": [
      "0.8040201005025126 0.8943089430894309 0.8462618462618463\n"
     ]
    }
   ],
   "source": [
    "print(f1_score(y_test, dt_pred),\n",
    "accuracy_score(y_test, dt_pred),\n",
    "roc_auc_score(y_test, dt_pred))"
   ]
  },
  {
   "cell_type": "markdown",
   "id": "782ab624",
   "metadata": {},
   "source": [
    "# 회원 탈퇴 예측"
   ]
  },
  {
   "cell_type": "code",
   "execution_count": 176,
   "id": "25966a6c",
   "metadata": {},
   "outputs": [],
   "source": [
    "routine_flg = 1\n",
    "count_0 = 5\n",
    "campaign_name_2_일반 = 1\n",
    "input_data = [[routine_flg,count_0,campaign_name_2_일반]]\n",
    "\n",
    "dt_pred3 = dt_model2.predict(input_data)"
   ]
  },
  {
   "cell_type": "code",
   "execution_count": 177,
   "id": "78c4c695",
   "metadata": {},
   "outputs": [
    {
     "data": {
      "text/plain": [
       "array([0.])"
      ]
     },
     "execution_count": 177,
     "metadata": {},
     "output_type": "execute_result"
    }
   ],
   "source": [
    "dt_pred3"
   ]
  },
  {
   "cell_type": "code",
   "execution_count": 180,
   "id": "3c436161",
   "metadata": {},
   "outputs": [
    {
     "name": "stderr",
     "output_type": "stream",
     "text": [
      "\u001b[2mResolved \u001b[1m124 packages\u001b[0m \u001b[2min 838ms\u001b[0m\u001b[0m\n",
      "\u001b[36m\u001b[1mDownloading\u001b[0m\u001b[39m pip \u001b[2m(1.7MiB)\u001b[0m\n",
      " \u001b[32m\u001b[1mDownloaded\u001b[0m\u001b[39m pip\n",
      "\u001b[2mPrepared \u001b[1m1 package\u001b[0m \u001b[2min 1.80s\u001b[0m\u001b[0m\n",
      "\u001b[2mInstalled \u001b[1m1 package\u001b[0m \u001b[2min 226ms\u001b[0m\u001b[0m\n",
      " \u001b[32m+\u001b[39m \u001b[1mpip\u001b[0m\u001b[2m==25.1.1\u001b[0m\n"
     ]
    }
   ],
   "source": [
    "!uv add pip"
   ]
  },
  {
   "cell_type": "code",
   "execution_count": 181,
   "id": "c51aad74",
   "metadata": {},
   "outputs": [
    {
     "name": "stderr",
     "output_type": "stream",
     "text": [
      "  \u001b[31m×\u001b[0m Failed to build `auto-sklearn==0.15.0`\n",
      "\u001b[31m  ├─▶ \u001b[0mThe build backend returned an error\n",
      "\u001b[31m  ╰─▶ \u001b[0mCall to `setuptools.build_meta:__legacy__.build_wheel` failed (exit\n",
      "\u001b[31m      \u001b[0mcode: 1)\n",
      "\n",
      "\u001b[31m      \u001b[0m\u001b[31m[stderr]\u001b[39m\n",
      "\u001b[31m      \u001b[0mTraceback (most recent call last):\n",
      "\u001b[31m      \u001b[0m  File \u001b[35m\"<string>\"\u001b[0m, line \u001b[35m14\u001b[0m, in \u001b[35m<module>\u001b[0m\n",
      "\u001b[31m      \u001b[0m    requires = get_requires_for_build({})\n",
      "\u001b[31m      \u001b[0m  File\n",
      "\u001b[31m      \u001b[0m\u001b[35m\"C:\\Users\\user\\AppData\\Local\\uv\\cache\\builds-v0\\.tmpsHE4RL\\Lib\\site-packages\\setuptools\\build_meta.py\"\u001b[0m,\n",
      "\u001b[31m      \u001b[0mline \u001b[35m331\u001b[0m, in \u001b[35mget_requires_for_build_wheel\u001b[0m\n",
      "\u001b[31m      \u001b[0m    return \u001b[31mself._get_build_requires\u001b[0m\u001b[1;31m(config_settings, requirements=[])\u001b[0m\n",
      "\u001b[31m      \u001b[0m           \u001b[31m~~~~~~~~~~~~~~~~~~~~~~~~\u001b[0m\u001b[1;31m^^^^^^^^^^^^^^^^^^^^^^^^^^^^^^^^^^\u001b[0m\n",
      "\u001b[31m      \u001b[0m  File\n",
      "\u001b[31m      \u001b[0m\u001b[35m\"C:\\Users\\user\\AppData\\Local\\uv\\cache\\builds-v0\\.tmpsHE4RL\\Lib\\site-packages\\setuptools\\build_meta.py\"\u001b[0m,\n",
      "\u001b[31m      \u001b[0mline \u001b[35m301\u001b[0m, in \u001b[35m_get_build_requires\u001b[0m\n",
      "\u001b[31m      \u001b[0m    \u001b[31mself.run_setup\u001b[0m\u001b[1;31m()\u001b[0m\n",
      "\u001b[31m      \u001b[0m    \u001b[31m~~~~~~~~~~~~~~\u001b[0m\u001b[1;31m^^\u001b[0m\n",
      "\u001b[31m      \u001b[0m  File\n",
      "\u001b[31m      \u001b[0m\u001b[35m\"C:\\Users\\user\\AppData\\Local\\uv\\cache\\builds-v0\\.tmpsHE4RL\\Lib\\site-packages\\setuptools\\build_meta.py\"\u001b[0m,\n",
      "\u001b[31m      \u001b[0mline \u001b[35m512\u001b[0m, in \u001b[35mrun_setup\u001b[0m\n",
      "\u001b[31m      \u001b[0m    \u001b[31msuper().run_setup\u001b[0m\u001b[1;31m(setup_script=setup_script)\u001b[0m\n",
      "\u001b[31m      \u001b[0m    \u001b[31m~~~~~~~~~~~~~~~~~\u001b[0m\u001b[1;31m^^^^^^^^^^^^^^^^^^^^^^^^^^^\u001b[0m\n",
      "\u001b[31m      \u001b[0m  File\n",
      "\u001b[31m      \u001b[0m\u001b[35m\"C:\\Users\\user\\AppData\\Local\\uv\\cache\\builds-v0\\.tmpsHE4RL\\Lib\\site-packages\\setuptools\\build_meta.py\"\u001b[0m,\n",
      "\u001b[31m      \u001b[0mline \u001b[35m317\u001b[0m, in \u001b[35mrun_setup\u001b[0m\n",
      "\u001b[31m      \u001b[0m    \u001b[31mexec\u001b[0m\u001b[1;31m(code, locals())\u001b[0m\n",
      "\u001b[31m      \u001b[0m    \u001b[31m~~~~\u001b[0m\u001b[1;31m^^^^^^^^^^^^^^^^\u001b[0m\n",
      "\u001b[31m      \u001b[0m  File \u001b[35m\"<string>\"\u001b[0m, line \u001b[35m10\u001b[0m, in \u001b[35m<module>\u001b[0m\n",
      "\u001b[31m      \u001b[0m    impo\u001b[1;31mrt json\u001b[0m\n",
      "\u001b[31m      \u001b[0m        \u001b[1;31m^^^^^^^\u001b[0m\n",
      "\u001b[31m      \u001b[0m    ...<4 lines>...\n",
      "\u001b[31m      \u001b[0m    \u001b[1;31melse:\u001b[0m\n",
      "\u001b[31m      \u001b[0m    \u001b[1;31m^^^^^\u001b[0m\n",
      "\u001b[31m      \u001b[0m\u001b[1;35mValueError\u001b[0m: \u001b[35mDetected unsupported operating system: win32.\n",
      "\u001b[31m      \u001b[0mPlease check the compability information of auto-sklearn:\n",
      "\u001b[31m      \u001b[0mhttps://automl.github.io/auto-sklearn/master/installation.html#windows-osx-compatibility\u001b[0m\n",
      "\n",
      "\u001b[31m      \u001b[0m\u001b[36m\u001b[1mhint\u001b[0m\u001b[39m\u001b[1m:\u001b[0m This usually indicates a problem with the package or the build\n",
      "\u001b[31m      \u001b[0menvironment.\n",
      "\u001b[36m  help: \u001b[0mIf you want to add the package regardless of the failed resolution,\n",
      "        provide the `\u001b[32m--frozen\u001b[39m` flag to skip locking and syncing.\n"
     ]
    }
   ],
   "source": [
    "!uv add auto-sklearn"
   ]
  },
  {
   "cell_type": "code",
   "execution_count": null,
   "id": "57caa47f",
   "metadata": {},
   "outputs": [],
   "source": []
  }
 ],
 "metadata": {
  "kernelspec": {
   "display_name": ".venv",
   "language": "python",
   "name": "python3"
  },
  "language_info": {
   "codemirror_mode": {
    "name": "ipython",
    "version": 3
   },
   "file_extension": ".py",
   "mimetype": "text/x-python",
   "name": "python",
   "nbconvert_exporter": "python",
   "pygments_lexer": "ipython3",
   "version": "3.13.2"
  }
 },
 "nbformat": 4,
 "nbformat_minor": 5
}
