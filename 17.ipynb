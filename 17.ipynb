{
 "cells": [
  {
   "cell_type": "code",
   "execution_count": null,
   "id": "1646268d",
   "metadata": {},
   "outputs": [],
   "source": []
  },
  {
   "cell_type": "code",
   "execution_count": 22,
   "id": "077ca988",
   "metadata": {},
   "outputs": [],
   "source": [
    "# 경고(warning) 메시지 비표시 설정\n",
    "import warnings\n",
    "warnings.filterwarnings(\"ignore\")\n",
    "\n",
    "# pandas 라이브러리 불러오기\n",
    "import pandas as pd\n",
    "import glob"
   ]
  },
  {
   "cell_type": "code",
   "execution_count": 23,
   "id": "1530678f",
   "metadata": {},
   "outputs": [
    {
     "name": "stderr",
     "output_type": "stream",
     "text": [
      "\u001b[2mResolved \u001b[1m125 packages\u001b[0m \u001b[2min 2ms\u001b[0m\u001b[0m\n",
      "\u001b[2mAudited \u001b[1m120 packages\u001b[0m \u001b[2min 0.12ms\u001b[0m\u001b[0m\n"
     ]
    }
   ],
   "source": [
    "!uv add lxml"
   ]
  },
  {
   "cell_type": "code",
   "execution_count": 24,
   "id": "a89d6636",
   "metadata": {},
   "outputs": [],
   "source": [
    "beachu_file = glob.glob(\"./data/배추가격/*.xls\")"
   ]
  },
  {
   "cell_type": "code",
   "execution_count": 45,
   "id": "5b48a5fd",
   "metadata": {},
   "outputs": [
    {
     "name": "stdout",
     "output_type": "stream",
     "text": [
      "['./data/배추가격\\\\가격정보202001-05.xls', './data/배추가격\\\\가격정보202006-10.xls', './data/배추가격\\\\가격정보202011-12.xls', './data/배추가격\\\\가격정보202101-05.xls', './data/배추가격\\\\가격정보202106-10.xls', './data/배추가격\\\\가격정보202111-12.xls', './data/배추가격\\\\가격정보202201-05.xls', './data/배추가격\\\\가격정보202206-10.xls', './data/배추가격\\\\가격정보202211-12.xls', './data/배추가격\\\\가격정보202301-05.xls', './data/배추가격\\\\가격정보202306-10.xls', './data/배추가격\\\\가격정보202311-12.xls']\n"
     ]
    }
   ],
   "source": [
    "print(beachu_file)"
   ]
  },
  {
   "cell_type": "code",
   "execution_count": 62,
   "id": "342c7d7a",
   "metadata": {},
   "outputs": [
    {
     "data": {
      "text/plain": [
       "'./data/배추가격\\\\가격정보202011-12.xls'"
      ]
     },
     "execution_count": 62,
     "metadata": {},
     "output_type": "execute_result"
    }
   ],
   "source": [
    "beachu_file[2]"
   ]
  },
  {
   "cell_type": "code",
   "execution_count": null,
   "id": "1a78a4f5",
   "metadata": {},
   "outputs": [],
   "source": [
    "# beachu = pd.read_excel(beachu_file[0])\n",
    "# beachu.head()\n",
    "beachu = pd.DataFrame()\n",
    "for i in beachu_file:\n",
    "    # print(i)\n",
    "    tmp = pd.read_html(i)[0]\n",
    "    # print(tmp)\n",
    "    beachu = pd.concat([beachu, tmp], axis=0, ignore_index=True)"
   ]
  },
  {
   "cell_type": "code",
   "execution_count": 69,
   "id": "0d7226e8",
   "metadata": {},
   "outputs": [
    {
     "data": {
      "text/html": [
       "<div>\n",
       "<style scoped>\n",
       "    .dataframe tbody tr th:only-of-type {\n",
       "        vertical-align: middle;\n",
       "    }\n",
       "\n",
       "    .dataframe tbody tr th {\n",
       "        vertical-align: top;\n",
       "    }\n",
       "\n",
       "    .dataframe thead th {\n",
       "        text-align: right;\n",
       "    }\n",
       "</style>\n",
       "<table border=\"1\" class=\"dataframe\">\n",
       "  <thead>\n",
       "    <tr style=\"text-align: right;\">\n",
       "      <th></th>\n",
       "      <th>구분</th>\n",
       "      <th>평균</th>\n",
       "      <th>전통시장</th>\n",
       "      <th>유통업체</th>\n",
       "    </tr>\n",
       "  </thead>\n",
       "  <tbody>\n",
       "    <tr>\n",
       "      <th>0</th>\n",
       "      <td>2020.05.29</td>\n",
       "      <td>4667.0</td>\n",
       "      <td>5044.0</td>\n",
       "      <td>3868</td>\n",
       "    </tr>\n",
       "    <tr>\n",
       "      <th>1</th>\n",
       "      <td>등락률</td>\n",
       "      <td>4.9</td>\n",
       "      <td>1.8</td>\n",
       "      <td>5.4</td>\n",
       "    </tr>\n",
       "    <tr>\n",
       "      <th>2</th>\n",
       "      <td>2020.05.28</td>\n",
       "      <td>4450.0</td>\n",
       "      <td>4955.0</td>\n",
       "      <td>3668</td>\n",
       "    </tr>\n",
       "    <tr>\n",
       "      <th>3</th>\n",
       "      <td>2020.05.27</td>\n",
       "      <td>4497.0</td>\n",
       "      <td>4949.0</td>\n",
       "      <td>3799</td>\n",
       "    </tr>\n",
       "    <tr>\n",
       "      <th>4</th>\n",
       "      <td>2020.05.26</td>\n",
       "      <td>4449.0</td>\n",
       "      <td>4870.0</td>\n",
       "      <td>3799</td>\n",
       "    </tr>\n",
       "  </tbody>\n",
       "</table>\n",
       "</div>"
      ],
      "text/plain": [
       "           구분      평균    전통시장  유통업체\n",
       "0  2020.05.29  4667.0  5044.0  3868\n",
       "1         등락률     4.9     1.8   5.4\n",
       "2  2020.05.28  4450.0  4955.0  3668\n",
       "3  2020.05.27  4497.0  4949.0  3799\n",
       "4  2020.05.26  4449.0  4870.0  3799"
      ]
     },
     "execution_count": 69,
     "metadata": {},
     "output_type": "execute_result"
    }
   ],
   "source": [
    "beachu.head()"
   ]
  },
  {
   "cell_type": "code",
   "execution_count": 70,
   "id": "cdd5d9aa",
   "metadata": {},
   "outputs": [
    {
     "data": {
      "text/html": [
       "<div>\n",
       "<style scoped>\n",
       "    .dataframe tbody tr th:only-of-type {\n",
       "        vertical-align: middle;\n",
       "    }\n",
       "\n",
       "    .dataframe tbody tr th {\n",
       "        vertical-align: top;\n",
       "    }\n",
       "\n",
       "    .dataframe thead th {\n",
       "        text-align: right;\n",
       "    }\n",
       "</style>\n",
       "<table border=\"1\" class=\"dataframe\">\n",
       "  <thead>\n",
       "    <tr style=\"text-align: right;\">\n",
       "      <th></th>\n",
       "      <th>구분</th>\n",
       "      <th>평균</th>\n",
       "      <th>전통시장</th>\n",
       "      <th>유통업체</th>\n",
       "    </tr>\n",
       "  </thead>\n",
       "  <tbody>\n",
       "    <tr>\n",
       "      <th>1007</th>\n",
       "      <td>2023.11.06</td>\n",
       "      <td>3517.0</td>\n",
       "      <td>5092.0</td>\n",
       "      <td>2584.0</td>\n",
       "    </tr>\n",
       "    <tr>\n",
       "      <th>1008</th>\n",
       "      <td>2023.11.03</td>\n",
       "      <td>3611.0</td>\n",
       "      <td>5151.0</td>\n",
       "      <td>2626.0</td>\n",
       "    </tr>\n",
       "    <tr>\n",
       "      <th>1009</th>\n",
       "      <td>2023.11.02</td>\n",
       "      <td>3604.0</td>\n",
       "      <td>5129.0</td>\n",
       "      <td>2628.0</td>\n",
       "    </tr>\n",
       "    <tr>\n",
       "      <th>1010</th>\n",
       "      <td>2023.11.01</td>\n",
       "      <td>4704.0</td>\n",
       "      <td>5289.0</td>\n",
       "      <td>4344.0</td>\n",
       "    </tr>\n",
       "    <tr>\n",
       "      <th>1011</th>\n",
       "      <td>소매가격  채소류,  배추,  전체,  상품,  1포기  기간별/일간/전통시장/유통...</td>\n",
       "      <td>NaN</td>\n",
       "      <td>NaN</td>\n",
       "      <td>NaN</td>\n",
       "    </tr>\n",
       "  </tbody>\n",
       "</table>\n",
       "</div>"
      ],
      "text/plain": [
       "                                                     구분      평균    전통시장  \\\n",
       "1007                                         2023.11.06  3517.0  5092.0   \n",
       "1008                                         2023.11.03  3611.0  5151.0   \n",
       "1009                                         2023.11.02  3604.0  5129.0   \n",
       "1010                                         2023.11.01  4704.0  5289.0   \n",
       "1011  소매가격  채소류,  배추,  전체,  상품,  1포기  기간별/일간/전통시장/유통...     NaN     NaN   \n",
       "\n",
       "        유통업체  \n",
       "1007  2584.0  \n",
       "1008  2626.0  \n",
       "1009  2628.0  \n",
       "1010  4344.0  \n",
       "1011     NaN  "
      ]
     },
     "execution_count": 70,
     "metadata": {},
     "output_type": "execute_result"
    }
   ],
   "source": [
    "beachu.tail()"
   ]
  },
  {
   "cell_type": "code",
   "execution_count": 71,
   "id": "a2521e81",
   "metadata": {},
   "outputs": [],
   "source": [
    "beachu = beachu[~(beachu[\"구분\"].isin([\"등락률\", \"소매가격\"]))]"
   ]
  },
  {
   "cell_type": "code",
   "execution_count": 72,
   "id": "7ec0d455",
   "metadata": {},
   "outputs": [
    {
     "data": {
      "text/html": [
       "<div>\n",
       "<style scoped>\n",
       "    .dataframe tbody tr th:only-of-type {\n",
       "        vertical-align: middle;\n",
       "    }\n",
       "\n",
       "    .dataframe tbody tr th {\n",
       "        vertical-align: top;\n",
       "    }\n",
       "\n",
       "    .dataframe thead th {\n",
       "        text-align: right;\n",
       "    }\n",
       "</style>\n",
       "<table border=\"1\" class=\"dataframe\">\n",
       "  <thead>\n",
       "    <tr style=\"text-align: right;\">\n",
       "      <th></th>\n",
       "      <th>구분</th>\n",
       "      <th>평균</th>\n",
       "      <th>전통시장</th>\n",
       "      <th>유통업체</th>\n",
       "    </tr>\n",
       "  </thead>\n",
       "  <tbody>\n",
       "    <tr>\n",
       "      <th>0</th>\n",
       "      <td>2020.05.29</td>\n",
       "      <td>4667.0</td>\n",
       "      <td>5044.0</td>\n",
       "      <td>3868</td>\n",
       "    </tr>\n",
       "    <tr>\n",
       "      <th>2</th>\n",
       "      <td>2020.05.28</td>\n",
       "      <td>4450.0</td>\n",
       "      <td>4955.0</td>\n",
       "      <td>3668</td>\n",
       "    </tr>\n",
       "    <tr>\n",
       "      <th>3</th>\n",
       "      <td>2020.05.27</td>\n",
       "      <td>4497.0</td>\n",
       "      <td>4949.0</td>\n",
       "      <td>3799</td>\n",
       "    </tr>\n",
       "    <tr>\n",
       "      <th>4</th>\n",
       "      <td>2020.05.26</td>\n",
       "      <td>4449.0</td>\n",
       "      <td>4870.0</td>\n",
       "      <td>3799</td>\n",
       "    </tr>\n",
       "    <tr>\n",
       "      <th>5</th>\n",
       "      <td>2020.05.25</td>\n",
       "      <td>4346.0</td>\n",
       "      <td>4683.0</td>\n",
       "      <td>3774</td>\n",
       "    </tr>\n",
       "  </tbody>\n",
       "</table>\n",
       "</div>"
      ],
      "text/plain": [
       "           구분      평균    전통시장  유통업체\n",
       "0  2020.05.29  4667.0  5044.0  3868\n",
       "2  2020.05.28  4450.0  4955.0  3668\n",
       "3  2020.05.27  4497.0  4949.0  3799\n",
       "4  2020.05.26  4449.0  4870.0  3799\n",
       "5  2020.05.25  4346.0  4683.0  3774"
      ]
     },
     "execution_count": 72,
     "metadata": {},
     "output_type": "execute_result"
    }
   ],
   "source": [
    "beachu.head()"
   ]
  },
  {
   "cell_type": "code",
   "execution_count": 73,
   "id": "d8c5bc5b",
   "metadata": {},
   "outputs": [
    {
     "data": {
      "text/html": [
       "<div>\n",
       "<style scoped>\n",
       "    .dataframe tbody tr th:only-of-type {\n",
       "        vertical-align: middle;\n",
       "    }\n",
       "\n",
       "    .dataframe tbody tr th {\n",
       "        vertical-align: top;\n",
       "    }\n",
       "\n",
       "    .dataframe thead th {\n",
       "        text-align: right;\n",
       "    }\n",
       "</style>\n",
       "<table border=\"1\" class=\"dataframe\">\n",
       "  <thead>\n",
       "    <tr style=\"text-align: right;\">\n",
       "      <th></th>\n",
       "      <th>구분</th>\n",
       "      <th>평균</th>\n",
       "      <th>전통시장</th>\n",
       "      <th>유통업체</th>\n",
       "    </tr>\n",
       "  </thead>\n",
       "  <tbody>\n",
       "    <tr>\n",
       "      <th>1007</th>\n",
       "      <td>2023.11.06</td>\n",
       "      <td>3517.0</td>\n",
       "      <td>5092.0</td>\n",
       "      <td>2584.0</td>\n",
       "    </tr>\n",
       "    <tr>\n",
       "      <th>1008</th>\n",
       "      <td>2023.11.03</td>\n",
       "      <td>3611.0</td>\n",
       "      <td>5151.0</td>\n",
       "      <td>2626.0</td>\n",
       "    </tr>\n",
       "    <tr>\n",
       "      <th>1009</th>\n",
       "      <td>2023.11.02</td>\n",
       "      <td>3604.0</td>\n",
       "      <td>5129.0</td>\n",
       "      <td>2628.0</td>\n",
       "    </tr>\n",
       "    <tr>\n",
       "      <th>1010</th>\n",
       "      <td>2023.11.01</td>\n",
       "      <td>4704.0</td>\n",
       "      <td>5289.0</td>\n",
       "      <td>4344.0</td>\n",
       "    </tr>\n",
       "    <tr>\n",
       "      <th>1011</th>\n",
       "      <td>소매가격  채소류,  배추,  전체,  상품,  1포기  기간별/일간/전통시장/유통...</td>\n",
       "      <td>NaN</td>\n",
       "      <td>NaN</td>\n",
       "      <td>NaN</td>\n",
       "    </tr>\n",
       "  </tbody>\n",
       "</table>\n",
       "</div>"
      ],
      "text/plain": [
       "                                                     구분      평균    전통시장  \\\n",
       "1007                                         2023.11.06  3517.0  5092.0   \n",
       "1008                                         2023.11.03  3611.0  5151.0   \n",
       "1009                                         2023.11.02  3604.0  5129.0   \n",
       "1010                                         2023.11.01  4704.0  5289.0   \n",
       "1011  소매가격  채소류,  배추,  전체,  상품,  1포기  기간별/일간/전통시장/유통...     NaN     NaN   \n",
       "\n",
       "        유통업체  \n",
       "1007  2584.0  \n",
       "1008  2626.0  \n",
       "1009  2628.0  \n",
       "1010  4344.0  \n",
       "1011     NaN  "
      ]
     },
     "execution_count": 73,
     "metadata": {},
     "output_type": "execute_result"
    }
   ],
   "source": [
    "beachu.tail()"
   ]
  },
  {
   "cell_type": "code",
   "execution_count": 74,
   "id": "1844def7",
   "metadata": {},
   "outputs": [
    {
     "data": {
      "text/html": [
       "<div>\n",
       "<style scoped>\n",
       "    .dataframe tbody tr th:only-of-type {\n",
       "        vertical-align: middle;\n",
       "    }\n",
       "\n",
       "    .dataframe tbody tr th {\n",
       "        vertical-align: top;\n",
       "    }\n",
       "\n",
       "    .dataframe thead th {\n",
       "        text-align: right;\n",
       "    }\n",
       "</style>\n",
       "<table border=\"1\" class=\"dataframe\">\n",
       "  <thead>\n",
       "    <tr style=\"text-align: right;\">\n",
       "      <th></th>\n",
       "      <th>구분</th>\n",
       "      <th>평균</th>\n",
       "      <th>전통시장</th>\n",
       "      <th>유통업체</th>\n",
       "    </tr>\n",
       "  </thead>\n",
       "  <tbody>\n",
       "    <tr>\n",
       "      <th>102</th>\n",
       "      <td>소매가격  채소류,  배추,  전체,  상품,  1포기  기간별/일간/전통시장/유통...</td>\n",
       "      <td>NaN</td>\n",
       "      <td>NaN</td>\n",
       "      <td>NaN</td>\n",
       "    </tr>\n",
       "    <tr>\n",
       "      <th>209</th>\n",
       "      <td>소매가격  채소류,  배추,  전체,  상품,  1포기  기간별/일간/전통시장/유통...</td>\n",
       "      <td>NaN</td>\n",
       "      <td>NaN</td>\n",
       "      <td>NaN</td>\n",
       "    </tr>\n",
       "    <tr>\n",
       "      <th>253</th>\n",
       "      <td>소매가격  채소류,  배추,  전체,  상품,  1포기  기간별/일간/전통시장/유통...</td>\n",
       "      <td>NaN</td>\n",
       "      <td>NaN</td>\n",
       "      <td>NaN</td>\n",
       "    </tr>\n",
       "    <tr>\n",
       "      <th>356</th>\n",
       "      <td>소매가격  채소류,  배추,  전체,  상품,  1포기  기간별/일간/전통시장/유통...</td>\n",
       "      <td>NaN</td>\n",
       "      <td>NaN</td>\n",
       "      <td>NaN</td>\n",
       "    </tr>\n",
       "    <tr>\n",
       "      <th>461</th>\n",
       "      <td>소매가격  채소류,  배추,  전체,  상품,  1포기  기간별/일간/전통시장/유통...</td>\n",
       "      <td>NaN</td>\n",
       "      <td>NaN</td>\n",
       "      <td>NaN</td>\n",
       "    </tr>\n",
       "    <tr>\n",
       "      <th>507</th>\n",
       "      <td>소매가격  채소류,  배추,  전체,  상품,  1포기  기간별/일간/전통시장/유통...</td>\n",
       "      <td>NaN</td>\n",
       "      <td>NaN</td>\n",
       "      <td>NaN</td>\n",
       "    </tr>\n",
       "    <tr>\n",
       "      <th>610</th>\n",
       "      <td>소매가격  채소류,  배추,  전체,  상품,  1포기  기간별/일간/전통시장/유통...</td>\n",
       "      <td>NaN</td>\n",
       "      <td>NaN</td>\n",
       "      <td>NaN</td>\n",
       "    </tr>\n",
       "    <tr>\n",
       "      <th>714</th>\n",
       "      <td>소매가격  채소류,  배추,  전체,  상품,  1포기  기간별/일간/전통시장/유통...</td>\n",
       "      <td>NaN</td>\n",
       "      <td>NaN</td>\n",
       "      <td>NaN</td>\n",
       "    </tr>\n",
       "    <tr>\n",
       "      <th>759</th>\n",
       "      <td>소매가격  채소류,  배추,  전체,  상품,  1포기  기간별/일간/전통시장/유통...</td>\n",
       "      <td>NaN</td>\n",
       "      <td>NaN</td>\n",
       "      <td>NaN</td>\n",
       "    </tr>\n",
       "    <tr>\n",
       "      <th>863</th>\n",
       "      <td>소매가격  채소류,  배추,  전체,  상품,  1포기  기간별/일간/전통시장/유통...</td>\n",
       "      <td>NaN</td>\n",
       "      <td>NaN</td>\n",
       "      <td>NaN</td>\n",
       "    </tr>\n",
       "    <tr>\n",
       "      <th>968</th>\n",
       "      <td>소매가격  채소류,  배추,  전체,  상품,  1포기  기간별/일간/전통시장/유통...</td>\n",
       "      <td>NaN</td>\n",
       "      <td>NaN</td>\n",
       "      <td>NaN</td>\n",
       "    </tr>\n",
       "    <tr>\n",
       "      <th>1011</th>\n",
       "      <td>소매가격  채소류,  배추,  전체,  상품,  1포기  기간별/일간/전통시장/유통...</td>\n",
       "      <td>NaN</td>\n",
       "      <td>NaN</td>\n",
       "      <td>NaN</td>\n",
       "    </tr>\n",
       "  </tbody>\n",
       "</table>\n",
       "</div>"
      ],
      "text/plain": [
       "                                                     구분  평균  전통시장 유통업체\n",
       "102   소매가격  채소류,  배추,  전체,  상품,  1포기  기간별/일간/전통시장/유통... NaN   NaN  NaN\n",
       "209   소매가격  채소류,  배추,  전체,  상품,  1포기  기간별/일간/전통시장/유통... NaN   NaN  NaN\n",
       "253   소매가격  채소류,  배추,  전체,  상품,  1포기  기간별/일간/전통시장/유통... NaN   NaN  NaN\n",
       "356   소매가격  채소류,  배추,  전체,  상품,  1포기  기간별/일간/전통시장/유통... NaN   NaN  NaN\n",
       "461   소매가격  채소류,  배추,  전체,  상품,  1포기  기간별/일간/전통시장/유통... NaN   NaN  NaN\n",
       "507   소매가격  채소류,  배추,  전체,  상품,  1포기  기간별/일간/전통시장/유통... NaN   NaN  NaN\n",
       "610   소매가격  채소류,  배추,  전체,  상품,  1포기  기간별/일간/전통시장/유통... NaN   NaN  NaN\n",
       "714   소매가격  채소류,  배추,  전체,  상품,  1포기  기간별/일간/전통시장/유통... NaN   NaN  NaN\n",
       "759   소매가격  채소류,  배추,  전체,  상품,  1포기  기간별/일간/전통시장/유통... NaN   NaN  NaN\n",
       "863   소매가격  채소류,  배추,  전체,  상품,  1포기  기간별/일간/전통시장/유통... NaN   NaN  NaN\n",
       "968   소매가격  채소류,  배추,  전체,  상품,  1포기  기간별/일간/전통시장/유통... NaN   NaN  NaN\n",
       "1011  소매가격  채소류,  배추,  전체,  상품,  1포기  기간별/일간/전통시장/유통... NaN   NaN  NaN"
      ]
     },
     "execution_count": 74,
     "metadata": {},
     "output_type": "execute_result"
    }
   ],
   "source": [
    "beachu[beachu[\"평균\"].isna()]"
   ]
  },
  {
   "cell_type": "code",
   "execution_count": 75,
   "id": "66e0e6f3",
   "metadata": {},
   "outputs": [
    {
     "data": {
      "text/plain": [
       "구분      0.0\n",
       "평균      0.0\n",
       "전통시장    0.0\n",
       "유통업체    0.0\n",
       "dtype: float64"
      ]
     },
     "execution_count": 75,
     "metadata": {},
     "output_type": "execute_result"
    }
   ],
   "source": [
    "beachu.dropna(subset=\"평균\", inplace=True)\n",
    "beachu.isna().mean() * 100"
   ]
  },
  {
   "cell_type": "code",
   "execution_count": 76,
   "id": "45a21f52",
   "metadata": {},
   "outputs": [
    {
     "data": {
      "text/plain": [
       "(988, 4)"
      ]
     },
     "execution_count": 76,
     "metadata": {},
     "output_type": "execute_result"
    }
   ],
   "source": [
    "beachu.shape"
   ]
  },
  {
   "cell_type": "code",
   "execution_count": 77,
   "id": "4caebf2c",
   "metadata": {},
   "outputs": [],
   "source": [
    "from matplotlib.pyplot import plot\n",
    "import seaborn as sns"
   ]
  },
  {
   "cell_type": "code",
   "execution_count": 78,
   "id": "0c690803",
   "metadata": {},
   "outputs": [],
   "source": [
    "import matplotlib.pyplot as plt\n",
    "\n",
    "plt.rc(\"font\", family=\"Malgun Gothic\")  # Windows 기본 한글 폰트\n",
    "plt.rc(\"axes\", unicode_minus=False)  # 마이너스 부호 깨짐 방지"
   ]
  },
  {
   "cell_type": "code",
   "execution_count": 79,
   "id": "587bd285",
   "metadata": {},
   "outputs": [],
   "source": [
    "beachu[\"구분\" ] = pd.to_datetime(beachu[\"구분\"])"
   ]
  },
  {
   "cell_type": "code",
   "execution_count": 80,
   "id": "1a21396d",
   "metadata": {},
   "outputs": [
    {
     "data": {
      "text/plain": [
       "<Axes: xlabel='구분', ylabel='평균'>"
      ]
     },
     "execution_count": 80,
     "metadata": {},
     "output_type": "execute_result"
    },
    {
     "data": {
      "image/png": "[encoded data removed]",
      "text/plain": [
       "<Figure size 1000x500 with 1 Axes>"
      ]
     },
     "metadata": {},
     "output_type": "display_data"
    }
   ],
   "source": [
    "plt.figure(figsize=(10,5))\n",
    "sns.lineplot(data=beachu,x=\"구분\",y=\"평균\")"
   ]
  },
  {
   "cell_type": "code",
   "execution_count": 81,
   "id": "c0d8d5ba",
   "metadata": {},
   "outputs": [],
   "source": [
    "beachu[\"구분_dt\"] = pd.to_datetime(beachu[\"구분\"], format=\"%Y%m\")"
   ]
  },
  {
   "cell_type": "code",
   "execution_count": 83,
   "id": "1a943e58",
   "metadata": {},
   "outputs": [
    {
     "data": {
      "text/html": [
       "<div>\n",
       "<style scoped>\n",
       "    .dataframe tbody tr th:only-of-type {\n",
       "        vertical-align: middle;\n",
       "    }\n",
       "\n",
       "    .dataframe tbody tr th {\n",
       "        vertical-align: top;\n",
       "    }\n",
       "\n",
       "    .dataframe thead th {\n",
       "        text-align: right;\n",
       "    }\n",
       "</style>\n",
       "<table border=\"1\" class=\"dataframe\">\n",
       "  <thead>\n",
       "    <tr style=\"text-align: right;\">\n",
       "      <th></th>\n",
       "      <th>구분</th>\n",
       "      <th>평균</th>\n",
       "      <th>전통시장</th>\n",
       "      <th>유통업체</th>\n",
       "      <th>구분_dt</th>\n",
       "    </tr>\n",
       "  </thead>\n",
       "  <tbody>\n",
       "    <tr>\n",
       "      <th>508</th>\n",
       "      <td>2022-05-31</td>\n",
       "      <td>4020.0</td>\n",
       "      <td>4504.0</td>\n",
       "      <td>3683</td>\n",
       "      <td>2022-05-31</td>\n",
       "    </tr>\n",
       "    <tr>\n",
       "      <th>510</th>\n",
       "      <td>2022-05-30</td>\n",
       "      <td>4033.0</td>\n",
       "      <td>4537.0</td>\n",
       "      <td>3683</td>\n",
       "      <td>2022-05-30</td>\n",
       "    </tr>\n",
       "    <tr>\n",
       "      <th>511</th>\n",
       "      <td>2022-05-27</td>\n",
       "      <td>4005.0</td>\n",
       "      <td>4518.0</td>\n",
       "      <td>3648</td>\n",
       "      <td>2022-05-27</td>\n",
       "    </tr>\n",
       "    <tr>\n",
       "      <th>512</th>\n",
       "      <td>2022-05-26</td>\n",
       "      <td>4002.0</td>\n",
       "      <td>4511.0</td>\n",
       "      <td>3632</td>\n",
       "      <td>2022-05-26</td>\n",
       "    </tr>\n",
       "    <tr>\n",
       "      <th>513</th>\n",
       "      <td>2022-05-25</td>\n",
       "      <td>4000.0</td>\n",
       "      <td>4498.0</td>\n",
       "      <td>3653</td>\n",
       "      <td>2022-05-25</td>\n",
       "    </tr>\n",
       "    <tr>\n",
       "      <th>...</th>\n",
       "      <td>...</td>\n",
       "      <td>...</td>\n",
       "      <td>...</td>\n",
       "      <td>...</td>\n",
       "      <td>...</td>\n",
       "    </tr>\n",
       "    <tr>\n",
       "      <th>1006</th>\n",
       "      <td>2023-11-07</td>\n",
       "      <td>3466.0</td>\n",
       "      <td>4905.0</td>\n",
       "      <td>2672.0</td>\n",
       "      <td>2023-11-07</td>\n",
       "    </tr>\n",
       "    <tr>\n",
       "      <th>1007</th>\n",
       "      <td>2023-11-06</td>\n",
       "      <td>3517.0</td>\n",
       "      <td>5092.0</td>\n",
       "      <td>2584.0</td>\n",
       "      <td>2023-11-06</td>\n",
       "    </tr>\n",
       "    <tr>\n",
       "      <th>1008</th>\n",
       "      <td>2023-11-03</td>\n",
       "      <td>3611.0</td>\n",
       "      <td>5151.0</td>\n",
       "      <td>2626.0</td>\n",
       "      <td>2023-11-03</td>\n",
       "    </tr>\n",
       "    <tr>\n",
       "      <th>1009</th>\n",
       "      <td>2023-11-02</td>\n",
       "      <td>3604.0</td>\n",
       "      <td>5129.0</td>\n",
       "      <td>2628.0</td>\n",
       "      <td>2023-11-02</td>\n",
       "    </tr>\n",
       "    <tr>\n",
       "      <th>1010</th>\n",
       "      <td>2023-11-01</td>\n",
       "      <td>4704.0</td>\n",
       "      <td>5289.0</td>\n",
       "      <td>4344.0</td>\n",
       "      <td>2023-11-01</td>\n",
       "    </tr>\n",
       "  </tbody>\n",
       "</table>\n",
       "<p>492 rows × 5 columns</p>\n",
       "</div>"
      ],
      "text/plain": [
       "             구분      평균    전통시장    유통업체      구분_dt\n",
       "508  2022-05-31  4020.0  4504.0    3683 2022-05-31\n",
       "510  2022-05-30  4033.0  4537.0    3683 2022-05-30\n",
       "511  2022-05-27  4005.0  4518.0    3648 2022-05-27\n",
       "512  2022-05-26  4002.0  4511.0    3632 2022-05-26\n",
       "513  2022-05-25  4000.0  4498.0    3653 2022-05-25\n",
       "...         ...     ...     ...     ...        ...\n",
       "1006 2023-11-07  3466.0  4905.0  2672.0 2023-11-07\n",
       "1007 2023-11-06  3517.0  5092.0  2584.0 2023-11-06\n",
       "1008 2023-11-03  3611.0  5151.0  2626.0 2023-11-03\n",
       "1009 2023-11-02  3604.0  5129.0  2628.0 2023-11-02\n",
       "1010 2023-11-01  4704.0  5289.0  4344.0 2023-11-01\n",
       "\n",
       "[492 rows x 5 columns]"
      ]
     },
     "execution_count": 83,
     "metadata": {},
     "output_type": "execute_result"
    }
   ],
   "source": [
    "beachu[beachu[\"구분_dt\"] >= pd.to_datetime(\"202201\",format = \"%Y%m\")]"
   ]
  },
  {
   "cell_type": "code",
   "execution_count": null,
   "id": "54278516",
   "metadata": {},
   "outputs": [],
   "source": []
  },
  {
   "cell_type": "code",
   "execution_count": null,
   "id": "a00cd88a",
   "metadata": {},
   "outputs": [],
   "source": []
  }
 ],
 "metadata": {
  "kernelspec": {
   "display_name": ".venv",
   "language": "python",
   "name": "python3"
  },
  "language_info": {
   "codemirror_mode": {
    "name": "ipython",
    "version": 3
   },
   "file_extension": ".py",
   "mimetype": "text/x-python",
   "name": "python",
   "nbconvert_exporter": "python",
   "pygments_lexer": "ipython3",
   "version": "3.13.2"
  }
 },
 "nbformat": 4,
 "nbformat_minor": 5
}
