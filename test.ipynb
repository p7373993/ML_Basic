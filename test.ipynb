{
 "cells": [
  {
   "cell_type": "code",
   "execution_count": 2,
   "id": "e09ffbe4",
   "metadata": {},
   "outputs": [],
   "source": [
    "import pandas as pd\n",
    "from sklearn.naive_bayes import MultinomialNB\n",
    "from sklearn.model_selection import train_test_split\n",
    "from sklearn.metrics import root_mean_squared_error  # 루트 제곱 평균 오차\n",
    "from sklearn.metrics import mean_squared_error\n",
    "from sklearn.metrics import mean_absolute_error\n",
    "from sklearn.metrics import accuracy_score\n",
    "from sklearn.metrics import confusion_matrix\n",
    "import matplotlib.pyplot as plt\n",
    "import seaborn as sns\n",
    "import nltk  # 토큰화 불용어 처리\n"
   ]
  },
  {
   "cell_type": "code",
   "execution_count": 3,
   "id": "94ac46c3",
   "metadata": {},
   "outputs": [],
   "source": [
    "file_url = \"https://media.githubusercontent.com/media/musthave-ML10/data_source/main/salary.csv\""
   ]
  },
  {
   "cell_type": "code",
   "execution_count": 4,
   "id": "e2f8a5cd",
   "metadata": {},
   "outputs": [],
   "source": [
    "data = pd.read_csv(file_url)"
   ]
  },
  {
   "cell_type": "code",
   "execution_count": 5,
   "id": "3ca62e6b",
   "metadata": {},
   "outputs": [],
   "source": [
    "data.to_csv(\"./test.csv\")"
   ]
  }
 ],
 "metadata": {
  "kernelspec": {
   "display_name": ".venv",
   "language": "python",
   "name": "python3"
  },
  "language_info": {
   "codemirror_mode": {
    "name": "ipython",
    "version": 3
   },
   "file_extension": ".py",
   "mimetype": "text/x-python",
   "name": "python",
   "nbconvert_exporter": "python",
   "pygments_lexer": "ipython3",
   "version": "3.13.2"
  }
 },
 "nbformat": 4,
 "nbformat_minor": 5
}
